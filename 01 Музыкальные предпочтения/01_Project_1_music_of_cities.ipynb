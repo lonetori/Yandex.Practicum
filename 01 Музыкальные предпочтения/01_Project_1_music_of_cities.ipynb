{
 "cells": [
  {
   "cell_type": "markdown",
   "metadata": {
    "deletable": false,
    "editable": false,
    "id": "E0vqbgi9ay0H"
   },
   "source": [
    "# Яндекс Музыка"
   ]
  },
  {
   "cell_type": "markdown",
   "metadata": {
    "id": "VUC88oWjTJw2"
   },
   "source": [
    "Сравнение Москвы и Петербурга окружено мифами. Например:\n",
    " * Москва — мегаполис, подчинённый жёсткому ритму рабочей недели;\n",
    " * Петербург — культурная столица, со своими вкусами.\n",
    "\n",
    "На данных Яндекс Музыки сравним поведение пользователей двух столиц.\n",
    "\n",
    "**Цель исследования** — проверим три гипотезы:\n",
    "1. Активность пользователей зависит от дня недели. Причём в Москве и Петербурге это проявляется по-разному.\n",
    "2. В понедельник утром в Москве преобладают одни жанры, а в Петербурге — другие. Так же и вечером пятницы преобладают разные жанры — в зависимости от города.\n",
    "3. Москва и Петербург предпочитают разные жанры музыки. В Москве чаще слушают поп-музыку, в Петербурге — русский рэп.\n",
    "\n",
    "**Ход исследования**\n",
    "\n",
    "Данные о поведении пользователей получим из файла `yandex_music_project.csv`. О качестве данных ничего не известно. Поэтому перед проверкой гипотез понадобится обзор данных.\n",
    "\n",
    "Необходимо проверить данные на ошибки и оценить их влияние на исследование. Затем, на этапе предобработки нужно поискать возможность исправить самые критичные ошибки данных.\n",
    "\n",
    "Таким образом, исследование пройдёт в три этапа:\n",
    " 1. Обзор данных.\n",
    " 2. Предобработка данных.\n",
    " 3. Проверка гипотез.\n",
    "\n"
   ]
  },
  {
   "cell_type": "markdown",
   "metadata": {
    "deletable": false,
    "editable": false,
    "id": "Ml1hmfXC_Zcs"
   },
   "source": [
    "## Обзор данных\n",
    "\n",
    "Составим первое представление о данных Яндекс Музыки.\n",
    "\n",
    "\n"
   ]
  },
  {
   "cell_type": "code",
   "execution_count": 1,
   "metadata": {
    "deletable": false,
    "id": "AXN7PHPN_Zcs"
   },
   "outputs": [],
   "source": [
    "# импорт библиотек\n",
    "import pandas as pd"
   ]
  },
  {
   "cell_type": "code",
   "execution_count": 2,
   "metadata": {
    "deletable": false,
    "id": "fFVu7vqh_Zct"
   },
   "outputs": [],
   "source": [
    "# чтение файла с данными и сохранение в df\n",
    "df = pd.read_csv('yandex_music_project.csv')"
   ]
  },
  {
   "cell_type": "markdown",
   "metadata": {
    "deletable": false,
    "editable": false,
    "id": "rDoOMd3uTqnZ",
    "tags": [
     "start_task"
    ]
   },
   "source": [
    "Выведем на экран первые десять строк таблицы:"
   ]
  },
  {
   "cell_type": "code",
   "execution_count": 3,
   "metadata": {
    "colab": {
     "base_uri": "https://localhost:8080/",
     "height": 175
    },
    "deletable": false,
    "id": "oWTVX3gW_Zct",
    "outputId": "b50ae4e9-6474-47a2-abba-1cbe72f851e2"
   },
   "outputs": [
    {
     "data": {
      "text/html": [
       "<div>\n",
       "<style scoped>\n",
       "    .dataframe tbody tr th:only-of-type {\n",
       "        vertical-align: middle;\n",
       "    }\n",
       "\n",
       "    .dataframe tbody tr th {\n",
       "        vertical-align: top;\n",
       "    }\n",
       "\n",
       "    .dataframe thead th {\n",
       "        text-align: right;\n",
       "    }\n",
       "</style>\n",
       "<table border=\"1\" class=\"dataframe\">\n",
       "  <thead>\n",
       "    <tr style=\"text-align: right;\">\n",
       "      <th></th>\n",
       "      <th>userID</th>\n",
       "      <th>Track</th>\n",
       "      <th>artist</th>\n",
       "      <th>genre</th>\n",
       "      <th>City</th>\n",
       "      <th>time</th>\n",
       "      <th>Day</th>\n",
       "    </tr>\n",
       "  </thead>\n",
       "  <tbody>\n",
       "    <tr>\n",
       "      <th>0</th>\n",
       "      <td>FFB692EC</td>\n",
       "      <td>Kamigata To Boots</td>\n",
       "      <td>The Mass Missile</td>\n",
       "      <td>rock</td>\n",
       "      <td>Saint-Petersburg</td>\n",
       "      <td>20:28:33</td>\n",
       "      <td>Wednesday</td>\n",
       "    </tr>\n",
       "    <tr>\n",
       "      <th>1</th>\n",
       "      <td>55204538</td>\n",
       "      <td>Delayed Because of Accident</td>\n",
       "      <td>Andreas Rönnberg</td>\n",
       "      <td>rock</td>\n",
       "      <td>Moscow</td>\n",
       "      <td>14:07:09</td>\n",
       "      <td>Friday</td>\n",
       "    </tr>\n",
       "    <tr>\n",
       "      <th>2</th>\n",
       "      <td>20EC38</td>\n",
       "      <td>Funiculì funiculà</td>\n",
       "      <td>Mario Lanza</td>\n",
       "      <td>pop</td>\n",
       "      <td>Saint-Petersburg</td>\n",
       "      <td>20:58:07</td>\n",
       "      <td>Wednesday</td>\n",
       "    </tr>\n",
       "    <tr>\n",
       "      <th>3</th>\n",
       "      <td>A3DD03C9</td>\n",
       "      <td>Dragons in the Sunset</td>\n",
       "      <td>Fire + Ice</td>\n",
       "      <td>folk</td>\n",
       "      <td>Saint-Petersburg</td>\n",
       "      <td>08:37:09</td>\n",
       "      <td>Monday</td>\n",
       "    </tr>\n",
       "    <tr>\n",
       "      <th>4</th>\n",
       "      <td>E2DC1FAE</td>\n",
       "      <td>Soul People</td>\n",
       "      <td>Space Echo</td>\n",
       "      <td>dance</td>\n",
       "      <td>Moscow</td>\n",
       "      <td>08:34:34</td>\n",
       "      <td>Monday</td>\n",
       "    </tr>\n",
       "    <tr>\n",
       "      <th>5</th>\n",
       "      <td>842029A1</td>\n",
       "      <td>Преданная</td>\n",
       "      <td>IMPERVTOR</td>\n",
       "      <td>rusrap</td>\n",
       "      <td>Saint-Petersburg</td>\n",
       "      <td>13:09:41</td>\n",
       "      <td>Friday</td>\n",
       "    </tr>\n",
       "    <tr>\n",
       "      <th>6</th>\n",
       "      <td>4CB90AA5</td>\n",
       "      <td>True</td>\n",
       "      <td>Roman Messer</td>\n",
       "      <td>dance</td>\n",
       "      <td>Moscow</td>\n",
       "      <td>13:00:07</td>\n",
       "      <td>Wednesday</td>\n",
       "    </tr>\n",
       "    <tr>\n",
       "      <th>7</th>\n",
       "      <td>F03E1C1F</td>\n",
       "      <td>Feeling This Way</td>\n",
       "      <td>Polina Griffith</td>\n",
       "      <td>dance</td>\n",
       "      <td>Moscow</td>\n",
       "      <td>20:47:49</td>\n",
       "      <td>Wednesday</td>\n",
       "    </tr>\n",
       "    <tr>\n",
       "      <th>8</th>\n",
       "      <td>8FA1D3BE</td>\n",
       "      <td>И вновь продолжается бой</td>\n",
       "      <td>NaN</td>\n",
       "      <td>ruspop</td>\n",
       "      <td>Moscow</td>\n",
       "      <td>09:17:40</td>\n",
       "      <td>Friday</td>\n",
       "    </tr>\n",
       "    <tr>\n",
       "      <th>9</th>\n",
       "      <td>E772D5C0</td>\n",
       "      <td>Pessimist</td>\n",
       "      <td>NaN</td>\n",
       "      <td>dance</td>\n",
       "      <td>Saint-Petersburg</td>\n",
       "      <td>21:20:49</td>\n",
       "      <td>Wednesday</td>\n",
       "    </tr>\n",
       "  </tbody>\n",
       "</table>\n",
       "</div>"
      ],
      "text/plain": [
       "     userID                        Track            artist   genre  \\\n",
       "0  FFB692EC            Kamigata To Boots  The Mass Missile    rock   \n",
       "1  55204538  Delayed Because of Accident  Andreas Rönnberg    rock   \n",
       "2    20EC38            Funiculì funiculà       Mario Lanza     pop   \n",
       "3  A3DD03C9        Dragons in the Sunset        Fire + Ice    folk   \n",
       "4  E2DC1FAE                  Soul People        Space Echo   dance   \n",
       "5  842029A1                    Преданная         IMPERVTOR  rusrap   \n",
       "6  4CB90AA5                         True      Roman Messer   dance   \n",
       "7  F03E1C1F             Feeling This Way   Polina Griffith   dance   \n",
       "8  8FA1D3BE     И вновь продолжается бой               NaN  ruspop   \n",
       "9  E772D5C0                    Pessimist               NaN   dance   \n",
       "\n",
       "             City        time        Day  \n",
       "0  Saint-Petersburg  20:28:33  Wednesday  \n",
       "1            Moscow  14:07:09     Friday  \n",
       "2  Saint-Petersburg  20:58:07  Wednesday  \n",
       "3  Saint-Petersburg  08:37:09     Monday  \n",
       "4            Moscow  08:34:34     Monday  \n",
       "5  Saint-Petersburg  13:09:41     Friday  \n",
       "6            Moscow  13:00:07  Wednesday  \n",
       "7            Moscow  20:47:49  Wednesday  \n",
       "8            Moscow  09:17:40     Friday  \n",
       "9  Saint-Petersburg  21:20:49  Wednesday  "
      ]
     },
     "execution_count": 3,
     "metadata": {},
     "output_type": "execute_result"
    }
   ],
   "source": [
    "df.head(10)"
   ]
  },
  {
   "cell_type": "markdown",
   "metadata": {
    "deletable": false,
    "editable": false,
    "id": "EO73Kwic_Zct",
    "tags": [
     "start_task"
    ]
   },
   "source": [
    "Получим общую информацию о таблице c помощью метода `info()`:"
   ]
  },
  {
   "cell_type": "code",
   "execution_count": 4,
   "metadata": {
    "deletable": false,
    "id": "DSf2kIb-_Zct",
    "outputId": "c402626d-7f46-435a-acbc-b1c69bfffc46"
   },
   "outputs": [
    {
     "name": "stdout",
     "output_type": "stream",
     "text": [
      "<class 'pandas.core.frame.DataFrame'>\n",
      "RangeIndex: 65079 entries, 0 to 65078\n",
      "Data columns (total 7 columns):\n",
      " #   Column    Non-Null Count  Dtype \n",
      "---  ------    --------------  ----- \n",
      " 0     userID  65079 non-null  object\n",
      " 1   Track     63848 non-null  object\n",
      " 2   artist    57876 non-null  object\n",
      " 3   genre     63881 non-null  object\n",
      " 4     City    65079 non-null  object\n",
      " 5   time      65079 non-null  object\n",
      " 6   Day       65079 non-null  object\n",
      "dtypes: object(7)\n",
      "memory usage: 3.5+ MB\n"
     ]
    }
   ],
   "source": [
    "df.info() # получение общей информации о данных в таблице df"
   ]
  },
  {
   "cell_type": "markdown",
   "metadata": {
    "deletable": false,
    "editable": false,
    "id": "TaQ2Iwbr_Zct"
   },
   "source": [
    "В таблице семь столбцов. Тип данных во всех столбцах — `object`.\n",
    "\n",
    "Согласно документации к данным:\n",
    "* `userID` — идентификатор пользователя;\n",
    "* `Track` — название трека;  \n",
    "* `artist` — имя исполнителя;\n",
    "* `genre` — название жанра;\n",
    "* `City` — город пользователя;\n",
    "* `time` — время начала прослушивания;\n",
    "* `Day` — день недели.\n",
    "\n",
    "Количество значений в столбцах различается. Значит, в данных есть пропущенные значения."
   ]
  },
  {
   "cell_type": "markdown",
   "metadata": {
    "deletable": false,
    "editable": false,
    "id": "rAfziTBDmf2h",
    "tags": [
     "start_task"
    ]
   },
   "source": [
    "В названиях колонок видны нарушения стиля:\n",
    "* Строчные буквы сочетаются с прописными.\n",
    "* Встречаются пробелы.\n",
    "* userID слитно.\n"
   ]
  },
  {
   "cell_type": "markdown",
   "metadata": {
    "deletable": false,
    "editable": false,
    "id": "MCB6-dXG_Zct"
   },
   "source": [
    "**Выводы**\n",
    "\n",
    "В каждой строке таблицы — данные о прослушанном треке. Часть колонок описывает саму композицию: название, исполнителя и жанр. Остальные данные рассказывают о пользователе: из какого он города, когда он слушал музыку.\n",
    "\n",
    "Предварительно можно утверждать, что данных достаточно для проверки гипотез. Но встречаются пропуски в данных, а в названиях колонок — расхождения с хорошим стилем.\n",
    "\n",
    "Чтобы двигаться дальше, нужно устранить проблемы в данных."
   ]
  },
  {
   "cell_type": "markdown",
   "metadata": {
    "deletable": false,
    "editable": false,
    "id": "SjYF6Ub9_Zct"
   },
   "source": [
    "## Предобработка данных\n",
    "Исправим стиль в заголовках столбцов, исключим пропуски. Затем проверим данные на дубликаты."
   ]
  },
  {
   "cell_type": "markdown",
   "metadata": {
    "deletable": false,
    "editable": false,
    "id": "dIaKXr29_Zct",
    "tags": [
     "start_task"
    ]
   },
   "source": [
    "### Стиль заголовков"
   ]
  },
  {
   "cell_type": "code",
   "execution_count": 5,
   "metadata": {
    "deletable": false,
    "id": "oKOTdF_Q_Zct",
    "outputId": "0e96574f-3fb5-4f23-e6b9-77166c296a74"
   },
   "outputs": [
    {
     "data": {
      "text/plain": [
       "Index(['  userID', 'Track', 'artist', 'genre', '  City  ', 'time', 'Day'], dtype='object')"
      ]
     },
     "execution_count": 5,
     "metadata": {},
     "output_type": "execute_result"
    }
   ],
   "source": [
    "# перечень названий столбцов таблицы df\n",
    "df.columns"
   ]
  },
  {
   "cell_type": "markdown",
   "metadata": {
    "deletable": false,
    "editable": false,
    "id": "zj5534cv_Zct",
    "tags": [
     "start_task"
    ]
   },
   "source": [
    "Приведем названия в соответствие с хорошим стилем:\n",
    "* несколько слов в названии запишем в «змеином_регистре»,\n",
    "* все символы сделаем строчными,\n",
    "* устраним пробелы.\n",
    "\n",
    "Переименуем колонки:\n",
    "* `'  userID'` → `'user_id'`;\n",
    "* `'Track'` → `'track'`;\n",
    "* `'  City  '` → `'city'`;\n",
    "* `'Day'` → `'day'`."
   ]
  },
  {
   "cell_type": "code",
   "execution_count": 6,
   "metadata": {
    "deletable": false,
    "id": "ISlFqs5y_Zct"
   },
   "outputs": [],
   "source": [
    "# переименование столбцов\n",
    "df = df.rename(columns={'  userID': 'user_id', 'Track': 'track',\n",
    "                        '  City  ': 'city', 'Day': 'day'})"
   ]
  },
  {
   "cell_type": "markdown",
   "metadata": {
    "deletable": false,
    "editable": false,
    "id": "1dqbh00J_Zct",
    "tags": [
     "start_task"
    ]
   },
   "source": [
    "Проверим результат."
   ]
  },
  {
   "cell_type": "code",
   "execution_count": 7,
   "metadata": {
    "deletable": false,
    "id": "d4NOAmTW_Zct",
    "outputId": "f1d41f9c-02be-4a7c-e1db-07e664820401"
   },
   "outputs": [
    {
     "data": {
      "text/plain": [
       "Index(['user_id', 'track', 'artist', 'genre', 'city', 'time', 'day'], dtype='object')"
      ]
     },
     "execution_count": 7,
     "metadata": {},
     "output_type": "execute_result"
    }
   ],
   "source": [
    "df.columns # проверка результатов - перечень названий столбцов"
   ]
  },
  {
   "cell_type": "markdown",
   "metadata": {
    "deletable": false,
    "editable": false,
    "id": "5ISfbcfY_Zct",
    "tags": [
     "start_task"
    ]
   },
   "source": [
    "### Пропуски значений\n",
    "\n",
    "Сначала посчитаем, сколько в таблице пропущенных значений."
   ]
  },
  {
   "cell_type": "code",
   "execution_count": 8,
   "metadata": {
    "deletable": false,
    "id": "RskX29qr_Zct",
    "outputId": "8fb61b56-6cf6-4294-8841-d15bb982a630"
   },
   "outputs": [
    {
     "data": {
      "text/plain": [
       "user_id       0\n",
       "track      1231\n",
       "artist     7203\n",
       "genre      1198\n",
       "city          0\n",
       "time          0\n",
       "day           0\n",
       "dtype: int64"
      ]
     },
     "execution_count": 8,
     "metadata": {},
     "output_type": "execute_result"
    }
   ],
   "source": [
    "df.isna().sum() # подсчёт пропусков"
   ]
  },
  {
   "cell_type": "markdown",
   "metadata": {
    "deletable": false,
    "editable": false,
    "id": "qubhgnlO_Zct"
   },
   "source": [
    "Не все пропущенные значения влияют на исследование. Так в `track` и `artist` пропуски не важны для нашей работы. Достаточно заменить их явными обозначениями.\n",
    "\n",
    "Но пропуски в `genre` могут помешать сравнению музыкальных вкусов в Москве и Санкт-Петербурге. Было бы правильно установить причину пропусков и восстановить данные. Такой возможности у нас нет, поэтому:\n",
    "* заполним эти пропуски явными обозначениями;\n",
    "* оценим, насколько они повредят расчётам."
   ]
  },
  {
   "cell_type": "markdown",
   "metadata": {
    "deletable": false,
    "editable": false,
    "id": "fSv2laPA_Zct",
    "tags": [
     "start_task"
    ]
   },
   "source": [
    "Заменим пропущенные значения в столбцах `track`, `artist` и `genre` на строку `'unknown'`."
   ]
  },
  {
   "cell_type": "code",
   "execution_count": 9,
   "metadata": {
    "deletable": false,
    "id": "KplB5qWs_Zct"
   },
   "outputs": [],
   "source": [
    "# перебор названий столбцов в цикле и замена пропущенных значений на 'unknown'\n",
    "for column in ['track', 'artist', 'genre']:\n",
    "    df[column] = df[column].fillna('unknown')"
   ]
  },
  {
   "cell_type": "markdown",
   "metadata": {
    "deletable": false,
    "editable": false,
    "id": "Ilsm-MZo_Zct",
    "tags": [
     "start_task"
    ]
   },
   "source": [
    "Убедимся, что в таблице не осталось пропусков."
   ]
  },
  {
   "cell_type": "code",
   "execution_count": 10,
   "metadata": {
    "deletable": false,
    "id": "Tq4nYRX4_Zct",
    "outputId": "436763fd-252a-4781-e9b4-5fcaee2143ec"
   },
   "outputs": [
    {
     "data": {
      "text/plain": [
       "user_id    0\n",
       "track      0\n",
       "artist     0\n",
       "genre      0\n",
       "city       0\n",
       "time       0\n",
       "day        0\n",
       "dtype: int64"
      ]
     },
     "execution_count": 10,
     "metadata": {},
     "output_type": "execute_result"
    }
   ],
   "source": [
    "df.isna().sum() # подсчёт пропусков"
   ]
  },
  {
   "cell_type": "markdown",
   "metadata": {
    "deletable": false,
    "editable": false,
    "id": "BWKRtBJ3_Zct",
    "tags": [
     "start_task"
    ]
   },
   "source": [
    "### Дубликаты\n",
    "\n",
    "Посчитаем явные дубликаты в таблице:"
   ]
  },
  {
   "cell_type": "code",
   "execution_count": 11,
   "metadata": {
    "deletable": false,
    "id": "36eES_S0_Zct",
    "outputId": "81543b52-da11-40bf-921d-bdfa4da21bca"
   },
   "outputs": [
    {
     "data": {
      "text/plain": [
       "3826"
      ]
     },
     "execution_count": 11,
     "metadata": {},
     "output_type": "execute_result"
    }
   ],
   "source": [
    "df.duplicated().sum() # подсчёт явных дубликатов"
   ]
  },
  {
   "cell_type": "markdown",
   "metadata": {
    "deletable": false,
    "editable": false,
    "id": "Ot25h6XR_Zct",
    "tags": [
     "start_task"
    ]
   },
   "source": [
    "Удалим явные дубликаты:"
   ]
  },
  {
   "cell_type": "code",
   "execution_count": 12,
   "metadata": {
    "deletable": false,
    "id": "exFHq6tt_Zct"
   },
   "outputs": [],
   "source": [
    "df = df.drop_duplicates() # удаление явных дубликатов"
   ]
  },
  {
   "cell_type": "markdown",
   "metadata": {
    "deletable": false,
    "editable": false,
    "id": "Im2YwBEG_Zct",
    "tags": [
     "start_task"
    ]
   },
   "source": [
    "Убедимся, что полностью от них избавились:"
   ]
  },
  {
   "cell_type": "code",
   "execution_count": 13,
   "metadata": {
    "deletable": false,
    "id": "-8PuNWQ0_Zct",
    "outputId": "8771b489-97e0-4537-cbff-f96501945073"
   },
   "outputs": [
    {
     "data": {
      "text/plain": [
       "0"
      ]
     },
     "execution_count": 13,
     "metadata": {},
     "output_type": "execute_result"
    }
   ],
   "source": [
    "df.duplicated().sum() # проверка на отсутствие дубликатов"
   ]
  },
  {
   "cell_type": "markdown",
   "metadata": {
    "deletable": false,
    "editable": false,
    "id": "QlFBsxAr_Zct"
   },
   "source": [
    "Теперь избавимся от неявных дубликатов в колонке `genre`. Например, название одного и того же жанра может быть записано немного по-разному. Такие ошибки тоже повлияют на результат исследования."
   ]
  },
  {
   "cell_type": "markdown",
   "metadata": {
    "deletable": false,
    "editable": false,
    "id": "eSjWwsOh_Zct",
    "tags": [
     "start_task"
    ]
   },
   "source": [
    "Выведем на экран список уникальных названий жанров, отсортированный в алфавитном порядке."
   ]
  },
  {
   "cell_type": "code",
   "execution_count": 14,
   "metadata": {
    "deletable": false,
    "id": "JIUcqzZN_Zct",
    "outputId": "48b6d093-ba96-48f0-fb52-5648b7f9b3c4"
   },
   "outputs": [
    {
     "data": {
      "text/plain": [
       "array(['acid', 'acoustic', 'action', 'adult', 'africa', 'afrikaans',\n",
       "       'alternative', 'alternativepunk', 'ambient', 'americana',\n",
       "       'animated', 'anime', 'arabesk', 'arabic', 'arena',\n",
       "       'argentinetango', 'art', 'audiobook', 'author', 'avantgarde',\n",
       "       'axé', 'baile', 'balkan', 'beats', 'bigroom', 'black', 'bluegrass',\n",
       "       'blues', 'bollywood', 'bossa', 'brazilian', 'breakbeat', 'breaks',\n",
       "       'broadway', 'cantautori', 'cantopop', 'canzone', 'caribbean',\n",
       "       'caucasian', 'celtic', 'chamber', 'chanson', 'children', 'chill',\n",
       "       'chinese', 'choral', 'christian', 'christmas', 'classical',\n",
       "       'classicmetal', 'club', 'colombian', 'comedy', 'conjazz',\n",
       "       'contemporary', 'country', 'cuban', 'dance', 'dancehall',\n",
       "       'dancepop', 'dark', 'death', 'deep', 'deutschrock', 'deutschspr',\n",
       "       'dirty', 'disco', 'dnb', 'documentary', 'downbeat', 'downtempo',\n",
       "       'drum', 'dub', 'dubstep', 'eastern', 'easy', 'electronic',\n",
       "       'electropop', 'emo', 'entehno', 'epicmetal', 'estrada', 'ethnic',\n",
       "       'eurofolk', 'european', 'experimental', 'extrememetal', 'fado',\n",
       "       'fairytail', 'film', 'fitness', 'flamenco', 'folk', 'folklore',\n",
       "       'folkmetal', 'folkrock', 'folktronica', 'forró', 'frankreich',\n",
       "       'französisch', 'french', 'funk', 'future', 'gangsta', 'garage',\n",
       "       'german', 'ghazal', 'gitarre', 'glitch', 'gospel', 'gothic',\n",
       "       'grime', 'grunge', 'gypsy', 'handsup', \"hard'n'heavy\", 'hardcore',\n",
       "       'hardstyle', 'hardtechno', 'hip', 'hip-hop', 'hiphop',\n",
       "       'historisch', 'holiday', 'hop', 'horror', 'house', 'hymn', 'idm',\n",
       "       'independent', 'indian', 'indie', 'indipop', 'industrial',\n",
       "       'inspirational', 'instrumental', 'international', 'irish', 'jam',\n",
       "       'japanese', 'jazz', 'jewish', 'jpop', 'jungle', 'k-pop',\n",
       "       'karadeniz', 'karaoke', 'kayokyoku', 'korean', 'laiko', 'latin',\n",
       "       'latino', 'leftfield', 'local', 'lounge', 'loungeelectronic',\n",
       "       'lovers', 'malaysian', 'mandopop', 'marschmusik', 'meditative',\n",
       "       'mediterranean', 'melodic', 'metal', 'metalcore', 'mexican',\n",
       "       'middle', 'minimal', 'miscellaneous', 'modern', 'mood', 'mpb',\n",
       "       'muslim', 'native', 'neoklassik', 'neue', 'new', 'newage',\n",
       "       'newwave', 'nu', 'nujazz', 'numetal', 'oceania', 'old', 'opera',\n",
       "       'orchestral', 'other', 'piano', 'podcasts', 'pop', 'popdance',\n",
       "       'popelectronic', 'popeurodance', 'poprussian', 'post',\n",
       "       'posthardcore', 'postrock', 'power', 'progmetal', 'progressive',\n",
       "       'psychedelic', 'punjabi', 'punk', 'quebecois', 'ragga', 'ram',\n",
       "       'rancheras', 'rap', 'rave', 'reggae', 'reggaeton', 'regional',\n",
       "       'relax', 'religious', 'retro', 'rhythm', 'rnb', 'rnr', 'rock',\n",
       "       'rockabilly', 'rockalternative', 'rockindie', 'rockother',\n",
       "       'romance', 'roots', 'ruspop', 'rusrap', 'rusrock', 'russian',\n",
       "       'salsa', 'samba', 'scenic', 'schlager', 'self', 'sertanejo',\n",
       "       'shanson', 'shoegazing', 'showtunes', 'singer', 'ska', 'skarock',\n",
       "       'slow', 'smooth', 'soft', 'soul', 'soulful', 'sound', 'soundtrack',\n",
       "       'southern', 'specialty', 'speech', 'spiritual', 'sport',\n",
       "       'stonerrock', 'surf', 'swing', 'synthpop', 'synthrock',\n",
       "       'sängerportrait', 'tango', 'tanzorchester', 'taraftar', 'tatar',\n",
       "       'tech', 'techno', 'teen', 'thrash', 'top', 'traditional',\n",
       "       'tradjazz', 'trance', 'tribal', 'trip', 'triphop', 'tropical',\n",
       "       'türk', 'türkçe', 'ukrrock', 'unknown', 'urban', 'uzbek',\n",
       "       'variété', 'vi', 'videogame', 'vocal', 'western', 'world',\n",
       "       'worldbeat', 'ïîï', 'электроника'], dtype=object)"
      ]
     },
     "execution_count": 14,
     "metadata": {},
     "output_type": "execute_result"
    }
   ],
   "source": [
    "# Просмотр уникальных названий жанров\n",
    "genre_column = df['genre']\n",
    "genre_column = genre_column.sort_values()\n",
    "genre_column.unique()"
   ]
  },
  {
   "cell_type": "markdown",
   "metadata": {
    "deletable": false,
    "editable": false,
    "id": "qej-Qmuo_Zct",
    "tags": [
     "start_task"
    ]
   },
   "source": [
    "Просмотрим список и найдем неявные дубликаты названия `hiphop`. Это могут быть названия с ошибками или альтернативные названия того же жанра.\n",
    "\n",
    "Увидели следующие неявные дубликаты:\n",
    "* *hip*,\n",
    "* *hop*,\n",
    "* *hip-hop*.\n",
    "\n",
    "Чтобы очистить от них таблицу используем метод `replace()`:"
   ]
  },
  {
   "cell_type": "code",
   "execution_count": 15,
   "metadata": {
    "deletable": false,
    "id": "ErNDkmns_Zct"
   },
   "outputs": [],
   "source": [
    "# Устранение неявных дубликатов\n",
    "df['genre'] = df['genre'].replace('hip', 'hiphop')\n",
    "df['genre'] = df['genre'].replace('hop', 'hiphop')\n",
    "df['genre'] = df['genre'].replace('hip-hop', 'hiphop')"
   ]
  },
  {
   "cell_type": "markdown",
   "metadata": {
    "deletable": false,
    "editable": false,
    "id": "zQKF16_RG15m",
    "tags": [
     "start_task"
    ]
   },
   "source": [
    "Проверим, что заменили неправильные названия:\n",
    "\n",
    "*   hip,\n",
    "*   hop,\n",
    "*   hip-hop."
   ]
  },
  {
   "cell_type": "code",
   "execution_count": 16,
   "metadata": {
    "deletable": false,
    "id": "wvixALnFG15m",
    "outputId": "aa43e9db-55a6-4c6f-adcf-c5c69af8705b"
   },
   "outputs": [
    {
     "data": {
      "text/plain": [
       "array(['acid', 'acoustic', 'action', 'adult', 'africa', 'afrikaans',\n",
       "       'alternative', 'alternativepunk', 'ambient', 'americana',\n",
       "       'animated', 'anime', 'arabesk', 'arabic', 'arena',\n",
       "       'argentinetango', 'art', 'audiobook', 'author', 'avantgarde',\n",
       "       'axé', 'baile', 'balkan', 'beats', 'bigroom', 'black', 'bluegrass',\n",
       "       'blues', 'bollywood', 'bossa', 'brazilian', 'breakbeat', 'breaks',\n",
       "       'broadway', 'cantautori', 'cantopop', 'canzone', 'caribbean',\n",
       "       'caucasian', 'celtic', 'chamber', 'chanson', 'children', 'chill',\n",
       "       'chinese', 'choral', 'christian', 'christmas', 'classical',\n",
       "       'classicmetal', 'club', 'colombian', 'comedy', 'conjazz',\n",
       "       'contemporary', 'country', 'cuban', 'dance', 'dancehall',\n",
       "       'dancepop', 'dark', 'death', 'deep', 'deutschrock', 'deutschspr',\n",
       "       'dirty', 'disco', 'dnb', 'documentary', 'downbeat', 'downtempo',\n",
       "       'drum', 'dub', 'dubstep', 'eastern', 'easy', 'electronic',\n",
       "       'electropop', 'emo', 'entehno', 'epicmetal', 'estrada', 'ethnic',\n",
       "       'eurofolk', 'european', 'experimental', 'extrememetal', 'fado',\n",
       "       'fairytail', 'film', 'fitness', 'flamenco', 'folk', 'folklore',\n",
       "       'folkmetal', 'folkrock', 'folktronica', 'forró', 'frankreich',\n",
       "       'französisch', 'french', 'funk', 'future', 'gangsta', 'garage',\n",
       "       'german', 'ghazal', 'gitarre', 'glitch', 'gospel', 'gothic',\n",
       "       'grime', 'grunge', 'gypsy', 'handsup', \"hard'n'heavy\", 'hardcore',\n",
       "       'hardstyle', 'hardtechno', 'hiphop', 'historisch', 'holiday',\n",
       "       'horror', 'house', 'hymn', 'idm', 'independent', 'indian', 'indie',\n",
       "       'indipop', 'industrial', 'inspirational', 'instrumental',\n",
       "       'international', 'irish', 'jam', 'japanese', 'jazz', 'jewish',\n",
       "       'jpop', 'jungle', 'k-pop', 'karadeniz', 'karaoke', 'kayokyoku',\n",
       "       'korean', 'laiko', 'latin', 'latino', 'leftfield', 'local',\n",
       "       'lounge', 'loungeelectronic', 'lovers', 'malaysian', 'mandopop',\n",
       "       'marschmusik', 'meditative', 'mediterranean', 'melodic', 'metal',\n",
       "       'metalcore', 'mexican', 'middle', 'minimal', 'miscellaneous',\n",
       "       'modern', 'mood', 'mpb', 'muslim', 'native', 'neoklassik', 'neue',\n",
       "       'new', 'newage', 'newwave', 'nu', 'nujazz', 'numetal', 'oceania',\n",
       "       'old', 'opera', 'orchestral', 'other', 'piano', 'podcasts', 'pop',\n",
       "       'popdance', 'popelectronic', 'popeurodance', 'poprussian', 'post',\n",
       "       'posthardcore', 'postrock', 'power', 'progmetal', 'progressive',\n",
       "       'psychedelic', 'punjabi', 'punk', 'quebecois', 'ragga', 'ram',\n",
       "       'rancheras', 'rap', 'rave', 'reggae', 'reggaeton', 'regional',\n",
       "       'relax', 'religious', 'retro', 'rhythm', 'rnb', 'rnr', 'rock',\n",
       "       'rockabilly', 'rockalternative', 'rockindie', 'rockother',\n",
       "       'romance', 'roots', 'ruspop', 'rusrap', 'rusrock', 'russian',\n",
       "       'salsa', 'samba', 'scenic', 'schlager', 'self', 'sertanejo',\n",
       "       'shanson', 'shoegazing', 'showtunes', 'singer', 'ska', 'skarock',\n",
       "       'slow', 'smooth', 'soft', 'soul', 'soulful', 'sound', 'soundtrack',\n",
       "       'southern', 'specialty', 'speech', 'spiritual', 'sport',\n",
       "       'stonerrock', 'surf', 'swing', 'synthpop', 'synthrock',\n",
       "       'sängerportrait', 'tango', 'tanzorchester', 'taraftar', 'tatar',\n",
       "       'tech', 'techno', 'teen', 'thrash', 'top', 'traditional',\n",
       "       'tradjazz', 'trance', 'tribal', 'trip', 'triphop', 'tropical',\n",
       "       'türk', 'türkçe', 'ukrrock', 'unknown', 'urban', 'uzbek',\n",
       "       'variété', 'vi', 'videogame', 'vocal', 'western', 'world',\n",
       "       'worldbeat', 'ïîï', 'электроника'], dtype=object)"
      ]
     },
     "execution_count": 16,
     "metadata": {},
     "output_type": "execute_result"
    }
   ],
   "source": [
    "df['genre'].sort_values().unique() # Проверка на неявные дубликаты"
   ]
  },
  {
   "cell_type": "markdown",
   "metadata": {
    "deletable": false,
    "editable": false,
    "id": "jz6a9-7HQUDd"
   },
   "source": [
    "**Выводы**\n",
    "\n",
    "Предобработка обнаружила три проблемы в данных:\n",
    "\n",
    "- нарушения в стиле заголовков,\n",
    "- пропущенные значения,\n",
    "- дубликаты — явные и неявные.\n",
    "\n",
    "Мы исправили заголовки, чтобы упростить работу с таблицей. Без дубликатов исследование станет более точным.\n",
    "\n",
    "Пропущенные значения заменили на `'unknown'`. Ещё предстоит увидеть, не повредят ли исследованию пропуски в колонке `genre`.\n",
    "\n",
    "Теперь можно перейти к проверке гипотез."
   ]
  },
  {
   "cell_type": "markdown",
   "metadata": {
    "deletable": false,
    "editable": false,
    "id": "WttZHXH0SqKk"
   },
   "source": [
    "## Проверка гипотез"
   ]
  },
  {
   "cell_type": "markdown",
   "metadata": {
    "deletable": false,
    "editable": false,
    "id": "Im936VVi_Zcu"
   },
   "source": [
    "### Сравнение поведения пользователей двух столиц"
   ]
  },
  {
   "cell_type": "markdown",
   "metadata": {
    "deletable": false,
    "editable": false,
    "id": "nwt_MuaL_Zcu"
   },
   "source": [
    "Первая гипотеза утверждает, что пользователи по-разному слушают музыку в Москве и Санкт-Петербурге. Проверим это предположение по данным о трёх днях недели — понедельнике, среде и пятнице. Для этого:\n",
    "\n",
    "* Разделим пользователей Москвы и Санкт-Петербурга.\n",
    "* Сравним, сколько треков послушала каждая группа пользователей в понедельник, среду и пятницу.\n"
   ]
  },
  {
   "cell_type": "markdown",
   "metadata": {
    "deletable": false,
    "editable": false,
    "id": "8Dw_YMmT_Zcu",
    "tags": [
     "start_task"
    ]
   },
   "source": [
    "Сначала выполним каждый из расчётов по отдельности.\n",
    "\n",
    "Оценим активность пользователей в каждом городе. Сгруппируем данные по городу и посчитаем прослушивания в каждой группе.\n",
    "\n"
   ]
  },
  {
   "cell_type": "code",
   "execution_count": 17,
   "metadata": {
    "deletable": false,
    "id": "0_Qs96oh_Zcu",
    "outputId": "d0e2489c-a278-4c89-db91-b75db6da8613"
   },
   "outputs": [
    {
     "data": {
      "text/plain": [
       "city\n",
       "Moscow              42741\n",
       "Saint-Petersburg    18512\n",
       "Name: track, dtype: int64"
      ]
     },
     "execution_count": 17,
     "metadata": {},
     "output_type": "execute_result"
    }
   ],
   "source": [
    "# Подсчёт прослушиваний в каждом городе\n",
    "df.groupby('city')['track'].count()"
   ]
  },
  {
   "cell_type": "markdown",
   "metadata": {
    "deletable": false,
    "editable": false,
    "id": "dzli3w8o_Zcu",
    "tags": [
     "start_task"
    ]
   },
   "source": [
    "В Москве прослушиваний больше, чем в Петербурге. Из этого не следует, что московские пользователи чаще слушают музыку. Просто самих пользователей в Москве больше.\n",
    "\n",
    "\n",
    "Теперь сгруппируем данные по дню недели и посчитаем прослушивания в понедельник, среду и пятницу. Учтем, что в данных есть информация о прослушиваниях только за эти дни.\n"
   ]
  },
  {
   "cell_type": "code",
   "execution_count": 18,
   "metadata": {
    "deletable": false,
    "id": "uZMKjiJz_Zcu",
    "outputId": "50640ba7-0f6a-4c32-f815-60247e70e3b7"
   },
   "outputs": [
    {
     "data": {
      "text/plain": [
       "day\n",
       "Friday       21840\n",
       "Monday       21354\n",
       "Wednesday    18059\n",
       "Name: track, dtype: int64"
      ]
     },
     "execution_count": 18,
     "metadata": {},
     "output_type": "execute_result"
    }
   ],
   "source": [
    "# Подсчёт прослушиваний в каждый из трёх дней\n",
    "df.groupby('day')['track'].count()"
   ]
  },
  {
   "cell_type": "markdown",
   "metadata": {
    "deletable": false,
    "editable": false,
    "id": "cC2tNrlL_Zcu"
   },
   "source": [
    "В среднем пользователи из двух городов менее активны по средам. Но картина может измениться, если рассмотреть каждый город в отдельности."
   ]
  },
  {
   "cell_type": "markdown",
   "metadata": {
    "deletable": false,
    "editable": false,
    "id": "POzs8bGa_Zcu",
    "tags": [
     "start_task"
    ]
   },
   "source": [
    "Напишем функцию, которая объединит группировку по городу и по дням недели.\n",
    "\n",
    "Создадим функцию `number_tracks()`, которая посчитает прослушивания для заданного дня и города. Ей понадобятся два параметра:\n",
    "* день недели,\n",
    "* название города.\n",
    "\n",
    "В функции сохраним в переменную строки исходной таблицы, у которых значение:\n",
    "  * в колонке `day` равно параметру `day`,\n",
    "  * в колонке `city` равно параметру `city`."
   ]
  },
  {
   "cell_type": "code",
   "execution_count": 19,
   "metadata": {
    "deletable": false,
    "id": "Nz3GdQB1_Zcu"
   },
   "outputs": [],
   "source": [
    "# <создание функции number_tracks()>\n",
    "def number_tracks(day, city): # Объявляется функция с двумя параметрами: day, city.\n",
    "# В переменной track_list сохраняются те строки таблицы df, для которых\n",
    "# значение в столбце 'day' равно параметру day и одновременно значение\n",
    "# в столбце 'city' равно параметру city.\n",
    "    track_list = df.query('day == @day and city == @city')\n",
    "# В переменной track_list_count сохраняется число значений столбца 'user_id',\n",
    "# рассчитанное методом count() для таблицы track_list.\n",
    "    track_list_count = track_list['user_id'].count()\n",
    "# Функция возвращает число - значение track_list_count.\n",
    "    return track_list_count\n",
    "\n",
    "# Функция для подсчёта прослушиваний для конкретного города и дня.\n",
    "# С помощью фильтрации она получит из исходной таблицы строки с нужным днём и городом,\n",
    "# затем методом count() посчитает количество значений в колонке user_id.\n",
    "# Это количество функция вернёт в качестве результата."
   ]
  },
  {
   "cell_type": "markdown",
   "metadata": {
    "deletable": false,
    "editable": false,
    "id": "ytf7xFrFJQ2r",
    "tags": [
     "start_task"
    ]
   },
   "source": [
    "Вызовем `number_tracks()` шесть раз, меняя значение параметров — так, чтобы получить данные для каждого города в каждый из трёх дней."
   ]
  },
  {
   "cell_type": "code",
   "execution_count": 20,
   "metadata": {
    "deletable": false,
    "id": "rJcRATNQ_Zcu",
    "outputId": "d5c51c53-cd77-4f1b-9aa1-ad79435b3fcf"
   },
   "outputs": [
    {
     "data": {
      "text/plain": [
       "15740"
      ]
     },
     "execution_count": 20,
     "metadata": {},
     "output_type": "execute_result"
    }
   ],
   "source": [
    "number_tracks('Monday', 'Moscow')# количество прослушиваний в Москве по понедельникам"
   ]
  },
  {
   "cell_type": "code",
   "execution_count": 21,
   "metadata": {
    "deletable": false,
    "id": "hq_ncZ5T_Zcu",
    "outputId": "665b2f41-7fc0-4c75-d15a-b4b00f8cb494"
   },
   "outputs": [
    {
     "data": {
      "text/plain": [
       "5614"
      ]
     },
     "execution_count": 21,
     "metadata": {},
     "output_type": "execute_result"
    }
   ],
   "source": [
    "number_tracks('Monday', 'Saint-Petersburg')# количество прослушиваний в Санкт-Петербурге по понедельникам"
   ]
  },
  {
   "cell_type": "code",
   "execution_count": 22,
   "metadata": {
    "deletable": false,
    "id": "_NTy2VPU_Zcu",
    "outputId": "05eca28f-af4b-480e-ccea-8bdac2f9e881"
   },
   "outputs": [
    {
     "data": {
      "text/plain": [
       "11056"
      ]
     },
     "execution_count": 22,
     "metadata": {},
     "output_type": "execute_result"
    }
   ],
   "source": [
    "number_tracks('Wednesday', 'Moscow')# количество прослушиваний в Москве по средам"
   ]
  },
  {
   "cell_type": "code",
   "execution_count": 23,
   "metadata": {
    "deletable": false,
    "id": "j2y3TAwo_Zcu",
    "outputId": "f8efcfc6-a9bd-45ee-bbef-1c26bb0efc99"
   },
   "outputs": [
    {
     "data": {
      "text/plain": [
       "7003"
      ]
     },
     "execution_count": 23,
     "metadata": {},
     "output_type": "execute_result"
    }
   ],
   "source": [
    "number_tracks('Wednesday', 'Saint-Petersburg')# количество прослушиваний в Санкт-Петербурге по средам"
   ]
  },
  {
   "cell_type": "code",
   "execution_count": 24,
   "metadata": {
    "deletable": false,
    "id": "vYDw5u_K_Zcu",
    "outputId": "621e7da6-76c6-418d-e8f8-c82d99538b03"
   },
   "outputs": [
    {
     "data": {
      "text/plain": [
       "15945"
      ]
     },
     "execution_count": 24,
     "metadata": {},
     "output_type": "execute_result"
    }
   ],
   "source": [
    "number_tracks('Friday', 'Moscow')# количество прослушиваний в Москве по пятницам"
   ]
  },
  {
   "cell_type": "code",
   "execution_count": 25,
   "metadata": {
    "deletable": false,
    "id": "8_yzFtW3_Zcu",
    "outputId": "3d7ad22d-5889-44b7-e1a4-a9eab7a555d6"
   },
   "outputs": [
    {
     "data": {
      "text/plain": [
       "5895"
      ]
     },
     "execution_count": 25,
     "metadata": {},
     "output_type": "execute_result"
    }
   ],
   "source": [
    "number_tracks('Friday', 'Saint-Petersburg')# количество прослушиваний в Санкт-Петербурге по пятницам"
   ]
  },
  {
   "cell_type": "markdown",
   "metadata": {
    "deletable": false,
    "editable": false,
    "id": "7QXffbO-_Zcu",
    "tags": [
     "start_task"
    ]
   },
   "source": [
    "Создадим таблицу, где\n",
    "* названия колонок — `['city', 'monday', 'wednesday', 'friday']`;\n",
    "* данные — результаты, которые мы получили с помощью `number_tracks`."
   ]
  },
  {
   "cell_type": "code",
   "execution_count": 26,
   "metadata": {
    "deletable": false,
    "id": "APAcLpOr_Zcu",
    "outputId": "71f9c6b6-2492-4650-fd58-6e36713b9203"
   },
   "outputs": [
    {
     "data": {
      "text/html": [
       "<div>\n",
       "<style scoped>\n",
       "    .dataframe tbody tr th:only-of-type {\n",
       "        vertical-align: middle;\n",
       "    }\n",
       "\n",
       "    .dataframe tbody tr th {\n",
       "        vertical-align: top;\n",
       "    }\n",
       "\n",
       "    .dataframe thead th {\n",
       "        text-align: right;\n",
       "    }\n",
       "</style>\n",
       "<table border=\"1\" class=\"dataframe\">\n",
       "  <thead>\n",
       "    <tr style=\"text-align: right;\">\n",
       "      <th></th>\n",
       "      <th>city</th>\n",
       "      <th>monday</th>\n",
       "      <th>wednesday</th>\n",
       "      <th>friday</th>\n",
       "    </tr>\n",
       "  </thead>\n",
       "  <tbody>\n",
       "    <tr>\n",
       "      <th>0</th>\n",
       "      <td>Москва</td>\n",
       "      <td>15740</td>\n",
       "      <td>11056</td>\n",
       "      <td>15945</td>\n",
       "    </tr>\n",
       "    <tr>\n",
       "      <th>1</th>\n",
       "      <td>Санкт-Петербург</td>\n",
       "      <td>5614</td>\n",
       "      <td>7003</td>\n",
       "      <td>5895</td>\n",
       "    </tr>\n",
       "  </tbody>\n",
       "</table>\n",
       "</div>"
      ],
      "text/plain": [
       "              city  monday  wednesday  friday\n",
       "0           Москва   15740      11056   15945\n",
       "1  Санкт-Петербург    5614       7003    5895"
      ]
     },
     "execution_count": 26,
     "metadata": {},
     "output_type": "execute_result"
    }
   ],
   "source": [
    "# Таблица с результатами\n",
    "info = pd.DataFrame(data=[['Москва', 15740, 11056, 15945], ['Санкт-Петербург', 5614, 7003, 5895]],\n",
    "                    columns=['city', 'monday', 'wednesday', 'friday'])\n",
    "info"
   ]
  },
  {
   "cell_type": "markdown",
   "metadata": {
    "deletable": false,
    "editable": false,
    "id": "-EgPIHYu_Zcu"
   },
   "source": [
    "**Выводы**\n",
    "\n",
    "Данные показывают разницу поведения пользователей:\n",
    "\n",
    "- В Москве пик прослушиваний приходится на понедельник и пятницу, а в среду заметен спад.\n",
    "- В Петербурге, наоборот, больше слушают музыку по средам. Активность в понедельник и пятницу здесь почти в равной мере уступает среде.\n",
    "\n",
    "Значит, данные говорят в пользу первой гипотезы."
   ]
  },
  {
   "cell_type": "markdown",
   "metadata": {
    "deletable": false,
    "editable": false,
    "id": "atZAxtq4_Zcu"
   },
   "source": [
    "### Музыка в начале и в конце недели"
   ]
  },
  {
   "cell_type": "markdown",
   "metadata": {
    "deletable": false,
    "editable": false,
    "id": "eXrQqXFH_Zcu"
   },
   "source": [
    "Согласно второй гипотезе, утром в понедельник в Москве преобладают одни жанры, а в Петербурге — другие. Так же и вечером пятницы преобладают разные жанры — в зависимости от города."
   ]
  },
  {
   "cell_type": "markdown",
   "metadata": {
    "deletable": false,
    "editable": false,
    "id": "S8UcW6Hw_Zcu",
    "tags": [
     "start_task"
    ]
   },
   "source": [
    "Сохраним таблицы с данными в две переменные:\n",
    "* по Москве — в `moscow_general`;\n",
    "* по Санкт-Петербургу — в `spb_general`."
   ]
  },
  {
   "cell_type": "code",
   "execution_count": 27,
   "metadata": {
    "deletable": false,
    "id": "qeaFfM_P_Zcu"
   },
   "outputs": [],
   "source": [
    "# получение таблицы moscow_general из тех строк таблицы df,\n",
    "# для которых значение в столбце 'city' равно 'Moscow'\n",
    "moscow_general = df[df['city']=='Moscow']"
   ]
  },
  {
   "cell_type": "code",
   "execution_count": 28,
   "metadata": {
    "deletable": false,
    "id": "ORaVRKto_Zcu"
   },
   "outputs": [],
   "source": [
    "# получение таблицы spb_general из тех строк таблицы df,\n",
    "# для которых значение в столбце 'city' равно 'Saint-Petersburg'\n",
    "spb_general = df[df['city']=='Saint-Petersburg']"
   ]
  },
  {
   "cell_type": "markdown",
   "metadata": {
    "deletable": false,
    "editable": false,
    "id": "MEJV-CX2_Zcu",
    "tags": [
     "start_task"
    ]
   },
   "source": [
    "Создадим функцию `genre_weekday()` с четырьмя параметрами:\n",
    "* таблица (датафрейм) с данными,\n",
    "* день недели,\n",
    "* начальная временная метка в формате 'hh:mm',\n",
    "* последняя временная метка в формате 'hh:mm'.\n",
    "\n",
    "Функция должна вернуть информацию о топ-10 жанров тех треков, которые прослушивали в указанный день, в промежутке между двумя отметками времени."
   ]
  },
  {
   "cell_type": "code",
   "execution_count": 29,
   "metadata": {
    "deletable": false,
    "id": "laJT9BYl_Zcu"
   },
   "outputs": [],
   "source": [
    "# Объявление функции genre_weekday() с параметрами table, day, time1, time2,\n",
    "# которая возвращает информацию о самых популярных жанрах в указанный день в\n",
    "# заданное время:\n",
    "# 1) в переменную genre_df сохраняются те строки переданного датафрейма table, для\n",
    "#    которых одновременно:\n",
    "#    - значение в столбце day равно значению аргумента day\n",
    "#    - значение в столбце time больше значения аргумента time1\n",
    "#    - значение в столбце time меньше значения аргумента time2\n",
    "# 2) сгруппировать датафрейм genre_df по столбцу genre, взять один из его\n",
    "#    столбцов и посчитать методом count() количество записей для каждого из\n",
    "#    присутствующих жанров, получившийся Series записать в переменную\n",
    "#    genre_df_count\n",
    "# 3) отсортировать genre_df_count по убыванию встречаемости и сохранить\n",
    "#    в переменную genre_df_sorted\n",
    "# 4) вернуть Series из 10 первых значений genre_df_sorted, это будут топ-10\n",
    "#    популярных жанров (в указанный день, в заданное время)\n",
    "\n",
    "def genre_weekday(df, day, time1, time2):\n",
    "    # последовательная фильтрация\n",
    "    # оставляем в genre_df только те строки df, у которых день равен day\n",
    "    genre_df = df[df['day']==day]\n",
    "    # оставляем в genre_df только те строки genre_df, у которых время меньше time2\n",
    "    genre_df = genre_df[genre_df['time']>time1]\n",
    "    # оставляем в genre_df только те строки genre_df, у которых время больше time1\n",
    "    genre_df = genre_df[genre_df['time']<time2]\n",
    "    # сгруппируем отфильтрованный датафрейм по столбцу с названиями жанров, возьмём столбец genre \n",
    "    # и посчитаем кол-во строк для каждого жанра методом count()\n",
    "    genre_df_grouped = genre_df.groupby('genre')['genre'].count()\n",
    "    # отсортируем результат по убыванию (чтобы в начале Series оказались самые популярные жанры)\n",
    "    genre_df_sorted = genre_df_grouped.sort_values(ascending=False)\n",
    "    # вернём Series с 10 самыми популярными жанрами в указанный отрезок времени заданного дня\n",
    "    return genre_df_sorted[:10]"
   ]
  },
  {
   "cell_type": "markdown",
   "metadata": {
    "deletable": false,
    "editable": false,
    "id": "la2s2_PF_Zcu",
    "tags": [
     "start_task"
    ]
   },
   "source": [
    "Cравним результаты функции `genre_weekday()` для Москвы и Санкт-Петербурга в понедельник утром (с 7:00 до 11:00) и в пятницу вечером (с 17:00 до 23:00):"
   ]
  },
  {
   "cell_type": "code",
   "execution_count": 30,
   "metadata": {
    "deletable": false,
    "id": "yz7itPUQ_Zcu",
    "outputId": "d0513765-639f-41d1-f54b-a116eec1d06b"
   },
   "outputs": [
    {
     "data": {
      "text/plain": [
       "genre\n",
       "pop            781\n",
       "dance          549\n",
       "electronic     480\n",
       "rock           474\n",
       "hiphop         286\n",
       "ruspop         186\n",
       "world          181\n",
       "rusrap         175\n",
       "alternative    164\n",
       "unknown        161\n",
       "Name: genre, dtype: int64"
      ]
     },
     "execution_count": 30,
     "metadata": {},
     "output_type": "execute_result"
    }
   ],
   "source": [
    "# вызов функции для утра понедельника в Москве (вместо df — таблица moscow_general)\n",
    "# объекты, хранящие время, являются строками и сравниваются как строки\n",
    "# пример вызова: genre_weekday(moscow_general, 'Monday', '07:00', '11:00')\n",
    "genre_weekday(moscow_general, 'Monday', '07:00', '11:00')"
   ]
  },
  {
   "cell_type": "code",
   "execution_count": 31,
   "metadata": {
    "deletable": false,
    "id": "kwUcHPdy_Zcu",
    "outputId": "debcf9ac-bfd2-4514-ae24-338beea2ff07"
   },
   "outputs": [
    {
     "data": {
      "text/plain": [
       "genre\n",
       "pop            218\n",
       "dance          182\n",
       "rock           162\n",
       "electronic     147\n",
       "hiphop          80\n",
       "ruspop          64\n",
       "alternative     58\n",
       "rusrap          55\n",
       "jazz            44\n",
       "classical       40\n",
       "Name: genre, dtype: int64"
      ]
     },
     "execution_count": 31,
     "metadata": {},
     "output_type": "execute_result"
    }
   ],
   "source": [
    "# вызов функции для утра понедельника в Петербурге (вместо df — таблица spb_general)\n",
    "genre_weekday(spb_general, 'Monday', '07:00', '11:00')"
   ]
  },
  {
   "cell_type": "code",
   "execution_count": 32,
   "metadata": {
    "deletable": false,
    "id": "EzXVRE1o_Zcu",
    "outputId": "11b948d0-0752-4ccd-a996-d7a9b121566e"
   },
   "outputs": [
    {
     "data": {
      "text/plain": [
       "genre\n",
       "pop            713\n",
       "rock           517\n",
       "dance          495\n",
       "electronic     482\n",
       "hiphop         273\n",
       "world          208\n",
       "ruspop         170\n",
       "alternative    163\n",
       "classical      163\n",
       "rusrap         142\n",
       "Name: genre, dtype: int64"
      ]
     },
     "execution_count": 32,
     "metadata": {},
     "output_type": "execute_result"
    }
   ],
   "source": [
    "# вызов функции для вечера пятницы в Москве\n",
    "genre_weekday(moscow_general, 'Friday', '17:00', '23:00')"
   ]
  },
  {
   "cell_type": "code",
   "execution_count": 33,
   "metadata": {
    "deletable": false,
    "id": "JZaEKu5v_Zcu",
    "outputId": "bb14c499-13b6-43b8-b654-2d0f7b4e7516"
   },
   "outputs": [
    {
     "data": {
      "text/plain": [
       "genre\n",
       "pop            256\n",
       "electronic     216\n",
       "rock           216\n",
       "dance          210\n",
       "hiphop          97\n",
       "alternative     63\n",
       "jazz            61\n",
       "classical       60\n",
       "rusrap          59\n",
       "world           54\n",
       "Name: genre, dtype: int64"
      ]
     },
     "execution_count": 33,
     "metadata": {},
     "output_type": "execute_result"
    }
   ],
   "source": [
    "# вызов функции для вечера пятницы в Петербурге\n",
    "genre_weekday(spb_general, 'Friday', '17:00', '23:00')"
   ]
  },
  {
   "cell_type": "markdown",
   "metadata": {
    "deletable": false,
    "editable": false,
    "id": "wrCe4MNX_Zcu"
   },
   "source": [
    "**Выводы**\n",
    "\n",
    "Если сравнить топ-10 жанров в понедельник утром, можно сделать такие выводы:\n",
    "\n",
    "1. В Москве и Петербурге слушают похожую музыку. Единственное отличие — в московский рейтинг вошёл жанр “world”, а в петербургский — джаз и классика.\n",
    "\n",
    "2. В Москве пропущенных значений оказалось так много, что значение `'unknown'` заняло десятое место среди самых популярных жанров. Значит, пропущенные значения занимают существенную долю в данных и угрожают достоверности исследования.\n",
    "\n",
    "Вечер пятницы не меняет эту картину. Некоторые жанры поднимаются немного выше, другие спускаются, но в целом топ-10 остаётся тем же самым.\n",
    "\n",
    "Таким образом, вторая гипотеза подтвердилась лишь частично:\n",
    "* Пользователи слушают похожую музыку в начале недели и в конце.\n",
    "* Разница между Москвой и Петербургом не слишком выражена. В Москве чаще слушают русскую популярную музыку, в Петербурге — джаз.\n",
    "\n",
    "Однако пропуски в данных ставят под сомнение этот результат. В Москве их так много, что рейтинг топ-10 мог бы выглядеть иначе, если бы не утерянные  данные о жанрах."
   ]
  },
  {
   "cell_type": "markdown",
   "metadata": {
    "deletable": false,
    "editable": false,
    "id": "JolODAqr_Zcu"
   },
   "source": [
    "### Жанровые предпочтения в Москве и Петербурге\n",
    "\n",
    "Гипотеза: Петербург — столица рэпа, музыку этого жанра там слушают чаще, чем в Москве.  А Москва — город контрастов, в котором, тем не менее, преобладает поп-музыка."
   ]
  },
  {
   "cell_type": "markdown",
   "metadata": {
    "deletable": false,
    "editable": false,
    "id": "DlegSvaT_Zcu",
    "tags": [
     "start_task"
    ]
   },
   "source": [
    "Сгруппируем таблицу `moscow_general` по жанру и посчитаем прослушивания треков каждого жанра методом `count()`. Затем отсортируем результат в порядке убывания и сохраним его в таблице `moscow_genres`."
   ]
  },
  {
   "cell_type": "code",
   "execution_count": 34,
   "metadata": {
    "deletable": false,
    "id": "r19lIPke_Zcu"
   },
   "outputs": [],
   "source": [
    "# одной строкой: группировка таблицы moscow_general по столбцу 'genre',\n",
    "# подсчёт числа значений 'genre' в этой группировке методом count(),\n",
    "# сортировка получившегося Series в порядке убывания и сохранение в moscow_genres\n",
    "moscow_genres = moscow_general.groupby('genre')['genre'].count().sort_values(ascending=False)"
   ]
  },
  {
   "cell_type": "markdown",
   "metadata": {
    "deletable": false,
    "editable": false,
    "id": "6kMuomxTiIr8",
    "tags": [
     "start_task"
    ]
   },
   "source": [
    "Выведем на экран первые десять строк `moscow_genres`:"
   ]
  },
  {
   "cell_type": "code",
   "execution_count": 35,
   "metadata": {
    "deletable": false,
    "id": "WhCSooF8_Zcv",
    "outputId": "7cc709a1-0077-4ed5-f9a1-12bcd3ff911f"
   },
   "outputs": [
    {
     "data": {
      "text/plain": [
       "genre\n",
       "pop            5892\n",
       "dance          4435\n",
       "rock           3965\n",
       "electronic     3786\n",
       "hiphop         2096\n",
       "classical      1616\n",
       "world          1432\n",
       "alternative    1379\n",
       "ruspop         1372\n",
       "rusrap         1161\n",
       "Name: genre, dtype: int64"
      ]
     },
     "execution_count": 35,
     "metadata": {},
     "output_type": "execute_result"
    }
   ],
   "source": [
    "moscow_genres.head(10) # просмотр первых 10 строк moscow_genres"
   ]
  },
  {
   "cell_type": "markdown",
   "metadata": {
    "deletable": false,
    "editable": false,
    "id": "cnPG2vnN_Zcv",
    "tags": [
     "start_task"
    ]
   },
   "source": [
    "Повторим то же и для Петербурга."
   ]
  },
  {
   "cell_type": "code",
   "execution_count": 36,
   "metadata": {
    "deletable": false,
    "id": "gluLIpE7_Zcv"
   },
   "outputs": [],
   "source": [
    "# одной строкой: группировка таблицы spb_general по столбцу 'genre',\n",
    "# подсчёт числа значений 'genre' в этой группировке методом count(),\n",
    "# сортировка получившегося Series в порядке убывания и сохранение в spb_genres\n",
    "spb_genres = spb_general.groupby('genre')['genre'].count().sort_values(ascending=False)"
   ]
  },
  {
   "cell_type": "markdown",
   "metadata": {
    "deletable": false,
    "editable": false,
    "id": "5Doha_ODgyQ8",
    "tags": [
     "start_task"
    ]
   },
   "source": [
    "Выведем на экран первые десять строк `spb_genres`:"
   ]
  },
  {
   "cell_type": "code",
   "execution_count": 37,
   "metadata": {
    "deletable": false,
    "id": "uaGJHjVU_Zcv",
    "outputId": "0f43b808-76a2-4efc-afc4-b9d7e8531a6b"
   },
   "outputs": [
    {
     "data": {
      "text/plain": [
       "genre\n",
       "pop            2431\n",
       "dance          1932\n",
       "rock           1879\n",
       "electronic     1736\n",
       "hiphop          960\n",
       "alternative     649\n",
       "classical       646\n",
       "rusrap          564\n",
       "ruspop          538\n",
       "world           515\n",
       "Name: genre, dtype: int64"
      ]
     },
     "execution_count": 37,
     "metadata": {},
     "output_type": "execute_result"
    }
   ],
   "source": [
    "spb_genres.head(10) # просмотр первых 10 строк spb_genres"
   ]
  },
  {
   "cell_type": "markdown",
   "metadata": {
    "deletable": false,
    "editable": false,
    "id": "RY51YJYu_Zcv"
   },
   "source": [
    "**Выводы**"
   ]
  },
  {
   "cell_type": "markdown",
   "metadata": {
    "deletable": false,
    "editable": false,
    "id": "nVhnJEm__Zcv"
   },
   "source": [
    "Гипотеза частично подтвердилась:\n",
    "* Поп-музыка — самый популярный жанр в Москве, как и предполагала гипотеза. Более того, в топ-10 жанров встречается близкий жанр — русская популярная музыка.\n",
    "* Вопреки ожиданиям, рэп одинаково популярен в Москве и Петербурге.\n"
   ]
  },
  {
   "cell_type": "markdown",
   "metadata": {
    "deletable": false,
    "editable": false,
    "id": "ykKQ0N65_Zcv"
   },
   "source": [
    "## Итоги исследования"
   ]
  },
  {
   "cell_type": "markdown",
   "metadata": {
    "id": "tjUwbHb3_Zcv"
   },
   "source": [
    "Мы проверили три гипотезы и установили:\n",
    "\n",
    "1. День недели по-разному влияет на активность пользователей в Москве и Петербурге.\n",
    "\n",
    "Первая гипотеза полностью подтвердилась.\n",
    "\n",
    "2. Музыкальные предпочтения не сильно меняются в течение недели — будь то Москва или Петербург. Небольшие различия заметны в начале недели, по понедельникам:\n",
    "* в Москве слушают музыку жанра “world”,\n",
    "* в Петербурге — джаз и классику.\n",
    "\n",
    "Таким образом, вторая гипотеза подтвердилась лишь отчасти. Этот результат мог оказаться иным, если бы не пропуски в данных.\n",
    "\n",
    "3. Во вкусах пользователей Москвы и Петербурга больше общего чем различий. Вопреки ожиданиям, предпочтения жанров в Петербурге напоминают московские.\n",
    "\n",
    "Третья гипотеза не подтвердилась. Если различия в предпочтениях и существуют, на основной массе пользователей они незаметны."
   ]
  },
  {
   "cell_type": "code",
   "execution_count": null,
   "metadata": {
    "id": "8pw5AfY0AC3Q"
   },
   "outputs": [],
   "source": []
  }
 ],
 "metadata": {
  "ExecuteTimeLog": [
   {
    "duration": 406,
    "start_time": "2022-09-03T17:01:32.411Z"
   },
   {
    "duration": 3,
    "start_time": "2022-09-03T17:02:09.681Z"
   },
   {
    "duration": 251,
    "start_time": "2022-09-03T17:03:12.522Z"
   },
   {
    "duration": 3,
    "start_time": "2022-09-03T17:03:21.653Z"
   },
   {
    "duration": 377,
    "start_time": "2022-09-03T17:04:15.352Z"
   },
   {
    "duration": 176,
    "start_time": "2022-09-03T17:04:28.979Z"
   },
   {
    "duration": 17,
    "start_time": "2022-09-03T17:05:20.275Z"
   },
   {
    "duration": 30,
    "start_time": "2022-09-03T17:06:14.596Z"
   },
   {
    "duration": 4,
    "start_time": "2022-09-03T17:18:04.270Z"
   },
   {
    "duration": 11,
    "start_time": "2022-09-03T17:21:03.935Z"
   },
   {
    "duration": 4,
    "start_time": "2022-09-03T17:21:32.120Z"
   },
   {
    "duration": 24,
    "start_time": "2022-09-03T17:37:51.160Z"
   },
   {
    "duration": 877,
    "start_time": "2022-09-03T17:44:33.136Z"
   },
   {
    "duration": 1183,
    "start_time": "2022-09-03T17:46:41.536Z"
   },
   {
    "duration": 19,
    "start_time": "2022-09-03T17:47:58.373Z"
   },
   {
    "duration": 29,
    "start_time": "2022-09-03T17:49:13.353Z"
   },
   {
    "duration": 26,
    "start_time": "2022-09-03T17:49:33.529Z"
   },
   {
    "duration": 73,
    "start_time": "2022-09-03T17:50:32.755Z"
   },
   {
    "duration": 72,
    "start_time": "2022-09-03T17:51:18.455Z"
   },
   {
    "duration": 59,
    "start_time": "2022-09-03T17:51:50.255Z"
   },
   {
    "duration": 69,
    "start_time": "2022-09-03T17:52:23.716Z"
   },
   {
    "duration": 56,
    "start_time": "2022-09-03T17:52:28.334Z"
   },
   {
    "duration": 40,
    "start_time": "2022-09-03T17:57:25.181Z"
   },
   {
    "duration": 37,
    "start_time": "2022-09-03T17:58:18.088Z"
   },
   {
    "duration": 12,
    "start_time": "2022-09-03T18:09:09.037Z"
   },
   {
    "duration": 17,
    "start_time": "2022-09-03T18:09:15.201Z"
   },
   {
    "duration": 420,
    "start_time": "2022-09-03T18:09:35.499Z"
   },
   {
    "duration": 193,
    "start_time": "2022-09-03T18:09:35.921Z"
   },
   {
    "duration": 16,
    "start_time": "2022-09-03T18:09:36.115Z"
   },
   {
    "duration": 30,
    "start_time": "2022-09-03T18:09:36.133Z"
   },
   {
    "duration": 4,
    "start_time": "2022-09-03T18:09:36.165Z"
   },
   {
    "duration": 7,
    "start_time": "2022-09-03T18:09:36.171Z"
   },
   {
    "duration": 35,
    "start_time": "2022-09-03T18:09:36.180Z"
   },
   {
    "duration": 7,
    "start_time": "2022-09-03T18:09:36.217Z"
   },
   {
    "duration": 30,
    "start_time": "2022-09-03T18:09:36.226Z"
   },
   {
    "duration": 20,
    "start_time": "2022-09-03T18:09:36.259Z"
   },
   {
    "duration": 46,
    "start_time": "2022-09-03T18:09:36.281Z"
   },
   {
    "duration": 63,
    "start_time": "2022-09-03T18:09:36.328Z"
   },
   {
    "duration": 77,
    "start_time": "2022-09-03T18:09:36.393Z"
   },
   {
    "duration": 73,
    "start_time": "2022-09-03T18:09:36.472Z"
   },
   {
    "duration": 37,
    "start_time": "2022-09-03T18:09:36.547Z"
   },
   {
    "duration": 26,
    "start_time": "2022-09-03T18:09:36.585Z"
   },
   {
    "duration": 8,
    "start_time": "2022-09-03T18:09:36.612Z"
   },
   {
    "duration": 3,
    "start_time": "2022-09-03T18:09:36.621Z"
   },
   {
    "duration": 6,
    "start_time": "2022-09-03T18:09:36.626Z"
   },
   {
    "duration": 5,
    "start_time": "2022-09-03T18:09:36.633Z"
   },
   {
    "duration": 9,
    "start_time": "2022-09-03T18:09:36.639Z"
   },
   {
    "duration": 6,
    "start_time": "2022-09-03T18:09:36.650Z"
   },
   {
    "duration": 7,
    "start_time": "2022-09-03T18:09:36.658Z"
   },
   {
    "duration": 5,
    "start_time": "2022-09-03T18:09:36.666Z"
   },
   {
    "duration": 7,
    "start_time": "2022-09-03T18:09:36.673Z"
   },
   {
    "duration": 5,
    "start_time": "2022-09-03T18:09:36.681Z"
   },
   {
    "duration": 23,
    "start_time": "2022-09-03T18:09:36.688Z"
   },
   {
    "duration": 6,
    "start_time": "2022-09-03T18:09:36.714Z"
   },
   {
    "duration": 5,
    "start_time": "2022-09-03T18:09:36.722Z"
   },
   {
    "duration": 48,
    "start_time": "2022-09-03T18:09:36.729Z"
   },
   {
    "duration": 0,
    "start_time": "2022-09-03T18:09:36.779Z"
   },
   {
    "duration": 0,
    "start_time": "2022-09-03T18:09:36.780Z"
   },
   {
    "duration": 0,
    "start_time": "2022-09-03T18:09:36.781Z"
   },
   {
    "duration": 0,
    "start_time": "2022-09-03T18:09:36.782Z"
   },
   {
    "duration": 0,
    "start_time": "2022-09-03T18:09:36.783Z"
   },
   {
    "duration": 0,
    "start_time": "2022-09-03T18:09:36.785Z"
   },
   {
    "duration": 0,
    "start_time": "2022-09-03T18:09:36.786Z"
   },
   {
    "duration": 0,
    "start_time": "2022-09-03T18:09:36.787Z"
   },
   {
    "duration": 61,
    "start_time": "2022-09-03T18:10:39.839Z"
   },
   {
    "duration": 38,
    "start_time": "2022-09-03T18:11:02.849Z"
   },
   {
    "duration": 49,
    "start_time": "2022-09-04T09:23:53.581Z"
   },
   {
    "duration": 353,
    "start_time": "2022-09-04T09:24:21.526Z"
   },
   {
    "duration": 248,
    "start_time": "2022-09-04T09:24:21.881Z"
   },
   {
    "duration": 19,
    "start_time": "2022-09-04T09:24:22.132Z"
   },
   {
    "duration": 25,
    "start_time": "2022-09-04T09:24:22.153Z"
   },
   {
    "duration": 2,
    "start_time": "2022-09-04T09:24:22.179Z"
   },
   {
    "duration": 24,
    "start_time": "2022-09-04T09:24:22.183Z"
   },
   {
    "duration": 16,
    "start_time": "2022-09-04T09:24:22.208Z"
   },
   {
    "duration": 8,
    "start_time": "2022-09-04T09:24:22.226Z"
   },
   {
    "duration": 22,
    "start_time": "2022-09-04T09:24:22.236Z"
   },
   {
    "duration": 15,
    "start_time": "2022-09-04T09:24:22.260Z"
   },
   {
    "duration": 28,
    "start_time": "2022-09-04T09:24:22.277Z"
   },
   {
    "duration": 60,
    "start_time": "2022-09-04T09:24:22.307Z"
   },
   {
    "duration": 74,
    "start_time": "2022-09-04T09:24:22.369Z"
   },
   {
    "duration": 76,
    "start_time": "2022-09-04T09:24:22.444Z"
   },
   {
    "duration": 34,
    "start_time": "2022-09-04T09:24:22.522Z"
   },
   {
    "duration": 9,
    "start_time": "2022-09-04T09:24:22.558Z"
   },
   {
    "duration": 53,
    "start_time": "2022-09-04T09:24:22.569Z"
   },
   {
    "duration": 12,
    "start_time": "2022-09-04T09:24:22.624Z"
   },
   {
    "duration": 2,
    "start_time": "2022-09-04T09:24:22.637Z"
   },
   {
    "duration": 8,
    "start_time": "2022-09-04T09:24:22.640Z"
   },
   {
    "duration": 5,
    "start_time": "2022-09-04T09:24:22.649Z"
   },
   {
    "duration": 4,
    "start_time": "2022-09-04T09:24:22.655Z"
   },
   {
    "duration": 29,
    "start_time": "2022-09-04T09:24:22.660Z"
   },
   {
    "duration": 11,
    "start_time": "2022-09-04T09:24:22.693Z"
   },
   {
    "duration": 5,
    "start_time": "2022-09-04T09:24:22.706Z"
   },
   {
    "duration": 8,
    "start_time": "2022-09-04T09:24:22.713Z"
   },
   {
    "duration": 8,
    "start_time": "2022-09-04T09:24:22.723Z"
   },
   {
    "duration": 5,
    "start_time": "2022-09-04T09:24:22.735Z"
   },
   {
    "duration": 5,
    "start_time": "2022-09-04T09:24:22.742Z"
   },
   {
    "duration": 62,
    "start_time": "2022-09-04T09:24:22.748Z"
   },
   {
    "duration": 0,
    "start_time": "2022-09-04T09:24:22.812Z"
   },
   {
    "duration": 0,
    "start_time": "2022-09-04T09:24:22.813Z"
   },
   {
    "duration": 0,
    "start_time": "2022-09-04T09:24:22.814Z"
   },
   {
    "duration": 0,
    "start_time": "2022-09-04T09:24:22.815Z"
   },
   {
    "duration": 0,
    "start_time": "2022-09-04T09:24:22.816Z"
   },
   {
    "duration": 0,
    "start_time": "2022-09-04T09:24:22.817Z"
   },
   {
    "duration": 0,
    "start_time": "2022-09-04T09:24:22.819Z"
   },
   {
    "duration": 0,
    "start_time": "2022-09-04T09:24:22.819Z"
   },
   {
    "duration": 5,
    "start_time": "2022-09-04T09:27:28.046Z"
   },
   {
    "duration": 4,
    "start_time": "2022-09-04T09:27:47.870Z"
   },
   {
    "duration": 4,
    "start_time": "2022-09-04T09:27:55.664Z"
   },
   {
    "duration": 393,
    "start_time": "2022-09-04T09:28:03.179Z"
   },
   {
    "duration": 197,
    "start_time": "2022-09-04T09:28:03.575Z"
   },
   {
    "duration": 22,
    "start_time": "2022-09-04T09:28:03.773Z"
   },
   {
    "duration": 33,
    "start_time": "2022-09-04T09:28:03.797Z"
   },
   {
    "duration": 2,
    "start_time": "2022-09-04T09:28:03.832Z"
   },
   {
    "duration": 13,
    "start_time": "2022-09-04T09:28:03.835Z"
   },
   {
    "duration": 11,
    "start_time": "2022-09-04T09:28:03.850Z"
   },
   {
    "duration": 9,
    "start_time": "2022-09-04T09:28:03.862Z"
   },
   {
    "duration": 27,
    "start_time": "2022-09-04T09:28:03.887Z"
   },
   {
    "duration": 19,
    "start_time": "2022-09-04T09:28:03.916Z"
   },
   {
    "duration": 24,
    "start_time": "2022-09-04T09:28:03.937Z"
   },
   {
    "duration": 90,
    "start_time": "2022-09-04T09:28:03.963Z"
   },
   {
    "duration": 91,
    "start_time": "2022-09-04T09:28:04.054Z"
   },
   {
    "duration": 74,
    "start_time": "2022-09-04T09:28:04.147Z"
   },
   {
    "duration": 33,
    "start_time": "2022-09-04T09:28:04.223Z"
   },
   {
    "duration": 32,
    "start_time": "2022-09-04T09:28:04.258Z"
   },
   {
    "duration": 54,
    "start_time": "2022-09-04T09:28:04.291Z"
   },
   {
    "duration": 4,
    "start_time": "2022-09-04T09:28:04.348Z"
   },
   {
    "duration": 13,
    "start_time": "2022-09-04T09:28:04.353Z"
   },
   {
    "duration": 9,
    "start_time": "2022-09-04T09:28:04.368Z"
   },
   {
    "duration": 51,
    "start_time": "2022-09-04T09:28:04.379Z"
   },
   {
    "duration": 26,
    "start_time": "2022-09-04T09:28:04.432Z"
   },
   {
    "duration": 30,
    "start_time": "2022-09-04T09:28:04.460Z"
   },
   {
    "duration": 33,
    "start_time": "2022-09-04T09:28:04.493Z"
   },
   {
    "duration": 16,
    "start_time": "2022-09-04T09:28:04.528Z"
   },
   {
    "duration": 12,
    "start_time": "2022-09-04T09:28:04.546Z"
   },
   {
    "duration": 22,
    "start_time": "2022-09-04T09:28:04.560Z"
   },
   {
    "duration": 29,
    "start_time": "2022-09-04T09:28:04.585Z"
   },
   {
    "duration": 14,
    "start_time": "2022-09-04T09:28:04.616Z"
   },
   {
    "duration": 54,
    "start_time": "2022-09-04T09:28:04.632Z"
   },
   {
    "duration": 0,
    "start_time": "2022-09-04T09:28:04.688Z"
   },
   {
    "duration": 0,
    "start_time": "2022-09-04T09:28:04.689Z"
   },
   {
    "duration": 0,
    "start_time": "2022-09-04T09:28:04.690Z"
   },
   {
    "duration": 0,
    "start_time": "2022-09-04T09:28:04.691Z"
   },
   {
    "duration": 0,
    "start_time": "2022-09-04T09:28:04.692Z"
   },
   {
    "duration": 0,
    "start_time": "2022-09-04T09:28:04.693Z"
   },
   {
    "duration": 0,
    "start_time": "2022-09-04T09:28:04.694Z"
   },
   {
    "duration": 0,
    "start_time": "2022-09-04T09:28:04.694Z"
   },
   {
    "duration": 3,
    "start_time": "2022-09-04T09:28:37.004Z"
   },
   {
    "duration": 43,
    "start_time": "2022-09-04T09:28:43.205Z"
   },
   {
    "duration": 414,
    "start_time": "2022-09-04T09:28:48.675Z"
   },
   {
    "duration": 166,
    "start_time": "2022-09-04T09:28:49.094Z"
   },
   {
    "duration": 17,
    "start_time": "2022-09-04T09:28:49.261Z"
   },
   {
    "duration": 35,
    "start_time": "2022-09-04T09:28:49.291Z"
   },
   {
    "duration": 2,
    "start_time": "2022-09-04T09:28:49.328Z"
   },
   {
    "duration": 11,
    "start_time": "2022-09-04T09:28:49.331Z"
   },
   {
    "duration": 12,
    "start_time": "2022-09-04T09:28:49.343Z"
   },
   {
    "duration": 18,
    "start_time": "2022-09-04T09:28:49.356Z"
   },
   {
    "duration": 31,
    "start_time": "2022-09-04T09:28:49.376Z"
   },
   {
    "duration": 22,
    "start_time": "2022-09-04T09:28:49.409Z"
   },
   {
    "duration": 20,
    "start_time": "2022-09-04T09:28:49.433Z"
   },
   {
    "duration": 73,
    "start_time": "2022-09-04T09:28:49.455Z"
   },
   {
    "duration": 73,
    "start_time": "2022-09-04T09:28:49.529Z"
   },
   {
    "duration": 54,
    "start_time": "2022-09-04T09:28:49.605Z"
   },
   {
    "duration": 53,
    "start_time": "2022-09-04T09:28:49.661Z"
   },
   {
    "duration": 8,
    "start_time": "2022-09-04T09:28:49.715Z"
   },
   {
    "duration": 37,
    "start_time": "2022-09-04T09:28:49.724Z"
   },
   {
    "duration": 3,
    "start_time": "2022-09-04T09:28:49.762Z"
   },
   {
    "duration": 22,
    "start_time": "2022-09-04T09:28:49.766Z"
   },
   {
    "duration": 6,
    "start_time": "2022-09-04T09:28:49.793Z"
   },
   {
    "duration": 7,
    "start_time": "2022-09-04T09:28:49.801Z"
   },
   {
    "duration": 15,
    "start_time": "2022-09-04T09:28:49.809Z"
   },
   {
    "duration": 9,
    "start_time": "2022-09-04T09:28:49.826Z"
   },
   {
    "duration": 6,
    "start_time": "2022-09-04T09:28:49.836Z"
   },
   {
    "duration": 7,
    "start_time": "2022-09-04T09:28:49.843Z"
   },
   {
    "duration": 6,
    "start_time": "2022-09-04T09:28:49.852Z"
   },
   {
    "duration": 9,
    "start_time": "2022-09-04T09:28:49.859Z"
   },
   {
    "duration": 4,
    "start_time": "2022-09-04T09:28:49.871Z"
   },
   {
    "duration": 8,
    "start_time": "2022-09-04T09:28:49.878Z"
   },
   {
    "duration": 2031,
    "start_time": "2022-09-04T09:28:49.887Z"
   },
   {
    "duration": 0,
    "start_time": "2022-09-04T09:28:51.919Z"
   },
   {
    "duration": 0,
    "start_time": "2022-09-04T09:28:51.921Z"
   },
   {
    "duration": 0,
    "start_time": "2022-09-04T09:28:51.922Z"
   },
   {
    "duration": 0,
    "start_time": "2022-09-04T09:28:51.923Z"
   },
   {
    "duration": 0,
    "start_time": "2022-09-04T09:28:51.923Z"
   },
   {
    "duration": 0,
    "start_time": "2022-09-04T09:28:51.925Z"
   },
   {
    "duration": 0,
    "start_time": "2022-09-04T09:28:51.926Z"
   },
   {
    "duration": 0,
    "start_time": "2022-09-04T09:28:51.927Z"
   },
   {
    "duration": 14,
    "start_time": "2022-09-04T09:29:01.998Z"
   },
   {
    "duration": 12,
    "start_time": "2022-09-04T09:33:31.523Z"
   },
   {
    "duration": 4,
    "start_time": "2022-09-04T10:41:17.156Z"
   },
   {
    "duration": 26,
    "start_time": "2022-09-04T10:43:09.798Z"
   },
   {
    "duration": 19,
    "start_time": "2022-09-04T10:43:11.740Z"
   },
   {
    "duration": 20,
    "start_time": "2022-09-04T10:43:12.725Z"
   },
   {
    "duration": 22,
    "start_time": "2022-09-04T10:43:15.464Z"
   },
   {
    "duration": 23,
    "start_time": "2022-09-04T10:43:16.233Z"
   },
   {
    "duration": 21,
    "start_time": "2022-09-04T10:43:18.536Z"
   },
   {
    "duration": 171,
    "start_time": "2022-09-04T10:52:00.978Z"
   },
   {
    "duration": 8,
    "start_time": "2022-09-04T10:55:18.669Z"
   },
   {
    "duration": 9,
    "start_time": "2022-09-04T11:00:51.449Z"
   },
   {
    "duration": 8,
    "start_time": "2022-09-04T11:01:19.655Z"
   },
   {
    "duration": 97,
    "start_time": "2022-09-04T11:14:59.461Z"
   },
   {
    "duration": 6,
    "start_time": "2022-09-04T11:15:06.236Z"
   },
   {
    "duration": 451,
    "start_time": "2022-09-04T11:15:28.574Z"
   },
   {
    "duration": 199,
    "start_time": "2022-09-04T11:15:29.027Z"
   },
   {
    "duration": 16,
    "start_time": "2022-09-04T11:15:29.227Z"
   },
   {
    "duration": 25,
    "start_time": "2022-09-04T11:15:29.245Z"
   },
   {
    "duration": 40,
    "start_time": "2022-09-04T11:15:29.271Z"
   },
   {
    "duration": 9,
    "start_time": "2022-09-04T11:15:29.314Z"
   },
   {
    "duration": 12,
    "start_time": "2022-09-04T11:15:29.325Z"
   },
   {
    "duration": 6,
    "start_time": "2022-09-04T11:15:29.339Z"
   },
   {
    "duration": 25,
    "start_time": "2022-09-04T11:15:29.347Z"
   },
   {
    "duration": 24,
    "start_time": "2022-09-04T11:15:29.373Z"
   },
   {
    "duration": 44,
    "start_time": "2022-09-04T11:15:29.399Z"
   },
   {
    "duration": 74,
    "start_time": "2022-09-04T11:15:29.445Z"
   },
   {
    "duration": 67,
    "start_time": "2022-09-04T11:15:29.521Z"
   },
   {
    "duration": 66,
    "start_time": "2022-09-04T11:15:29.591Z"
   },
   {
    "duration": 62,
    "start_time": "2022-09-04T11:15:29.658Z"
   },
   {
    "duration": 12,
    "start_time": "2022-09-04T11:15:29.722Z"
   },
   {
    "duration": 50,
    "start_time": "2022-09-04T11:15:29.736Z"
   },
   {
    "duration": 15,
    "start_time": "2022-09-04T11:15:29.787Z"
   },
   {
    "duration": 29,
    "start_time": "2022-09-04T11:15:29.803Z"
   },
   {
    "duration": 3,
    "start_time": "2022-09-04T11:15:29.834Z"
   },
   {
    "duration": 19,
    "start_time": "2022-09-04T11:15:29.839Z"
   },
   {
    "duration": 28,
    "start_time": "2022-09-04T11:15:29.859Z"
   },
   {
    "duration": 23,
    "start_time": "2022-09-04T11:15:29.895Z"
   },
   {
    "duration": 16,
    "start_time": "2022-09-04T11:15:29.920Z"
   },
   {
    "duration": 21,
    "start_time": "2022-09-04T11:15:29.937Z"
   },
   {
    "duration": 29,
    "start_time": "2022-09-04T11:15:29.960Z"
   },
   {
    "duration": 13,
    "start_time": "2022-09-04T11:15:29.992Z"
   },
   {
    "duration": 31,
    "start_time": "2022-09-04T11:15:30.006Z"
   },
   {
    "duration": 25,
    "start_time": "2022-09-04T11:15:30.039Z"
   },
   {
    "duration": 7,
    "start_time": "2022-09-04T11:15:30.067Z"
   },
   {
    "duration": 62,
    "start_time": "2022-09-04T11:15:30.075Z"
   },
   {
    "duration": 27,
    "start_time": "2022-09-04T11:15:30.139Z"
   },
   {
    "duration": 12,
    "start_time": "2022-09-04T11:15:30.167Z"
   },
   {
    "duration": 39,
    "start_time": "2022-09-04T11:15:30.180Z"
   },
   {
    "duration": 11,
    "start_time": "2022-09-04T11:15:30.220Z"
   },
   {
    "duration": 21,
    "start_time": "2022-09-04T11:15:30.232Z"
   },
   {
    "duration": 23,
    "start_time": "2022-09-04T11:15:30.254Z"
   },
   {
    "duration": 38,
    "start_time": "2022-09-04T11:15:30.279Z"
   },
   {
    "duration": 4,
    "start_time": "2022-09-04T11:17:16.403Z"
   },
   {
    "duration": 18,
    "start_time": "2022-09-04T11:18:31.051Z"
   },
   {
    "duration": 12,
    "start_time": "2022-09-04T11:19:28.700Z"
   },
   {
    "duration": 14,
    "start_time": "2022-09-04T11:19:39.543Z"
   },
   {
    "duration": 12,
    "start_time": "2022-09-04T11:19:45.247Z"
   },
   {
    "duration": 370,
    "start_time": "2022-09-04T11:22:02.285Z"
   },
   {
    "duration": 164,
    "start_time": "2022-09-04T11:22:02.657Z"
   },
   {
    "duration": 16,
    "start_time": "2022-09-04T11:22:02.823Z"
   },
   {
    "duration": 49,
    "start_time": "2022-09-04T11:22:02.842Z"
   },
   {
    "duration": 7,
    "start_time": "2022-09-04T11:22:02.894Z"
   },
   {
    "duration": 15,
    "start_time": "2022-09-04T11:22:02.902Z"
   },
   {
    "duration": 17,
    "start_time": "2022-09-04T11:22:02.918Z"
   },
   {
    "duration": 7,
    "start_time": "2022-09-04T11:22:02.937Z"
   },
   {
    "duration": 23,
    "start_time": "2022-09-04T11:22:02.946Z"
   },
   {
    "duration": 33,
    "start_time": "2022-09-04T11:22:02.972Z"
   },
   {
    "duration": 30,
    "start_time": "2022-09-04T11:22:03.007Z"
   },
   {
    "duration": 96,
    "start_time": "2022-09-04T11:22:03.039Z"
   },
   {
    "duration": 74,
    "start_time": "2022-09-04T11:22:03.136Z"
   },
   {
    "duration": 73,
    "start_time": "2022-09-04T11:22:03.212Z"
   },
   {
    "duration": 39,
    "start_time": "2022-09-04T11:22:03.288Z"
   },
   {
    "duration": 9,
    "start_time": "2022-09-04T11:22:03.329Z"
   },
   {
    "duration": 57,
    "start_time": "2022-09-04T11:22:03.339Z"
   },
   {
    "duration": 12,
    "start_time": "2022-09-04T11:22:03.399Z"
   },
   {
    "duration": 11,
    "start_time": "2022-09-04T11:22:03.413Z"
   },
   {
    "duration": 4,
    "start_time": "2022-09-04T11:22:03.425Z"
   },
   {
    "duration": 23,
    "start_time": "2022-09-04T11:22:03.430Z"
   },
   {
    "duration": 47,
    "start_time": "2022-09-04T11:22:03.455Z"
   },
   {
    "duration": 16,
    "start_time": "2022-09-04T11:22:03.504Z"
   },
   {
    "duration": 14,
    "start_time": "2022-09-04T11:22:03.522Z"
   },
   {
    "duration": 14,
    "start_time": "2022-09-04T11:22:03.538Z"
   },
   {
    "duration": 31,
    "start_time": "2022-09-04T11:22:03.554Z"
   },
   {
    "duration": 9,
    "start_time": "2022-09-04T11:22:03.587Z"
   },
   {
    "duration": 13,
    "start_time": "2022-09-04T11:22:03.605Z"
   },
   {
    "duration": 9,
    "start_time": "2022-09-04T11:22:03.619Z"
   },
   {
    "duration": 6,
    "start_time": "2022-09-04T11:22:03.630Z"
   },
   {
    "duration": 23,
    "start_time": "2022-09-04T11:22:03.638Z"
   },
   {
    "duration": 28,
    "start_time": "2022-09-04T11:22:03.663Z"
   },
   {
    "duration": 17,
    "start_time": "2022-09-04T11:22:03.692Z"
   },
   {
    "duration": 10,
    "start_time": "2022-09-04T11:22:03.711Z"
   },
   {
    "duration": 2,
    "start_time": "2022-09-04T11:22:03.722Z"
   },
   {
    "duration": 9,
    "start_time": "2022-09-04T11:22:03.725Z"
   },
   {
    "duration": 5,
    "start_time": "2022-09-04T11:22:03.735Z"
   },
   {
    "duration": 9,
    "start_time": "2022-09-04T11:22:03.741Z"
   },
   {
    "duration": 5,
    "start_time": "2022-09-04T11:24:35.771Z"
   },
   {
    "duration": 18,
    "start_time": "2022-09-04T11:24:39.459Z"
   },
   {
    "duration": 10,
    "start_time": "2022-09-04T11:24:40.773Z"
   },
   {
    "duration": 22,
    "start_time": "2022-09-04T11:24:43.343Z"
   },
   {
    "duration": 15,
    "start_time": "2022-09-04T11:24:45.473Z"
   },
   {
    "duration": 9,
    "start_time": "2022-09-04T11:28:19.301Z"
   },
   {
    "duration": 5,
    "start_time": "2022-09-04T11:28:45.851Z"
   },
   {
    "duration": 7,
    "start_time": "2022-09-04T11:29:09.748Z"
   },
   {
    "duration": 5,
    "start_time": "2022-09-04T11:29:12.688Z"
   },
   {
    "duration": 60,
    "start_time": "2022-09-04T11:30:35.306Z"
   },
   {
    "duration": 5,
    "start_time": "2022-09-04T11:30:45.167Z"
   },
   {
    "duration": 5,
    "start_time": "2022-09-04T11:31:10.645Z"
   },
   {
    "duration": 401,
    "start_time": "2022-09-04T11:31:54.418Z"
   },
   {
    "duration": 155,
    "start_time": "2022-09-04T11:31:54.822Z"
   },
   {
    "duration": 26,
    "start_time": "2022-09-04T11:31:54.979Z"
   },
   {
    "duration": 44,
    "start_time": "2022-09-04T11:31:55.007Z"
   },
   {
    "duration": 2,
    "start_time": "2022-09-04T11:31:55.054Z"
   },
   {
    "duration": 11,
    "start_time": "2022-09-04T11:31:55.057Z"
   },
   {
    "duration": 28,
    "start_time": "2022-09-04T11:31:55.070Z"
   },
   {
    "duration": 13,
    "start_time": "2022-09-04T11:31:55.099Z"
   },
   {
    "duration": 24,
    "start_time": "2022-09-04T11:31:55.113Z"
   },
   {
    "duration": 25,
    "start_time": "2022-09-04T11:31:55.139Z"
   },
   {
    "duration": 36,
    "start_time": "2022-09-04T11:31:55.166Z"
   },
   {
    "duration": 68,
    "start_time": "2022-09-04T11:31:55.204Z"
   },
   {
    "duration": 78,
    "start_time": "2022-09-04T11:31:55.274Z"
   },
   {
    "duration": 73,
    "start_time": "2022-09-04T11:31:55.355Z"
   },
   {
    "duration": 34,
    "start_time": "2022-09-04T11:31:55.430Z"
   },
   {
    "duration": 31,
    "start_time": "2022-09-04T11:31:55.465Z"
   },
   {
    "duration": 50,
    "start_time": "2022-09-04T11:31:55.497Z"
   },
   {
    "duration": 11,
    "start_time": "2022-09-04T11:31:55.549Z"
   },
   {
    "duration": 29,
    "start_time": "2022-09-04T11:31:55.562Z"
   },
   {
    "duration": 13,
    "start_time": "2022-09-04T11:31:55.592Z"
   },
   {
    "duration": 37,
    "start_time": "2022-09-04T11:31:55.607Z"
   },
   {
    "duration": 19,
    "start_time": "2022-09-04T11:31:55.646Z"
   },
   {
    "duration": 28,
    "start_time": "2022-09-04T11:31:55.667Z"
   },
   {
    "duration": 16,
    "start_time": "2022-09-04T11:31:55.704Z"
   },
   {
    "duration": 22,
    "start_time": "2022-09-04T11:31:55.721Z"
   },
   {
    "duration": 15,
    "start_time": "2022-09-04T11:31:55.745Z"
   },
   {
    "duration": 24,
    "start_time": "2022-09-04T11:31:55.762Z"
   },
   {
    "duration": 24,
    "start_time": "2022-09-04T11:31:55.793Z"
   },
   {
    "duration": 8,
    "start_time": "2022-09-04T11:31:55.819Z"
   },
   {
    "duration": 3,
    "start_time": "2022-09-04T11:31:55.829Z"
   },
   {
    "duration": 23,
    "start_time": "2022-09-04T11:31:55.834Z"
   },
   {
    "duration": 13,
    "start_time": "2022-09-04T11:31:55.859Z"
   },
   {
    "duration": 33,
    "start_time": "2022-09-04T11:31:55.888Z"
   },
   {
    "duration": 13,
    "start_time": "2022-09-04T11:31:55.926Z"
   },
   {
    "duration": 8,
    "start_time": "2022-09-04T11:31:55.941Z"
   },
   {
    "duration": 6,
    "start_time": "2022-09-04T11:31:55.951Z"
   },
   {
    "duration": 8,
    "start_time": "2022-09-04T11:31:55.958Z"
   },
   {
    "duration": 5,
    "start_time": "2022-09-04T11:31:55.967Z"
   }
  ],
  "celltoolbar": "Отсутствует",
  "colab": {
   "provenance": []
  },
  "kernelspec": {
   "display_name": "Python 3 (ipykernel)",
   "language": "python",
   "name": "python3"
  },
  "language_info": {
   "codemirror_mode": {
    "name": "ipython",
    "version": 3
   },
   "file_extension": ".py",
   "mimetype": "text/x-python",
   "name": "python",
   "nbconvert_exporter": "python",
   "pygments_lexer": "ipython3",
   "version": "3.9.13"
  },
  "toc": {
   "base_numbering": 1,
   "nav_menu": {
    "height": "215px",
    "width": "403px"
   },
   "number_sections": true,
   "sideBar": true,
   "skip_h1_title": true,
   "title_cell": "Table of Contents",
   "title_sidebar": "Contents",
   "toc_cell": false,
   "toc_position": {
    "height": "calc(100% - 180px)",
    "left": "10px",
    "top": "150px",
    "width": "285.825px"
   },
   "toc_section_display": true,
   "toc_window_display": false
  }
 },
 "nbformat": 4,
 "nbformat_minor": 1
}
