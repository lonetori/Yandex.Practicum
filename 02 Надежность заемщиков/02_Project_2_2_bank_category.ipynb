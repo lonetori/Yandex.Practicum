{
 "cells": [
  {
   "cell_type": "markdown",
   "id": "96db848f",
   "metadata": {
    "deletable": false,
    "editable": false,
    "id": "96db848f"
   },
   "source": [
    "# Исследование надежности заемщиков\n"
   ]
  },
  {
   "cell_type": "markdown",
   "id": "dddda8f0",
   "metadata": {
    "id": "dddda8f0"
   },
   "source": [
    "Заказчик — кредитный отдел банка. Нужно разобраться, влияет ли семейное положение и количество детей клиента на факт погашения кредита в срок. Входные данные от банка — статистика о платёжеспособности клиентов.\n",
    "\n",
    "\n",
    "Результаты исследования будут учтены при построении модели кредитного скоринга — специальной системы, которая оценивает способность потенциального заёмщика вернуть кредит банку.\n"
   ]
  },
  {
   "cell_type": "markdown",
   "id": "e99dab2b",
   "metadata": {
    "deletable": false,
    "editable": false,
    "id": "e99dab2b"
   },
   "source": [
    "## Общее изучение данных"
   ]
  },
  {
   "cell_type": "code",
   "execution_count": 1,
   "id": "b3d66169",
   "metadata": {
    "deletable": false,
    "id": "b3d66169"
   },
   "outputs": [],
   "source": [
    "import pandas as pd\n",
    "import seaborn\n",
    "import matplotlib.pyplot as plt"
   ]
  },
  {
   "cell_type": "markdown",
   "id": "jjiBUBBpBBkf",
   "metadata": {
    "id": "jjiBUBBpBBkf"
   },
   "source": [
    "Загрузим данные."
   ]
  },
  {
   "cell_type": "code",
   "execution_count": 2,
   "id": "6fd75041",
   "metadata": {
    "id": "6fd75041"
   },
   "outputs": [],
   "source": [
    "data = pd.read_csv('data.csv')"
   ]
  },
  {
   "cell_type": "code",
   "execution_count": 3,
   "id": "47ba8ba1",
   "metadata": {
    "deletable": false,
    "id": "47ba8ba1",
    "outputId": "1a8f3ef2-d323-4ec2-ddf7-89670b5944c4"
   },
   "outputs": [
    {
     "data": {
      "text/html": [
       "<div>\n",
       "<style scoped>\n",
       "    .dataframe tbody tr th:only-of-type {\n",
       "        vertical-align: middle;\n",
       "    }\n",
       "\n",
       "    .dataframe tbody tr th {\n",
       "        vertical-align: top;\n",
       "    }\n",
       "\n",
       "    .dataframe thead th {\n",
       "        text-align: right;\n",
       "    }\n",
       "</style>\n",
       "<table border=\"1\" class=\"dataframe\">\n",
       "  <thead>\n",
       "    <tr style=\"text-align: right;\">\n",
       "      <th></th>\n",
       "      <th>children</th>\n",
       "      <th>days_employed</th>\n",
       "      <th>dob_years</th>\n",
       "      <th>education</th>\n",
       "      <th>education_id</th>\n",
       "      <th>family_status</th>\n",
       "      <th>family_status_id</th>\n",
       "      <th>gender</th>\n",
       "      <th>income_type</th>\n",
       "      <th>debt</th>\n",
       "      <th>total_income</th>\n",
       "      <th>purpose</th>\n",
       "    </tr>\n",
       "  </thead>\n",
       "  <tbody>\n",
       "    <tr>\n",
       "      <th>0</th>\n",
       "      <td>1</td>\n",
       "      <td>-8437.673028</td>\n",
       "      <td>42</td>\n",
       "      <td>высшее</td>\n",
       "      <td>0</td>\n",
       "      <td>женат / замужем</td>\n",
       "      <td>0</td>\n",
       "      <td>F</td>\n",
       "      <td>сотрудник</td>\n",
       "      <td>0</td>\n",
       "      <td>253875.639453</td>\n",
       "      <td>покупка жилья</td>\n",
       "    </tr>\n",
       "    <tr>\n",
       "      <th>1</th>\n",
       "      <td>1</td>\n",
       "      <td>-4024.803754</td>\n",
       "      <td>36</td>\n",
       "      <td>среднее</td>\n",
       "      <td>1</td>\n",
       "      <td>женат / замужем</td>\n",
       "      <td>0</td>\n",
       "      <td>F</td>\n",
       "      <td>сотрудник</td>\n",
       "      <td>0</td>\n",
       "      <td>112080.014102</td>\n",
       "      <td>приобретение автомобиля</td>\n",
       "    </tr>\n",
       "    <tr>\n",
       "      <th>2</th>\n",
       "      <td>0</td>\n",
       "      <td>-5623.422610</td>\n",
       "      <td>33</td>\n",
       "      <td>Среднее</td>\n",
       "      <td>1</td>\n",
       "      <td>женат / замужем</td>\n",
       "      <td>0</td>\n",
       "      <td>M</td>\n",
       "      <td>сотрудник</td>\n",
       "      <td>0</td>\n",
       "      <td>145885.952297</td>\n",
       "      <td>покупка жилья</td>\n",
       "    </tr>\n",
       "    <tr>\n",
       "      <th>3</th>\n",
       "      <td>3</td>\n",
       "      <td>-4124.747207</td>\n",
       "      <td>32</td>\n",
       "      <td>среднее</td>\n",
       "      <td>1</td>\n",
       "      <td>женат / замужем</td>\n",
       "      <td>0</td>\n",
       "      <td>M</td>\n",
       "      <td>сотрудник</td>\n",
       "      <td>0</td>\n",
       "      <td>267628.550329</td>\n",
       "      <td>дополнительное образование</td>\n",
       "    </tr>\n",
       "    <tr>\n",
       "      <th>4</th>\n",
       "      <td>0</td>\n",
       "      <td>340266.072047</td>\n",
       "      <td>53</td>\n",
       "      <td>среднее</td>\n",
       "      <td>1</td>\n",
       "      <td>гражданский брак</td>\n",
       "      <td>1</td>\n",
       "      <td>F</td>\n",
       "      <td>пенсионер</td>\n",
       "      <td>0</td>\n",
       "      <td>158616.077870</td>\n",
       "      <td>сыграть свадьбу</td>\n",
       "    </tr>\n",
       "    <tr>\n",
       "      <th>5</th>\n",
       "      <td>0</td>\n",
       "      <td>-926.185831</td>\n",
       "      <td>27</td>\n",
       "      <td>высшее</td>\n",
       "      <td>0</td>\n",
       "      <td>гражданский брак</td>\n",
       "      <td>1</td>\n",
       "      <td>M</td>\n",
       "      <td>компаньон</td>\n",
       "      <td>0</td>\n",
       "      <td>255763.565419</td>\n",
       "      <td>покупка жилья</td>\n",
       "    </tr>\n",
       "    <tr>\n",
       "      <th>6</th>\n",
       "      <td>0</td>\n",
       "      <td>-2879.202052</td>\n",
       "      <td>43</td>\n",
       "      <td>высшее</td>\n",
       "      <td>0</td>\n",
       "      <td>женат / замужем</td>\n",
       "      <td>0</td>\n",
       "      <td>F</td>\n",
       "      <td>компаньон</td>\n",
       "      <td>0</td>\n",
       "      <td>240525.971920</td>\n",
       "      <td>операции с жильем</td>\n",
       "    </tr>\n",
       "    <tr>\n",
       "      <th>7</th>\n",
       "      <td>0</td>\n",
       "      <td>-152.779569</td>\n",
       "      <td>50</td>\n",
       "      <td>СРЕДНЕЕ</td>\n",
       "      <td>1</td>\n",
       "      <td>женат / замужем</td>\n",
       "      <td>0</td>\n",
       "      <td>M</td>\n",
       "      <td>сотрудник</td>\n",
       "      <td>0</td>\n",
       "      <td>135823.934197</td>\n",
       "      <td>образование</td>\n",
       "    </tr>\n",
       "    <tr>\n",
       "      <th>8</th>\n",
       "      <td>2</td>\n",
       "      <td>-6929.865299</td>\n",
       "      <td>35</td>\n",
       "      <td>ВЫСШЕЕ</td>\n",
       "      <td>0</td>\n",
       "      <td>гражданский брак</td>\n",
       "      <td>1</td>\n",
       "      <td>F</td>\n",
       "      <td>сотрудник</td>\n",
       "      <td>0</td>\n",
       "      <td>95856.832424</td>\n",
       "      <td>на проведение свадьбы</td>\n",
       "    </tr>\n",
       "    <tr>\n",
       "      <th>9</th>\n",
       "      <td>0</td>\n",
       "      <td>-2188.756445</td>\n",
       "      <td>41</td>\n",
       "      <td>среднее</td>\n",
       "      <td>1</td>\n",
       "      <td>женат / замужем</td>\n",
       "      <td>0</td>\n",
       "      <td>M</td>\n",
       "      <td>сотрудник</td>\n",
       "      <td>0</td>\n",
       "      <td>144425.938277</td>\n",
       "      <td>покупка жилья для семьи</td>\n",
       "    </tr>\n",
       "  </tbody>\n",
       "</table>\n",
       "</div>"
      ],
      "text/plain": [
       "   children  days_employed  dob_years education  education_id  \\\n",
       "0         1   -8437.673028         42    высшее             0   \n",
       "1         1   -4024.803754         36   среднее             1   \n",
       "2         0   -5623.422610         33   Среднее             1   \n",
       "3         3   -4124.747207         32   среднее             1   \n",
       "4         0  340266.072047         53   среднее             1   \n",
       "5         0    -926.185831         27    высшее             0   \n",
       "6         0   -2879.202052         43    высшее             0   \n",
       "7         0    -152.779569         50   СРЕДНЕЕ             1   \n",
       "8         2   -6929.865299         35    ВЫСШЕЕ             0   \n",
       "9         0   -2188.756445         41   среднее             1   \n",
       "\n",
       "      family_status  family_status_id gender income_type  debt   total_income  \\\n",
       "0   женат / замужем                 0      F   сотрудник     0  253875.639453   \n",
       "1   женат / замужем                 0      F   сотрудник     0  112080.014102   \n",
       "2   женат / замужем                 0      M   сотрудник     0  145885.952297   \n",
       "3   женат / замужем                 0      M   сотрудник     0  267628.550329   \n",
       "4  гражданский брак                 1      F   пенсионер     0  158616.077870   \n",
       "5  гражданский брак                 1      M   компаньон     0  255763.565419   \n",
       "6   женат / замужем                 0      F   компаньон     0  240525.971920   \n",
       "7   женат / замужем                 0      M   сотрудник     0  135823.934197   \n",
       "8  гражданский брак                 1      F   сотрудник     0   95856.832424   \n",
       "9   женат / замужем                 0      M   сотрудник     0  144425.938277   \n",
       "\n",
       "                      purpose  \n",
       "0               покупка жилья  \n",
       "1     приобретение автомобиля  \n",
       "2               покупка жилья  \n",
       "3  дополнительное образование  \n",
       "4             сыграть свадьбу  \n",
       "5               покупка жилья  \n",
       "6           операции с жильем  \n",
       "7                 образование  \n",
       "8       на проведение свадьбы  \n",
       "9     покупка жилья для семьи  "
      ]
     },
     "execution_count": 3,
     "metadata": {},
     "output_type": "execute_result"
    }
   ],
   "source": [
    "data.head(10)"
   ]
  },
  {
   "cell_type": "code",
   "execution_count": 4,
   "id": "5a170021",
   "metadata": {
    "deletable": false,
    "id": "5a170021",
    "outputId": "15376089-8dad-46c9-b520-c05248d43158"
   },
   "outputs": [
    {
     "name": "stdout",
     "output_type": "stream",
     "text": [
      "<class 'pandas.core.frame.DataFrame'>\n",
      "RangeIndex: 21525 entries, 0 to 21524\n",
      "Data columns (total 12 columns):\n",
      " #   Column            Non-Null Count  Dtype  \n",
      "---  ------            --------------  -----  \n",
      " 0   children          21525 non-null  int64  \n",
      " 1   days_employed     19351 non-null  float64\n",
      " 2   dob_years         21525 non-null  int64  \n",
      " 3   education         21525 non-null  object \n",
      " 4   education_id      21525 non-null  int64  \n",
      " 5   family_status     21525 non-null  object \n",
      " 6   family_status_id  21525 non-null  int64  \n",
      " 7   gender            21525 non-null  object \n",
      " 8   income_type       21525 non-null  object \n",
      " 9   debt              21525 non-null  int64  \n",
      " 10  total_income      19351 non-null  float64\n",
      " 11  purpose           21525 non-null  object \n",
      "dtypes: float64(2), int64(5), object(5)\n",
      "memory usage: 2.0+ MB\n"
     ]
    }
   ],
   "source": [
    "data.info()"
   ]
  },
  {
   "cell_type": "markdown",
   "id": "3df8275c",
   "metadata": {
    "deletable": false,
    "editable": false,
    "id": "3df8275c"
   },
   "source": [
    "## Предобработка данных"
   ]
  },
  {
   "cell_type": "markdown",
   "id": "0c5ec604",
   "metadata": {
    "deletable": false,
    "editable": false,
    "id": "0c5ec604"
   },
   "source": [
    "### Удаление пропусков"
   ]
  },
  {
   "cell_type": "markdown",
   "id": "5e12f5aa",
   "metadata": {
    "deletable": false,
    "id": "5e12f5aa"
   },
   "source": [
    "Выведем количество пропущенных значений для каждого столбца."
   ]
  },
  {
   "cell_type": "code",
   "execution_count": 5,
   "id": "6e599f68",
   "metadata": {
    "deletable": false,
    "id": "6e599f68",
    "outputId": "81f4d817-781c-465c-ed15-91ce4446810d"
   },
   "outputs": [
    {
     "data": {
      "text/plain": [
       "children               0\n",
       "days_employed       2174\n",
       "dob_years              0\n",
       "education              0\n",
       "education_id           0\n",
       "family_status          0\n",
       "family_status_id       0\n",
       "gender                 0\n",
       "income_type            0\n",
       "debt                   0\n",
       "total_income        2174\n",
       "purpose                0\n",
       "dtype: int64"
      ]
     },
     "execution_count": 5,
     "metadata": {},
     "output_type": "execute_result"
    }
   ],
   "source": [
    "data.isna().sum()"
   ]
  },
  {
   "cell_type": "markdown",
   "id": "c599079f",
   "metadata": {
    "deletable": false,
    "editable": false,
    "id": "c599079f"
   },
   "source": [
    "В двух столбцах есть пропущенные значения. Один из них — `days_employed`. Пропуски в этом столбце мы обработаем на следующем этапе.\n",
    "Другой столбец с пропущенными значениями — `total_income` — хранит данные о доходах. На сумму дохода сильнее всего влияет тип занятости, поэтому заполнить пропуски в этом столбце нужно медианным значением по каждому типу из столбца `income_type`."
   ]
  },
  {
   "cell_type": "code",
   "execution_count": 6,
   "id": "b30a8951",
   "metadata": {
    "deletable": false,
    "id": "b30a8951"
   },
   "outputs": [],
   "source": [
    "for t in data['income_type'].unique():\n",
    "    data.loc[(data['income_type'] == t) & (data['total_income'].isna()), 'total_income'] = \\\n",
    "    data.loc[(data['income_type'] == t), 'total_income'].median()"
   ]
  },
  {
   "cell_type": "markdown",
   "id": "af25f989",
   "metadata": {
    "deletable": false,
    "editable": false,
    "id": "af25f989"
   },
   "source": [
    "### Обработка аномальных значений"
   ]
  },
  {
   "cell_type": "markdown",
   "id": "a7754c55",
   "metadata": {
    "deletable": false,
    "editable": false,
    "id": "a7754c55"
   },
   "source": [
    "Отрицательное количество дней трудового стажа в столбце `days_employed` будет являться аномальным значением.Заменим все отрицательные значения положительными с помощью метода `abs()`."
   ]
  },
  {
   "cell_type": "code",
   "execution_count": 7,
   "id": "82dfcfff",
   "metadata": {
    "deletable": false,
    "id": "82dfcfff"
   },
   "outputs": [],
   "source": [
    "data['days_employed'] = data['days_employed'].abs()"
   ]
  },
  {
   "cell_type": "markdown",
   "id": "7c807695",
   "metadata": {
    "deletable": false,
    "editable": false,
    "id": "7c807695"
   },
   "source": [
    "Для каждого типа занятости выведем медианное значение трудового стажа `days_employed` в днях."
   ]
  },
  {
   "cell_type": "code",
   "execution_count": 8,
   "id": "2168fee2",
   "metadata": {
    "deletable": false,
    "id": "2168fee2",
    "outputId": "801ef80e-522b-4668-f34e-565af7432bcf"
   },
   "outputs": [
    {
     "data": {
      "text/plain": [
       "income_type\n",
       "безработный        366413.652744\n",
       "в декрете            3296.759962\n",
       "госслужащий          2689.368353\n",
       "компаньон            1547.382223\n",
       "пенсионер          365213.306266\n",
       "предприниматель       520.848083\n",
       "сотрудник            1574.202821\n",
       "студент               578.751554\n",
       "Name: days_employed, dtype: float64"
      ]
     },
     "execution_count": 8,
     "metadata": {},
     "output_type": "execute_result"
    }
   ],
   "source": [
    "data.groupby('income_type')['days_employed'].agg('median')"
   ]
  },
  {
   "cell_type": "markdown",
   "id": "130040cb",
   "metadata": {
    "deletable": false,
    "editable": false,
    "id": "130040cb"
   },
   "source": [
    "У двух типов (безработные и пенсионеры) получатся аномально большие значения. Поскольку этот столбец не понадобится для исследования, оставим значения как есть."
   ]
  },
  {
   "cell_type": "markdown",
   "id": "23b74748",
   "metadata": {
    "deletable": false,
    "editable": false,
    "id": "23b74748"
   },
   "source": [
    "Выведем перечень уникальных значений столбца `children`."
   ]
  },
  {
   "cell_type": "code",
   "execution_count": 9,
   "id": "f39597bd",
   "metadata": {
    "deletable": false,
    "id": "f39597bd",
    "outputId": "6975b15c-7f95-4697-d16d-a0c79b657b03"
   },
   "outputs": [
    {
     "data": {
      "text/plain": [
       "array([ 1,  0,  3,  2, -1,  4, 20,  5], dtype=int64)"
      ]
     },
     "execution_count": 9,
     "metadata": {},
     "output_type": "execute_result"
    }
   ],
   "source": [
    "data['children'].unique()"
   ]
  },
  {
   "cell_type": "markdown",
   "id": "d0bc7343",
   "metadata": {
    "deletable": false,
    "editable": false,
    "id": "d0bc7343"
   },
   "source": [
    "В столбце `children` есть два аномальных значения. Удалим строки, в которых встречаются такие аномальные значения из датафрейма `data`."
   ]
  },
  {
   "cell_type": "code",
   "execution_count": 10,
   "id": "033d1516",
   "metadata": {
    "deletable": false,
    "id": "033d1516"
   },
   "outputs": [],
   "source": [
    "data = data[(data['children'] != -1) & (data['children'] != 20)]"
   ]
  },
  {
   "cell_type": "markdown",
   "id": "1589aa05",
   "metadata": {
    "deletable": false,
    "editable": false,
    "id": "1589aa05"
   },
   "source": [
    "Убедимся, что аномалии удалены."
   ]
  },
  {
   "cell_type": "code",
   "execution_count": 11,
   "id": "063e227a",
   "metadata": {
    "deletable": false,
    "id": "063e227a",
    "outputId": "b2097101-d49d-44d9-901b-32a65c9463d1"
   },
   "outputs": [
    {
     "data": {
      "text/plain": [
       "array([1, 0, 3, 2, 4, 5], dtype=int64)"
      ]
     },
     "execution_count": 11,
     "metadata": {},
     "output_type": "execute_result"
    }
   ],
   "source": [
    "data['children'].unique()"
   ]
  },
  {
   "cell_type": "markdown",
   "id": "5c57c3e7",
   "metadata": {
    "deletable": false,
    "editable": false,
    "id": "5c57c3e7"
   },
   "source": [
    "### Удаление пропусков (продолжение)"
   ]
  },
  {
   "cell_type": "markdown",
   "id": "9b95d0b8",
   "metadata": {
    "deletable": false,
    "editable": false,
    "id": "9b95d0b8"
   },
   "source": [
    "Заполним пропуски в столбце `days_employed` медианными значениями по каждого типа занятости `income_type`."
   ]
  },
  {
   "cell_type": "code",
   "execution_count": 12,
   "id": "aab52001",
   "metadata": {
    "deletable": false,
    "id": "aab52001"
   },
   "outputs": [],
   "source": [
    "for t in data['income_type'].unique():\n",
    "    data.loc[(data['income_type'] == t) & (data['days_employed'].isna()), 'days_employed'] = \\\n",
    "    data.loc[(data['income_type'] == t), 'days_employed'].median()"
   ]
  },
  {
   "cell_type": "markdown",
   "id": "f7056190",
   "metadata": {
    "deletable": false,
    "editable": false,
    "id": "f7056190"
   },
   "source": [
    "Убедимся, что все пропуски заполнены. Выведем количество пропущенных значений для каждого столбца."
   ]
  },
  {
   "cell_type": "code",
   "execution_count": 13,
   "id": "c76e70c2",
   "metadata": {
    "deletable": false,
    "id": "c76e70c2",
    "outputId": "8da1e4e1-358e-4e87-98c9-f261bce0a7b2"
   },
   "outputs": [
    {
     "data": {
      "text/plain": [
       "children            0\n",
       "days_employed       0\n",
       "dob_years           0\n",
       "education           0\n",
       "education_id        0\n",
       "family_status       0\n",
       "family_status_id    0\n",
       "gender              0\n",
       "income_type         0\n",
       "debt                0\n",
       "total_income        0\n",
       "purpose             0\n",
       "dtype: int64"
      ]
     },
     "execution_count": 13,
     "metadata": {},
     "output_type": "execute_result"
    }
   ],
   "source": [
    "data.isna().sum()"
   ]
  },
  {
   "cell_type": "markdown",
   "id": "f28ae760",
   "metadata": {
    "deletable": false,
    "editable": false,
    "id": "f28ae760"
   },
   "source": [
    "### Изменение типов данных"
   ]
  },
  {
   "cell_type": "markdown",
   "id": "aa3d2d0e",
   "metadata": {
    "deletable": false,
    "editable": false,
    "id": "aa3d2d0e"
   },
   "source": [
    "Заменим вещественный тип данных в столбце `total_income` на целочисленный с помощью метода `astype()`."
   ]
  },
  {
   "cell_type": "code",
   "execution_count": 14,
   "id": "63f7c637",
   "metadata": {
    "deletable": false,
    "id": "63f7c637"
   },
   "outputs": [],
   "source": [
    "data['total_income'] = data['total_income'].astype(int)"
   ]
  },
  {
   "cell_type": "markdown",
   "id": "fc79f98b",
   "metadata": {
    "deletable": false,
    "editable": false,
    "id": "fc79f98b"
   },
   "source": [
    "### Обработка дубликатов"
   ]
  },
  {
   "cell_type": "markdown",
   "id": "f48a5f7e",
   "metadata": {
    "deletable": false,
    "editable": false,
    "id": "f48a5f7e"
   },
   "source": [
    "Обработаем неявные дубликаты в столбце `education`. В этом столбце есть одни и те же значения, но записанные по-разному: с использованием заглавных и строчных букв. Приведем их к нижнему регистру. Проверим остальные столбцы."
   ]
  },
  {
   "cell_type": "code",
   "execution_count": 15,
   "id": "22b6b6de",
   "metadata": {
    "deletable": false,
    "id": "22b6b6de"
   },
   "outputs": [],
   "source": [
    "data['education'] = data['education'].str.lower()"
   ]
  },
  {
   "cell_type": "markdown",
   "id": "846d2505",
   "metadata": {
    "deletable": false,
    "editable": false,
    "id": "846d2505"
   },
   "source": [
    "Выведем на экран количество строк-дубликатов в данных и удалим дубликаты."
   ]
  },
  {
   "cell_type": "code",
   "execution_count": 16,
   "id": "f7098087",
   "metadata": {
    "deletable": false,
    "id": "f7098087",
    "outputId": "9684deba-1934-42d1-99e1-cda61740f822"
   },
   "outputs": [
    {
     "data": {
      "text/plain": [
       "71"
      ]
     },
     "execution_count": 16,
     "metadata": {},
     "output_type": "execute_result"
    }
   ],
   "source": [
    "data.duplicated().sum()"
   ]
  },
  {
   "cell_type": "code",
   "execution_count": 17,
   "id": "ec035e24",
   "metadata": {
    "deletable": false,
    "id": "ec035e24"
   },
   "outputs": [],
   "source": [
    "data = data.drop_duplicates()"
   ]
  },
  {
   "cell_type": "markdown",
   "id": "857671ef",
   "metadata": {
    "deletable": false,
    "editable": false,
    "id": "857671ef"
   },
   "source": [
    "### Категоризация данных"
   ]
  },
  {
   "cell_type": "markdown",
   "id": "332f3518",
   "metadata": {
    "deletable": false,
    "editable": false,
    "id": "332f3518"
   },
   "source": [
    "На основании диапазонов, указанных ниже, создадим в датафрейме `data` столбец `total_income_category` с категориями:\n",
    "\n",
    "- 0–30000 — `'E'`;\n",
    "- 30001–50000 — `'D'`;\n",
    "- 50001–200000 — `'C'`;\n",
    "- 200001–1000000 — `'B'`;\n",
    "- 1000001 и выше — `'A'`."
   ]
  },
  {
   "cell_type": "code",
   "execution_count": 18,
   "id": "cabd1d12",
   "metadata": {
    "deletable": false,
    "id": "cabd1d12"
   },
   "outputs": [],
   "source": [
    "def categorize_income(income):\n",
    "    try:\n",
    "        if 0 <= income <= 30000:\n",
    "            return 'E'\n",
    "        elif 30001 <= income <= 50000:\n",
    "            return 'D'\n",
    "        elif 50001 <= income <= 200000:\n",
    "            return 'C'\n",
    "        elif 200001 <= income <= 1000000:\n",
    "            return 'B'\n",
    "        elif income >= 1000001:\n",
    "            return 'A'\n",
    "    except:\n",
    "        pass"
   ]
  },
  {
   "cell_type": "code",
   "execution_count": 19,
   "id": "c22f388e",
   "metadata": {
    "deletable": false,
    "id": "c22f388e"
   },
   "outputs": [],
   "source": [
    "data['total_income_category'] = data['total_income'].apply(categorize_income)"
   ]
  },
  {
   "cell_type": "markdown",
   "id": "fa97cbfc",
   "metadata": {
    "deletable": false,
    "editable": false,
    "id": "fa97cbfc"
   },
   "source": [
    "Выведим на экран перечень уникальных целей взятия кредита из столбца `purpose`."
   ]
  },
  {
   "cell_type": "code",
   "execution_count": 20,
   "id": "93e1c29d",
   "metadata": {
    "deletable": false,
    "id": "93e1c29d",
    "outputId": "673c12d9-7d7e-4ae0-9812-c622c89dd244"
   },
   "outputs": [
    {
     "data": {
      "text/plain": [
       "array(['покупка жилья', 'приобретение автомобиля',\n",
       "       'дополнительное образование', 'сыграть свадьбу',\n",
       "       'операции с жильем', 'образование', 'на проведение свадьбы',\n",
       "       'покупка жилья для семьи', 'покупка недвижимости',\n",
       "       'покупка коммерческой недвижимости', 'покупка жилой недвижимости',\n",
       "       'строительство собственной недвижимости', 'недвижимость',\n",
       "       'строительство недвижимости', 'на покупку подержанного автомобиля',\n",
       "       'на покупку своего автомобиля',\n",
       "       'операции с коммерческой недвижимостью',\n",
       "       'строительство жилой недвижимости', 'жилье',\n",
       "       'операции со своей недвижимостью', 'автомобили',\n",
       "       'заняться образованием', 'сделка с подержанным автомобилем',\n",
       "       'получение образования', 'автомобиль', 'свадьба',\n",
       "       'получение дополнительного образования', 'покупка своего жилья',\n",
       "       'операции с недвижимостью', 'получение высшего образования',\n",
       "       'свой автомобиль', 'сделка с автомобилем',\n",
       "       'профильное образование', 'высшее образование',\n",
       "       'покупка жилья для сдачи', 'на покупку автомобиля', 'ремонт жилью',\n",
       "       'заняться высшим образованием'], dtype=object)"
      ]
     },
     "execution_count": 20,
     "metadata": {},
     "output_type": "execute_result"
    }
   ],
   "source": [
    "data['purpose'].unique()"
   ]
  },
  {
   "cell_type": "markdown",
   "id": "5fa13c5c",
   "metadata": {
    "deletable": false,
    "editable": false,
    "id": "5fa13c5c"
   },
   "source": [
    "Создадим функцию, которая на основании данных из столбца `purpose` сформирует новый столбец `purpose_category`, в который войдут следующие категории:\n",
    "\n",
    "- `'операции с автомобилем'`,\n",
    "- `'операции с недвижимостью'`,\n",
    "- `'проведение свадьбы'`,\n",
    "- `'получение образования'`."
   ]
  },
  {
   "cell_type": "code",
   "execution_count": 21,
   "id": "cf6b8e33",
   "metadata": {
    "deletable": false,
    "id": "cf6b8e33"
   },
   "outputs": [],
   "source": [
    "def categorize_purpose(row):\n",
    "    try:\n",
    "        if 'автом' in row:\n",
    "            return 'операции с автомобилем'\n",
    "        elif 'жил' in row or 'недвиж' in row:\n",
    "            return 'операции с недвижимостью'\n",
    "        elif 'свад' in row:\n",
    "            return 'проведение свадьбы'\n",
    "        elif 'образов' in row:\n",
    "            return 'получение образования'\n",
    "    except:\n",
    "        return 'нет категории'"
   ]
  },
  {
   "cell_type": "code",
   "execution_count": 22,
   "id": "60e4c0a8",
   "metadata": {
    "deletable": false,
    "id": "60e4c0a8"
   },
   "outputs": [],
   "source": [
    "data['purpose_category'] = data['purpose'].apply(categorize_purpose)"
   ]
  },
  {
   "cell_type": "markdown",
   "id": "f08d8efc",
   "metadata": {
    "id": "f08d8efc"
   },
   "source": [
    "## Исследование данных"
   ]
  },
  {
   "cell_type": "markdown",
   "id": "bab8cc3f",
   "metadata": {
    "id": "bab8cc3f"
   },
   "source": [
    "### Есть ли зависимость между количеством детей и возвратом кредита в срок?"
   ]
  },
  {
   "cell_type": "code",
   "execution_count": 23,
   "id": "9e87328d",
   "metadata": {
    "deletable": false,
    "id": "9e87328d",
    "outputId": "e43ddf85-6727-40a7-b2be-7784e63bb94e"
   },
   "outputs": [
    {
     "name": "stdout",
     "output_type": "stream",
     "text": [
      "Количество детей:\n",
      " 0    14091\n",
      "1     4808\n",
      "2     2052\n",
      "3      330\n",
      "4       41\n",
      "5        9\n",
      "Name: children, dtype: int64\n"
     ]
    }
   ],
   "source": [
    "#статистика по количеству детей\n",
    "print('Количество детей:\\n', data['children'].value_counts())"
   ]
  },
  {
   "cell_type": "code",
   "execution_count": 24,
   "id": "5a834a64",
   "metadata": {
    "id": "5a834a64",
    "outputId": "d8771c9e-f146-45dd-c644-9ded024c9299"
   },
   "outputs": [
    {
     "name": "stdout",
     "output_type": "stream",
     "text": [
      "Количество детей, доля %:\n",
      " 0    66.058788\n",
      "1    22.539965\n",
      "2     9.619802\n",
      "3     1.547044\n",
      "4     0.192209\n",
      "5     0.042192\n",
      "Name: children, dtype: float64\n"
     ]
    }
   ],
   "source": [
    "# процент числа детей в семье\n",
    "print('Количество детей, доля %:\\n', data['children'].value_counts() / data['children'].count()*100)"
   ]
  },
  {
   "cell_type": "code",
   "execution_count": 25,
   "id": "983f1fd9",
   "metadata": {
    "id": "983f1fd9",
    "outputId": "b12bfd83-0d6c-4a0c-8589-4de1a23bd3e5"
   },
   "outputs": [
    {
     "name": "stdout",
     "output_type": "stream",
     "text": [
      "Количество случаев невозврата кредита в срок:\n",
      " children\n",
      "0    1063\n",
      "1     444\n",
      "2     194\n",
      "3      27\n",
      "4       4\n",
      "5       0\n",
      "Name: debt, dtype: int64\n"
     ]
    }
   ],
   "source": [
    "print('Количество случаев невозврата кредита в срок:\\n',\n",
    "      data.groupby('children')['debt'].sum()) #количество случаев невозврата кредита в срок"
   ]
  },
  {
   "cell_type": "code",
   "execution_count": 26,
   "id": "17c9ca08",
   "metadata": {
    "id": "17c9ca08",
    "outputId": "dfcb619a-9060-4d57-d1ab-698fb12f323c"
   },
   "outputs": [
    {
     "name": "stdout",
     "output_type": "stream",
     "text": [
      "Имели задолженность по возврату кредита (в зависимости от количества детей, %):\n",
      " children\n",
      "0    7.54\n",
      "1    9.23\n",
      "2    9.45\n",
      "3    8.18\n",
      "4    9.76\n",
      "5    0.00\n",
      "dtype: float64\n"
     ]
    }
   ],
   "source": [
    "#доля имеющих задолженность в зависимости от количества детей\n",
    "data_children = data.groupby('children')['debt'].sum() / data['children'].value_counts()\n",
    "print('Имели задолженность по возврату кредита (в зависимости от количества детей, %):\\n',\n",
    "      round(data_children * 100, 2)) #доля в процентах"
   ]
  },
  {
   "cell_type": "markdown",
   "id": "PPonfaCjE6Aq",
   "metadata": {
    "id": "PPonfaCjE6Aq"
   },
   "source": [
    "Построим график зависимости между количеством детей и возвратом кредита в срок."
   ]
  },
  {
   "cell_type": "code",
   "execution_count": 27,
   "id": "ef16ba35",
   "metadata": {
    "id": "ef16ba35",
    "outputId": "12260935-eaa6-41ea-cbf4-c3cb5d79d4cd"
   },
   "outputs": [
    {
     "data": {
      "image/png": "[encoded data removed]",
      "text/plain": [
       "<Figure size 640x480 with 1 Axes>"
      ]
     },
     "metadata": {},
     "output_type": "display_data"
    }
   ],
   "source": [
    "children = [0,1,2,3,4,5]\n",
    "seaborn.barplot(x=children, y=data_children*100, color='#4682B4');\n",
    "\n",
    "plt.title('Зависимость между количеством детей и возвратом кредита в срок')\n",
    "plt.xlabel('Количество детей')\n",
    "plt.ylabel('Наличие задолженности, %')\n",
    "plt.show()"
   ]
  },
  {
   "cell_type": "markdown",
   "id": "cfa8c323",
   "metadata": {
    "deletable": false,
    "id": "cfa8c323"
   },
   "source": [
    "**Вывод:** количество детей в целом слабо влияет на вероятность возврата кредита в срок.\n",
    "При этом, отсутствие детей повышает вероятность соблюдения сроков на ~2%.\n",
    "\n",
    "Следует отметить, что в представленной выборке полностью отсутствуют случаи задолженностей по кредитам при наличии пятерых детей, но общее количество таких случаев составляет менее 0,05%, а значит такой результат можно объяснить статистической погрешностью.\n",
    "\n",
    "Детей нет у 66% заёмщиков, однин ребёнок - у 22,5%. Оставшиеся категории составляют 11,5% от общего числа клиентов."
   ]
  },
  {
   "cell_type": "markdown",
   "id": "4a9325ee",
   "metadata": {
    "id": "4a9325ee"
   },
   "source": [
    "### Есть ли зависимость между семейным положением и возвратом кредита в срок?"
   ]
  },
  {
   "cell_type": "code",
   "execution_count": 28,
   "id": "ef838448",
   "metadata": {
    "deletable": false,
    "id": "ef838448",
    "outputId": "a173a6f2-8f88-4985-e588-ab871bc6f878"
   },
   "outputs": [
    {
     "name": "stdout",
     "output_type": "stream",
     "text": [
      "family_status_id  family_status        \n",
      "0                 женат / замужем          927\n",
      "1                 гражданский брак         385\n",
      "2                 вдовец / вдова            63\n",
      "3                 в разводе                 84\n",
      "4                 Не женат / не замужем    273\n",
      "Name: debt, dtype: int64\n"
     ]
    }
   ],
   "source": [
    "print(data.groupby(['family_status_id', 'family_status'])['debt'].sum())"
   ]
  },
  {
   "cell_type": "code",
   "execution_count": 29,
   "id": "b5a810d7",
   "metadata": {
    "id": "b5a810d7",
    "outputId": "0a3d1c66-42c7-4cdb-b16b-870af1681d8d"
   },
   "outputs": [
    {
     "name": "stdout",
     "output_type": "stream",
     "text": [
      "Семейное положение:\n",
      " family_status_id\n",
      "0    12261\n",
      "1     4134\n",
      "2      951\n",
      "3     1189\n",
      "4     2796\n",
      "Name: debt, dtype: int64\n"
     ]
    }
   ],
   "source": [
    "#семейное положение - количество\n",
    "print('Семейное положение:\\n', data.groupby('family_status_id')['debt'].count())"
   ]
  },
  {
   "cell_type": "code",
   "execution_count": 30,
   "id": "b01fcda6",
   "metadata": {
    "id": "b01fcda6",
    "outputId": "7728a89a-655b-4fa0-f84b-7054e2b287b7"
   },
   "outputs": [
    {
     "name": "stdout",
     "output_type": "stream",
     "text": [
      "Семейное положение, %:\n",
      " женат / замужем          57.479724\n",
      "гражданский брак         19.380245\n",
      "Не женат / не замужем    13.107684\n",
      "в разводе                 5.574047\n",
      "вдовец / вдова            4.458300\n",
      "Name: family_status, dtype: float64\n"
     ]
    }
   ],
   "source": [
    "#семейное положение - процент\n",
    "print('Семейное положение, %:\\n', data['family_status'].value_counts() / data['family_status'].count() *100)"
   ]
  },
  {
   "cell_type": "code",
   "execution_count": 31,
   "id": "3703d2d6",
   "metadata": {
    "id": "3703d2d6",
    "outputId": "bcf9e319-75cf-4ad2-8e58-3869daa459db"
   },
   "outputs": [
    {
     "name": "stdout",
     "output_type": "stream",
     "text": [
      "Количество задолженностей в зависимости от семейного положения:\n",
      " family_status_id\n",
      "0    927\n",
      "1    385\n",
      "2     63\n",
      "3     84\n",
      "4    273\n",
      "Name: debt, dtype: int64\n"
     ]
    }
   ],
   "source": [
    "print('Количество задолженностей в зависимости от семейного положения:\\n',\n",
    "      data.groupby('family_status_id')['debt'].sum()) #количество задолженностей в зависимости от семейного положения"
   ]
  },
  {
   "cell_type": "code",
   "execution_count": 32,
   "id": "cdae2a1e",
   "metadata": {
    "id": "cdae2a1e",
    "outputId": "f822f377-f3d5-4620-de16-c3c57dba713e"
   },
   "outputs": [
    {
     "name": "stdout",
     "output_type": "stream",
     "text": [
      "Имели задолженность по возврату кредита (в зависимости от семейного положения, %):\n",
      " family_status\n",
      "Не женат / не замужем    9.76\n",
      "в разводе                7.06\n",
      "вдовец / вдова           6.62\n",
      "гражданский брак         9.31\n",
      "женат / замужем          7.56\n",
      "Name: debt, dtype: float64\n"
     ]
    }
   ],
   "source": [
    "data_family = data.groupby('family_status')['debt'].sum() / data.groupby('family_status')['debt'].count()\n",
    "print('Имели задолженность по возврату кредита (в зависимости от семейного положения, %):\\n',\n",
    "      round(data_family * 100, 2))"
   ]
  },
  {
   "cell_type": "code",
   "execution_count": 33,
   "id": "6cff5fca",
   "metadata": {
    "id": "6cff5fca",
    "outputId": "256cb62e-63d2-4cc6-9cfb-3f217d1110b3"
   },
   "outputs": [
    {
     "data": {
      "image/png": "[encoded data removed]",
      "text/plain": [
       "<Figure size 640x480 with 1 Axes>"
      ]
     },
     "metadata": {},
     "output_type": "display_data"
    }
   ],
   "source": [
    "seaborn.barplot(x=sorted(data['family_status'].unique()), y=data_family*100, color='#4682B4');\n",
    "\n",
    "plt.title('Зависимость между семейным положением и возвратом кредита в срок')\n",
    "plt.xlabel('Семейное положение')\n",
    "plt.ylabel('Наличие задолженности, %')\n",
    "plt.xticks(rotation=45)\n",
    "plt.show()"
   ]
  },
  {
   "cell_type": "markdown",
   "id": "df5841d3",
   "metadata": {
    "deletable": false,
    "id": "df5841d3"
   },
   "source": [
    "**Вывод:** две категории заёмщиков выделяются повышенной на ~2% долей наличия задолженностей по кредитам - не женатые и состоящие в гражданском браке - 9,8% и 9,3% соответственно.\n",
    "\n",
    "Самая низкая доля задолженности у категории заёмщиков \"вдовец / вдова\" - 6,6%.\n",
    "\n",
    "Самая многочисленная категория - \"женат/замужем\" (57,5%), самые малочисленные - \"вдовец / вдова\" (5,6%) и \"в разводе\" (4,5%)."
   ]
  },
  {
   "cell_type": "markdown",
   "id": "a24ef0a5",
   "metadata": {
    "id": "a24ef0a5"
   },
   "source": [
    "### Есть ли зависимость между уровнем дохода и возвратом кредита в срок?"
   ]
  },
  {
   "cell_type": "code",
   "execution_count": 34,
   "id": "10cf1a3d",
   "metadata": {
    "deletable": false,
    "id": "10cf1a3d",
    "outputId": "4f83a148-6978-4c4d-80f4-5ef4b5c69050"
   },
   "outputs": [
    {
     "name": "stdout",
     "output_type": "stream",
     "text": [
      "Категории дохода:\n",
      " total_income_category\n",
      "A       25\n",
      "B     5014\n",
      "C    15921\n",
      "D      349\n",
      "E       22\n",
      "Name: debt, dtype: int64\n"
     ]
    }
   ],
   "source": [
    "print('Категории дохода:\\n',\n",
    "      data.groupby('total_income_category')['debt'].count()) #группировка по доходу - количество людей"
   ]
  },
  {
   "cell_type": "code",
   "execution_count": 35,
   "id": "a4ecb194",
   "metadata": {
    "id": "a4ecb194",
    "outputId": "da855ba4-3305-4068-853d-e98297223e60"
   },
   "outputs": [
    {
     "name": "stdout",
     "output_type": "stream",
     "text": [
      "Распределение займщиков по ежемесячному доходу, %:\n",
      " total_income_category\n",
      "A     0.117200\n",
      "B    23.505696\n",
      "C    74.637851\n",
      "D     1.636116\n",
      "E     0.103136\n",
      "Name: debt, dtype: float64\n"
     ]
    }
   ],
   "source": [
    "print('Распределение займщиков по ежемесячному доходу, %:\\n',\n",
    "      data.groupby('total_income_category')['debt'].count() / data['total_income_category'].count()*100)"
   ]
  },
  {
   "cell_type": "code",
   "execution_count": 36,
   "id": "e1a5c875",
   "metadata": {
    "id": "e1a5c875",
    "outputId": "446b709f-aea0-425f-abc3-f756b9df8107"
   },
   "outputs": [
    {
     "name": "stdout",
     "output_type": "stream",
     "text": [
      "Количество задолженностей в зависимости от дохода:\n",
      " total_income_category\n",
      "A       2\n",
      "B     354\n",
      "C    1353\n",
      "D      21\n",
      "E       2\n",
      "Name: debt, dtype: int64\n"
     ]
    }
   ],
   "source": [
    "print('Количество задолженностей в зависимости от дохода:\\n',\n",
    "      data.groupby('total_income_category')['debt'].sum()) #количество задолженностей в зависимости от дохода"
   ]
  },
  {
   "cell_type": "code",
   "execution_count": 37,
   "id": "af4e951e",
   "metadata": {
    "id": "af4e951e",
    "outputId": "df17e3ea-044c-45ac-fe55-899b05322a5f"
   },
   "outputs": [
    {
     "name": "stdout",
     "output_type": "stream",
     "text": [
      "Имели задолженность по возврату кредита (в зависимости от ежемесячного дохода, %):\n",
      " total_income_category\n",
      "A    8.00\n",
      "B    7.06\n",
      "C    8.50\n",
      "D    6.02\n",
      "E    9.09\n",
      "Name: debt, dtype: float64\n"
     ]
    }
   ],
   "source": [
    "data_tic = data.groupby('total_income_category')['debt'].sum() / data.groupby('total_income_category')['debt'].count()\n",
    "print('Имели задолженность по возврату кредита (в зависимости от ежемесячного дохода, %):\\n',\n",
    "      round(data_tic * 100, 2))"
   ]
  },
  {
   "cell_type": "code",
   "execution_count": 38,
   "id": "c868c037",
   "metadata": {
    "id": "c868c037",
    "outputId": "6d6d8b28-3c9a-4972-9d94-c930c68f05c8"
   },
   "outputs": [
    {
     "data": {
      "image/png": "[encoded data removed]",
      "text/plain": [
       "<Figure size 640x480 with 1 Axes>"
      ]
     },
     "metadata": {},
     "output_type": "display_data"
    }
   ],
   "source": [
    "seaborn.barplot(data=data, x='total_income_category', y=data['debt']*100, \\\n",
    "                color='#4682B4', order=sorted(data['total_income_category'].unique()), ci=None);\n",
    "\n",
    "plt.title('Зависимость между уровнем дохода и возвратом кредита в срок')\n",
    "plt.xlabel('Уровень дохода (по убыванию)')\n",
    "plt.ylabel('Наличие задолженности, %')\n",
    "plt.show()"
   ]
  },
  {
   "cell_type": "markdown",
   "id": "a9f0b4bb",
   "metadata": {
    "deletable": false,
    "id": "a9f0b4bb"
   },
   "source": [
    "**Вывод:** наименьшее количество задолженностей у заёмщиков с доходом категории D, наибольшее - с доходом категории E.\n",
    "\n",
    "75% заёмщиков из выборки имеют средний уровень дохода - категория C. 24% заёмщиков имеют доход категории B. На оставшиеся уровни дохода приходится 1% заёмщиков.\n",
    "\n",
    "Таким образом, распределение заёмщиков по категориям дохода является неравномерным и не позволяет с достаточной степенью уверенности судить о возможности возникновения задолженности по кредиту на основании уровня дохода, отличающегося от среднего.\n",
    "\n",
    "Поскольку 99% заёмщиков имеют уровень дохода от 50001 до 1000000, соответствующие категории дохода (B, C) целесообразно разбить на более мелкие группы."
   ]
  },
  {
   "cell_type": "markdown",
   "id": "0b0f6fba",
   "metadata": {
    "id": "0b0f6fba"
   },
   "source": [
    "### Как разные цели кредита влияют на его возврат в срок?"
   ]
  },
  {
   "cell_type": "code",
   "execution_count": 39,
   "id": "9f0adb52",
   "metadata": {
    "deletable": false,
    "id": "9f0adb52",
    "outputId": "0c5f1b4c-1066-4947-e516-0f69be8eef17"
   },
   "outputs": [
    {
     "name": "stdout",
     "output_type": "stream",
     "text": [
      "Цель кредита:\n",
      " purpose_category\n",
      "операции с автомобилем       4279\n",
      "операции с недвижимостью    10751\n",
      "получение образования        3988\n",
      "проведение свадьбы           2313\n",
      "Name: debt, dtype: int64\n"
     ]
    }
   ],
   "source": [
    "#группировка по цели - количество людей\n",
    "print('Цель кредита:\\n', data.groupby('purpose_category')['debt'].count())"
   ]
  },
  {
   "cell_type": "code",
   "execution_count": 40,
   "id": "d257689c",
   "metadata": {
    "id": "d257689c",
    "outputId": "1b9f67de-9bd5-42f1-9f64-77f8569f5f7e"
   },
   "outputs": [
    {
     "name": "stdout",
     "output_type": "stream",
     "text": [
      "Распределение займщиков по цели, %:\n",
      " purpose_category\n",
      "операции с автомобилем      20.060007\n",
      "операции с недвижимостью    50.400825\n",
      "получение образования       18.695795\n",
      "проведение свадьбы          10.843373\n",
      "Name: debt, dtype: float64\n"
     ]
    }
   ],
   "source": [
    "print('Распределение займщиков по цели, %:\\n',\n",
    "      data.groupby('purpose_category')['debt'].count() / data['purpose_category'].count()*100)"
   ]
  },
  {
   "cell_type": "code",
   "execution_count": 41,
   "id": "99c134e6",
   "metadata": {
    "id": "99c134e6",
    "outputId": "75868a4b-09fb-4ec2-8cdd-cb28c8f6e96c"
   },
   "outputs": [
    {
     "name": "stdout",
     "output_type": "stream",
     "text": [
      "Количество задолженностей в зависимости от цели:\n",
      " purpose_category\n",
      "операции с автомобилем      400\n",
      "операции с недвижимостью    780\n",
      "получение образования       369\n",
      "проведение свадьбы          183\n",
      "Name: debt, dtype: int64\n"
     ]
    }
   ],
   "source": [
    "#количество задолженностей в зависимости от цели\n",
    "print('Количество задолженностей в зависимости от цели:\\n',\n",
    "      data.groupby('purpose_category')['debt'].sum())"
   ]
  },
  {
   "cell_type": "code",
   "execution_count": 42,
   "id": "8b41d034",
   "metadata": {
    "id": "8b41d034",
    "outputId": "d630ca6b-8cc0-46da-8a92-bef7f05b4d7a"
   },
   "outputs": [
    {
     "name": "stdout",
     "output_type": "stream",
     "text": [
      "Имели задолженность по возврату кредита (в зависимости от цели, %):\n",
      " purpose_category\n",
      "операции с автомобилем      9.35\n",
      "операции с недвижимостью    7.26\n",
      "получение образования       9.25\n",
      "проведение свадьбы          7.91\n",
      "Name: debt, dtype: float64\n"
     ]
    }
   ],
   "source": [
    "data_purpose = data.groupby('purpose_category')['debt'].sum() / data.groupby('purpose_category')['debt'].count()\n",
    "print('Имели задолженность по возврату кредита (в зависимости от цели, %):\\n',\n",
    "      round(data_purpose * 100, 2))"
   ]
  },
  {
   "cell_type": "code",
   "execution_count": 43,
   "id": "c1326327",
   "metadata": {
    "id": "c1326327",
    "outputId": "ab3ce38c-1160-4760-fc3d-373902e612e5"
   },
   "outputs": [
    {
     "data": {
      "image/png": "[encoded data removed]",
      "text/plain": [
       "<Figure size 640x480 with 1 Axes>"
      ]
     },
     "metadata": {},
     "output_type": "display_data"
    }
   ],
   "source": [
    "seaborn.barplot(data=data, x='purpose_category', y=data['debt']*100, \\\n",
    "                color='#4682B4', order=sorted(data['purpose_category'].unique()), ci=None);\n",
    "\n",
    "plt.title('Зависимость между целью кредита и возвратом кредита в срок')\n",
    "plt.xlabel('Цель кредита')\n",
    "plt.ylabel('Наличие задолженности, %')\n",
    "plt.xticks(rotation=15)\n",
    "plt.show()"
   ]
  },
  {
   "cell_type": "markdown",
   "id": "928346da",
   "metadata": {
    "deletable": false,
    "id": "928346da"
   },
   "source": [
    "**Вывод:** наименьший процент задолженностей наблюдается у людей, цель которых - операции с недвижимостью. Также это самая крупная категория, составляющая 50% от всех целей.\n",
    "\n",
    "Больше всего задолженностей в категориях \"операции с автомобилем\" и \"получение образования\".\n",
    "\n",
    "Разница между минимальным и максимальным процентом задолженностей составляет 2%."
   ]
  },
  {
   "cell_type": "markdown",
   "id": "67e47b0e",
   "metadata": {
    "id": "67e47b0e"
   },
   "source": [
    "### Возможные причины появления пропусков в исходных данных."
   ]
  },
  {
   "cell_type": "markdown",
   "id": "90b42b09",
   "metadata": {
    "deletable": false,
    "id": "90b42b09"
   },
   "source": [
    "Пропуски в данном случае присутствуют в сведениях о трудовом стаже и ежемесячном доходе. Такие пропуски могут быть намеренными. Например, при нежелании заёмщика указывать соответствующую информацию, либо при отутствии стажа или дохода. Также нельзя исключать технические сбои при сохранении, копировании, выгрузке информации."
   ]
  },
  {
   "cell_type": "markdown",
   "id": "dc28d76d",
   "metadata": {
    "id": "dc28d76d"
   },
   "source": [
    "### Почему заполнить пропуски медианным значением — лучшее решение для количественных переменных."
   ]
  },
  {
   "cell_type": "markdown",
   "id": "2c02fe00",
   "metadata": {
    "deletable": false,
    "id": "2c02fe00"
   },
   "source": [
    "Медианное значение позволяет снизить влияние максимальных и минимальных значений."
   ]
  },
  {
   "cell_type": "markdown",
   "id": "b8991ae0",
   "metadata": {
    "id": "b8991ae0"
   },
   "source": [
    "## Общий вывод."
   ]
  },
  {
   "cell_type": "markdown",
   "id": "d8ef9948",
   "metadata": {
    "deletable": false,
    "id": "d8ef9948"
   },
   "source": [
    "**Задача:** на основании статистики о платёжеспособности клиентов проанализировать влияние различных факторов на факт погашения кредита в срок для создания системы, оценивающей способность потенциального заёмщика вернуть кредит банку."
   ]
  },
  {
   "cell_type": "markdown",
   "id": "79830656",
   "metadata": {
    "id": "79830656"
   },
   "source": [
    "**Выводы:**\n",
    "- количество детей слабо влияет на вероятность возврата кредита в срок. При этом, отсутствие детей повышает вероятность соблюдения сроков на ~2%;\n",
    "- две категории заёмщиков выделяются повышенной на ~2% долей наличия задолженностей по кредитам - не женатые и состоящие в гражданском браке;\n",
    "- наименьшее количество задолженностей у заёмщиков с ежемесячным доходом 30000–50000, наибольшее - с доходом менее 30000;\n",
    "- наименьший процент задолженностей наблюдается у людей, цель которых - операции с недвижимостью. Больше всего задолженностей в категориях \"операции с автомобилем\" и \"получение образования\"."
   ]
  },
  {
   "cell_type": "markdown",
   "id": "a124b681",
   "metadata": {
    "id": "a124b681"
   },
   "source": [
    "**Лучший заёмщик:** бездетный вдовец/вдова с доходом 30000–50000, желающий купить квартиру."
   ]
  },
  {
   "cell_type": "markdown",
   "id": "91c60de1",
   "metadata": {
    "id": "91c60de1"
   },
   "source": [
    "**Худший заёмщик:** состоящий в гражданском браке, имеющий ребенка (или нескольких), с доходом менее 30000, желающий купить машину."
   ]
  },
  {
   "cell_type": "code",
   "execution_count": null,
   "id": "2545050d",
   "metadata": {
    "id": "2545050d"
   },
   "outputs": [],
   "source": []
  }
 ],
 "metadata": {
  "ExecuteTimeLog": [
   {
    "duration": 1063,
    "start_time": "2022-09-15T17:35:19.689Z"
   },
   {
    "duration": 23,
    "start_time": "2022-09-15T17:35:20.754Z"
   },
   {
    "duration": 14,
    "start_time": "2022-09-15T17:35:20.778Z"
   },
   {
    "duration": 8,
    "start_time": "2022-09-15T17:35:20.794Z"
   },
   {
    "duration": 38,
    "start_time": "2022-09-15T17:35:20.804Z"
   },
   {
    "duration": 4,
    "start_time": "2022-09-15T17:35:20.843Z"
   },
   {
    "duration": 29,
    "start_time": "2022-09-15T17:35:20.848Z"
   },
   {
    "duration": 4,
    "start_time": "2022-09-15T17:35:20.879Z"
   },
   {
    "duration": 11,
    "start_time": "2022-09-15T17:35:20.884Z"
   },
   {
    "duration": 5,
    "start_time": "2022-09-15T17:35:20.897Z"
   },
   {
    "duration": 32,
    "start_time": "2022-09-15T17:35:20.903Z"
   },
   {
    "duration": 9,
    "start_time": "2022-09-15T17:35:20.937Z"
   },
   {
    "duration": 31,
    "start_time": "2022-09-15T17:35:20.948Z"
   },
   {
    "duration": 12,
    "start_time": "2022-09-15T17:35:20.981Z"
   },
   {
    "duration": 20,
    "start_time": "2022-09-15T17:35:20.995Z"
   },
   {
    "duration": 16,
    "start_time": "2022-09-15T17:35:21.016Z"
   },
   {
    "duration": 4,
    "start_time": "2022-09-15T17:35:21.033Z"
   },
   {
    "duration": 13,
    "start_time": "2022-09-15T17:35:21.038Z"
   },
   {
    "duration": 27,
    "start_time": "2022-09-15T17:35:21.052Z"
   },
   {
    "duration": 3,
    "start_time": "2022-09-15T17:35:21.080Z"
   },
   {
    "duration": 12,
    "start_time": "2022-09-15T17:35:21.085Z"
   },
   {
    "duration": 3,
    "start_time": "2022-09-15T17:35:21.098Z"
   },
   {
    "duration": 4,
    "start_time": "2022-09-15T17:35:21.102Z"
   },
   {
    "duration": 6,
    "start_time": "2022-09-15T17:35:21.107Z"
   },
   {
    "duration": 6,
    "start_time": "2022-09-15T17:35:21.114Z"
   },
   {
    "duration": 20,
    "start_time": "2022-09-15T17:43:20.121Z"
   },
   {
    "duration": 61,
    "start_time": "2022-09-15T17:43:34.038Z"
   },
   {
    "duration": 13,
    "start_time": "2022-09-15T17:43:41.142Z"
   },
   {
    "duration": 6,
    "start_time": "2022-09-15T17:45:55.301Z"
   },
   {
    "duration": 6,
    "start_time": "2022-09-15T17:46:06.440Z"
   },
   {
    "duration": 6,
    "start_time": "2022-09-15T17:46:20.169Z"
   },
   {
    "duration": 15,
    "start_time": "2022-09-15T17:46:51.573Z"
   },
   {
    "duration": 15,
    "start_time": "2022-09-15T17:47:07.942Z"
   },
   {
    "duration": 14,
    "start_time": "2022-09-15T17:47:20.620Z"
   },
   {
    "duration": 27,
    "start_time": "2022-09-15T17:58:14.872Z"
   },
   {
    "duration": 36,
    "start_time": "2022-09-15T17:59:02.689Z"
   },
   {
    "duration": 37,
    "start_time": "2022-09-15T17:59:20.945Z"
   },
   {
    "duration": 16,
    "start_time": "2022-09-15T18:02:33.895Z"
   },
   {
    "duration": 17,
    "start_time": "2022-09-15T18:06:28.226Z"
   },
   {
    "duration": 16,
    "start_time": "2022-09-15T18:07:58.658Z"
   },
   {
    "duration": 18,
    "start_time": "2022-09-15T18:09:27.373Z"
   },
   {
    "duration": 21,
    "start_time": "2022-09-15T18:26:55.493Z"
   },
   {
    "duration": 21,
    "start_time": "2022-09-15T18:27:15.174Z"
   },
   {
    "duration": 22,
    "start_time": "2022-09-15T18:27:55.748Z"
   },
   {
    "duration": 22,
    "start_time": "2022-09-15T18:48:22.587Z"
   },
   {
    "duration": 20,
    "start_time": "2022-09-15T18:49:03.732Z"
   },
   {
    "duration": 27,
    "start_time": "2022-09-15T18:50:00.566Z"
   },
   {
    "duration": 24,
    "start_time": "2022-09-15T18:50:10.089Z"
   },
   {
    "duration": 19,
    "start_time": "2022-09-15T18:50:56.392Z"
   },
   {
    "duration": 1116,
    "start_time": "2022-09-15T18:54:50.184Z"
   },
   {
    "duration": 109,
    "start_time": "2022-09-15T18:55:01.671Z"
   },
   {
    "duration": 106,
    "start_time": "2022-09-15T18:55:57.837Z"
   },
   {
    "duration": 701,
    "start_time": "2022-09-15T18:58:28.625Z"
   },
   {
    "duration": 31,
    "start_time": "2022-09-15T18:59:46.033Z"
   },
   {
    "duration": 27,
    "start_time": "2022-09-15T19:00:59.001Z"
   },
   {
    "duration": 126,
    "start_time": "2022-09-15T19:02:45.523Z"
   },
   {
    "duration": 128,
    "start_time": "2022-09-15T19:04:04.612Z"
   },
   {
    "duration": 128,
    "start_time": "2022-09-15T19:09:15.434Z"
   },
   {
    "duration": 118,
    "start_time": "2022-09-15T19:09:27.435Z"
   },
   {
    "duration": 131,
    "start_time": "2022-09-15T19:09:53.047Z"
   },
   {
    "duration": 112,
    "start_time": "2022-09-15T19:11:45.597Z"
   },
   {
    "duration": 114,
    "start_time": "2022-09-15T19:11:58.017Z"
   },
   {
    "duration": 65,
    "start_time": "2022-09-15T19:28:34.869Z"
   },
   {
    "duration": 713,
    "start_time": "2022-09-17T10:33:45.388Z"
   },
   {
    "duration": 29,
    "start_time": "2022-09-17T10:33:46.103Z"
   },
   {
    "duration": 15,
    "start_time": "2022-09-17T10:33:46.134Z"
   },
   {
    "duration": 10,
    "start_time": "2022-09-17T10:33:46.150Z"
   },
   {
    "duration": 31,
    "start_time": "2022-09-17T10:33:46.163Z"
   },
   {
    "duration": 3,
    "start_time": "2022-09-17T10:33:46.195Z"
   },
   {
    "duration": 31,
    "start_time": "2022-09-17T10:33:46.199Z"
   },
   {
    "duration": 14,
    "start_time": "2022-09-17T10:33:46.231Z"
   },
   {
    "duration": 9,
    "start_time": "2022-09-17T10:33:46.246Z"
   },
   {
    "duration": 6,
    "start_time": "2022-09-17T10:33:46.256Z"
   },
   {
    "duration": 35,
    "start_time": "2022-09-17T10:33:46.263Z"
   },
   {
    "duration": 9,
    "start_time": "2022-09-17T10:33:46.300Z"
   },
   {
    "duration": 21,
    "start_time": "2022-09-17T10:33:46.310Z"
   },
   {
    "duration": 10,
    "start_time": "2022-09-17T10:33:46.334Z"
   },
   {
    "duration": 22,
    "start_time": "2022-09-17T10:33:46.345Z"
   },
   {
    "duration": 14,
    "start_time": "2022-09-17T10:33:46.368Z"
   },
   {
    "duration": 3,
    "start_time": "2022-09-17T10:33:46.383Z"
   },
   {
    "duration": 11,
    "start_time": "2022-09-17T10:33:46.388Z"
   },
   {
    "duration": 9,
    "start_time": "2022-09-17T10:33:46.401Z"
   },
   {
    "duration": 22,
    "start_time": "2022-09-17T10:33:46.412Z"
   },
   {
    "duration": 15,
    "start_time": "2022-09-17T10:33:46.435Z"
   },
   {
    "duration": 1052,
    "start_time": "2022-09-17T10:33:46.451Z"
   },
   {
    "duration": 2,
    "start_time": "2022-09-17T10:33:47.505Z"
   },
   {
    "duration": 17,
    "start_time": "2022-09-17T10:33:47.508Z"
   },
   {
    "duration": 17,
    "start_time": "2022-09-17T10:33:47.527Z"
   },
   {
    "duration": 130,
    "start_time": "2022-09-17T10:40:38.773Z"
   },
   {
    "duration": 112,
    "start_time": "2022-09-17T10:41:07.169Z"
   },
   {
    "duration": 144,
    "start_time": "2022-09-17T10:45:55.144Z"
   },
   {
    "duration": 128,
    "start_time": "2022-09-17T10:46:02.085Z"
   },
   {
    "duration": 13,
    "start_time": "2022-09-17T11:07:23.933Z"
   },
   {
    "duration": 106,
    "start_time": "2022-09-17T11:08:13.539Z"
   },
   {
    "duration": 13,
    "start_time": "2022-09-17T11:09:22.586Z"
   },
   {
    "duration": 27,
    "start_time": "2022-09-17T11:09:54.409Z"
   },
   {
    "duration": 18,
    "start_time": "2022-09-17T11:10:15.634Z"
   },
   {
    "duration": 26,
    "start_time": "2022-09-17T11:12:25.051Z"
   },
   {
    "duration": 21,
    "start_time": "2022-09-17T11:18:12.456Z"
   },
   {
    "duration": 24,
    "start_time": "2022-09-17T11:18:31.744Z"
   },
   {
    "duration": 25,
    "start_time": "2022-09-17T11:21:39.576Z"
   },
   {
    "duration": 24,
    "start_time": "2022-09-17T11:22:10.863Z"
   },
   {
    "duration": 23,
    "start_time": "2022-09-17T11:25:14.235Z"
   },
   {
    "duration": 26,
    "start_time": "2022-09-17T11:25:22.781Z"
   },
   {
    "duration": 29,
    "start_time": "2022-09-17T11:28:10.412Z"
   },
   {
    "duration": 26,
    "start_time": "2022-09-17T11:29:05.979Z"
   },
   {
    "duration": 525,
    "start_time": "2022-09-17T11:52:52.598Z"
   },
   {
    "duration": 24,
    "start_time": "2022-09-17T11:52:53.125Z"
   },
   {
    "duration": 21,
    "start_time": "2022-09-17T11:52:53.150Z"
   },
   {
    "duration": 23,
    "start_time": "2022-09-17T11:52:53.173Z"
   },
   {
    "duration": 35,
    "start_time": "2022-09-17T11:52:53.198Z"
   },
   {
    "duration": 4,
    "start_time": "2022-09-17T11:52:53.235Z"
   },
   {
    "duration": 25,
    "start_time": "2022-09-17T11:52:53.256Z"
   },
   {
    "duration": 5,
    "start_time": "2022-09-17T11:52:53.283Z"
   },
   {
    "duration": 11,
    "start_time": "2022-09-17T11:52:53.290Z"
   },
   {
    "duration": 12,
    "start_time": "2022-09-17T11:52:53.305Z"
   },
   {
    "duration": 54,
    "start_time": "2022-09-17T11:52:53.318Z"
   },
   {
    "duration": 12,
    "start_time": "2022-09-17T11:52:53.374Z"
   },
   {
    "duration": 13,
    "start_time": "2022-09-17T11:52:53.388Z"
   },
   {
    "duration": 17,
    "start_time": "2022-09-17T11:52:53.402Z"
   },
   {
    "duration": 24,
    "start_time": "2022-09-17T11:52:53.421Z"
   },
   {
    "duration": 19,
    "start_time": "2022-09-17T11:52:53.454Z"
   },
   {
    "duration": 4,
    "start_time": "2022-09-17T11:52:53.475Z"
   },
   {
    "duration": 21,
    "start_time": "2022-09-17T11:52:53.480Z"
   },
   {
    "duration": 12,
    "start_time": "2022-09-17T11:52:53.502Z"
   },
   {
    "duration": 16,
    "start_time": "2022-09-17T11:52:53.515Z"
   },
   {
    "duration": 17,
    "start_time": "2022-09-17T11:52:53.533Z"
   },
   {
    "duration": 1179,
    "start_time": "2022-09-17T11:52:53.552Z"
   },
   {
    "duration": 171,
    "start_time": "2022-09-17T11:52:54.733Z"
   },
   {
    "duration": 0,
    "start_time": "2022-09-17T11:52:54.905Z"
   },
   {
    "duration": 0,
    "start_time": "2022-09-17T11:52:54.907Z"
   },
   {
    "duration": 45,
    "start_time": "2022-09-17T11:53:13.521Z"
   },
   {
    "duration": 167,
    "start_time": "2022-09-17T12:08:49.632Z"
   },
   {
    "duration": 174,
    "start_time": "2022-09-17T12:11:51.737Z"
   },
   {
    "duration": 429,
    "start_time": "2022-09-17T12:12:29.903Z"
   },
   {
    "duration": 405,
    "start_time": "2022-09-17T12:12:45.607Z"
   },
   {
    "duration": 178,
    "start_time": "2022-09-17T12:13:28.320Z"
   },
   {
    "duration": 496,
    "start_time": "2022-09-17T12:13:42.433Z"
   },
   {
    "duration": 272,
    "start_time": "2022-09-17T12:14:14.226Z"
   },
   {
    "duration": 260,
    "start_time": "2022-09-17T12:16:55.287Z"
   },
   {
    "duration": 65,
    "start_time": "2022-09-17T12:17:05.117Z"
   },
   {
    "duration": 461,
    "start_time": "2022-09-17T12:17:17.177Z"
   },
   {
    "duration": 329,
    "start_time": "2022-09-17T12:20:56.282Z"
   },
   {
    "duration": 56,
    "start_time": "2022-09-17T12:21:09.352Z"
   },
   {
    "duration": 49,
    "start_time": "2022-09-17T12:23:23.342Z"
   },
   {
    "duration": 44,
    "start_time": "2022-09-17T12:24:24.036Z"
   },
   {
    "duration": 47,
    "start_time": "2022-09-17T12:24:48.441Z"
   },
   {
    "duration": 45,
    "start_time": "2022-09-17T12:24:57.848Z"
   },
   {
    "duration": 41,
    "start_time": "2022-09-17T12:26:18.001Z"
   },
   {
    "duration": 140,
    "start_time": "2022-09-17T12:27:11.968Z"
   },
   {
    "duration": 50,
    "start_time": "2022-09-17T12:27:27.605Z"
   },
   {
    "duration": 145,
    "start_time": "2022-09-17T12:28:02.502Z"
   },
   {
    "duration": 51,
    "start_time": "2022-09-17T12:28:33.472Z"
   },
   {
    "duration": 41,
    "start_time": "2022-09-17T12:30:50.880Z"
   },
   {
    "duration": 363,
    "start_time": "2022-09-17T12:32:00.143Z"
   },
   {
    "duration": 172,
    "start_time": "2022-09-17T12:32:22.082Z"
   },
   {
    "duration": 220,
    "start_time": "2022-09-17T12:33:18.153Z"
   },
   {
    "duration": 93,
    "start_time": "2022-09-17T12:33:24.783Z"
   },
   {
    "duration": 208,
    "start_time": "2022-09-17T12:33:32.599Z"
   },
   {
    "duration": 179,
    "start_time": "2022-09-17T12:33:52.815Z"
   },
   {
    "duration": 254,
    "start_time": "2022-09-17T12:34:09.977Z"
   },
   {
    "duration": 154,
    "start_time": "2022-09-17T12:39:27.909Z"
   },
   {
    "duration": 173,
    "start_time": "2022-09-17T12:39:45.488Z"
   },
   {
    "duration": 19,
    "start_time": "2022-09-17T13:08:00.145Z"
   },
   {
    "duration": 25,
    "start_time": "2022-09-17T13:17:25.769Z"
   },
   {
    "duration": 18,
    "start_time": "2022-09-17T13:17:34.116Z"
   },
   {
    "duration": 201,
    "start_time": "2022-09-17T13:19:53.042Z"
   },
   {
    "duration": 18,
    "start_time": "2022-09-17T13:20:06.118Z"
   },
   {
    "duration": 19,
    "start_time": "2022-09-17T13:21:52.122Z"
   },
   {
    "duration": 19,
    "start_time": "2022-09-17T13:22:15.214Z"
   },
   {
    "duration": 34,
    "start_time": "2022-09-17T13:25:43.100Z"
   },
   {
    "duration": 33,
    "start_time": "2022-09-17T13:26:15.493Z"
   },
   {
    "duration": 34,
    "start_time": "2022-09-17T13:29:54.030Z"
   },
   {
    "duration": 39,
    "start_time": "2022-09-17T13:30:09.236Z"
   },
   {
    "duration": 37,
    "start_time": "2022-09-17T13:32:19.557Z"
   },
   {
    "duration": 5,
    "start_time": "2022-09-17T13:33:07.606Z"
   },
   {
    "duration": 34,
    "start_time": "2022-09-17T13:33:16.998Z"
   },
   {
    "duration": 42,
    "start_time": "2022-09-17T13:34:28.072Z"
   },
   {
    "duration": 386,
    "start_time": "2022-09-17T13:36:58.754Z"
   },
   {
    "duration": 145,
    "start_time": "2022-09-17T13:39:25.201Z"
   },
   {
    "duration": 198,
    "start_time": "2022-09-17T13:39:56.932Z"
   },
   {
    "duration": 221,
    "start_time": "2022-09-17T13:40:19.653Z"
   },
   {
    "duration": 48,
    "start_time": "2022-09-17T13:42:13.896Z"
   },
   {
    "duration": 142,
    "start_time": "2022-09-17T13:42:36.816Z"
   },
   {
    "duration": 125,
    "start_time": "2022-09-17T14:15:24.967Z"
   },
   {
    "duration": 154,
    "start_time": "2022-09-17T14:15:51.039Z"
   },
   {
    "duration": 176,
    "start_time": "2022-09-17T14:15:58.957Z"
   },
   {
    "duration": 189,
    "start_time": "2022-09-17T14:16:21.406Z"
   },
   {
    "duration": 141,
    "start_time": "2022-09-17T14:16:40.469Z"
   },
   {
    "duration": 145,
    "start_time": "2022-09-17T14:17:44.799Z"
   },
   {
    "duration": 160,
    "start_time": "2022-09-17T14:17:57.308Z"
   },
   {
    "duration": 161,
    "start_time": "2022-09-17T14:19:08.230Z"
   },
   {
    "duration": 47,
    "start_time": "2022-09-17T14:21:00.773Z"
   },
   {
    "duration": 174,
    "start_time": "2022-09-17T14:21:14.101Z"
   },
   {
    "duration": 643,
    "start_time": "2022-09-17T14:53:18.805Z"
   },
   {
    "duration": 42,
    "start_time": "2022-09-17T14:53:19.450Z"
   },
   {
    "duration": 17,
    "start_time": "2022-09-17T14:53:19.495Z"
   },
   {
    "duration": 14,
    "start_time": "2022-09-17T14:53:19.515Z"
   },
   {
    "duration": 55,
    "start_time": "2022-09-17T14:53:19.530Z"
   },
   {
    "duration": 4,
    "start_time": "2022-09-17T14:53:19.588Z"
   },
   {
    "duration": 13,
    "start_time": "2022-09-17T14:53:19.594Z"
   },
   {
    "duration": 6,
    "start_time": "2022-09-17T14:53:19.609Z"
   },
   {
    "duration": 9,
    "start_time": "2022-09-17T14:53:19.617Z"
   },
   {
    "duration": 8,
    "start_time": "2022-09-17T14:53:19.629Z"
   },
   {
    "duration": 69,
    "start_time": "2022-09-17T14:53:19.638Z"
   },
   {
    "duration": 9,
    "start_time": "2022-09-17T14:53:19.709Z"
   },
   {
    "duration": 5,
    "start_time": "2022-09-17T14:53:19.719Z"
   },
   {
    "duration": 17,
    "start_time": "2022-09-17T14:53:19.726Z"
   },
   {
    "duration": 37,
    "start_time": "2022-09-17T14:53:19.745Z"
   },
   {
    "duration": 35,
    "start_time": "2022-09-17T14:53:19.783Z"
   },
   {
    "duration": 5,
    "start_time": "2022-09-17T14:53:19.819Z"
   },
   {
    "duration": 20,
    "start_time": "2022-09-17T14:53:19.825Z"
   },
   {
    "duration": 5,
    "start_time": "2022-09-17T14:53:19.846Z"
   },
   {
    "duration": 38,
    "start_time": "2022-09-17T14:53:19.853Z"
   },
   {
    "duration": 16,
    "start_time": "2022-09-17T14:53:19.892Z"
   },
   {
    "duration": 976,
    "start_time": "2022-09-17T14:53:19.909Z"
   },
   {
    "duration": 149,
    "start_time": "2022-09-17T14:53:20.887Z"
   },
   {
    "duration": 156,
    "start_time": "2022-09-17T14:53:21.037Z"
   },
   {
    "duration": 174,
    "start_time": "2022-09-17T14:53:21.195Z"
   },
   {
    "duration": 436,
    "start_time": "2022-09-17T15:14:48.590Z"
   },
   {
    "duration": 193,
    "start_time": "2022-09-17T15:17:43.672Z"
   },
   {
    "duration": 564,
    "start_time": "2022-09-17T15:27:46.953Z"
   },
   {
    "duration": 25,
    "start_time": "2022-09-17T15:27:47.519Z"
   },
   {
    "duration": 32,
    "start_time": "2022-09-17T15:27:47.545Z"
   },
   {
    "duration": 37,
    "start_time": "2022-09-17T15:27:47.579Z"
   },
   {
    "duration": 61,
    "start_time": "2022-09-17T15:27:47.619Z"
   },
   {
    "duration": 7,
    "start_time": "2022-09-17T15:27:47.682Z"
   },
   {
    "duration": 30,
    "start_time": "2022-09-17T15:27:47.691Z"
   },
   {
    "duration": 8,
    "start_time": "2022-09-17T15:27:47.723Z"
   },
   {
    "duration": 13,
    "start_time": "2022-09-17T15:27:47.733Z"
   },
   {
    "duration": 25,
    "start_time": "2022-09-17T15:27:47.748Z"
   },
   {
    "duration": 70,
    "start_time": "2022-09-17T15:27:47.775Z"
   },
   {
    "duration": 24,
    "start_time": "2022-09-17T15:27:47.847Z"
   },
   {
    "duration": 27,
    "start_time": "2022-09-17T15:27:47.873Z"
   },
   {
    "duration": 15,
    "start_time": "2022-09-17T15:27:47.903Z"
   },
   {
    "duration": 29,
    "start_time": "2022-09-17T15:27:47.920Z"
   },
   {
    "duration": 33,
    "start_time": "2022-09-17T15:27:47.952Z"
   },
   {
    "duration": 15,
    "start_time": "2022-09-17T15:27:47.987Z"
   },
   {
    "duration": 23,
    "start_time": "2022-09-17T15:27:48.004Z"
   },
   {
    "duration": 17,
    "start_time": "2022-09-17T15:27:48.028Z"
   },
   {
    "duration": 45,
    "start_time": "2022-09-17T15:27:48.046Z"
   },
   {
    "duration": 13,
    "start_time": "2022-09-17T15:27:48.092Z"
   },
   {
    "duration": 1066,
    "start_time": "2022-09-17T15:27:48.107Z"
   },
   {
    "duration": 212,
    "start_time": "2022-09-17T15:27:49.175Z"
   },
   {
    "duration": 158,
    "start_time": "2022-09-17T15:27:49.393Z"
   },
   {
    "duration": 192,
    "start_time": "2022-09-17T15:27:49.554Z"
   },
   {
    "duration": 46,
    "start_time": "2022-09-17T17:17:06.013Z"
   },
   {
    "duration": 666,
    "start_time": "2022-09-17T17:17:11.194Z"
   },
   {
    "duration": 21,
    "start_time": "2022-09-17T17:17:11.862Z"
   },
   {
    "duration": 14,
    "start_time": "2022-09-17T17:17:11.885Z"
   },
   {
    "duration": 9,
    "start_time": "2022-09-17T17:17:11.901Z"
   },
   {
    "duration": 31,
    "start_time": "2022-09-17T17:17:11.912Z"
   },
   {
    "duration": 3,
    "start_time": "2022-09-17T17:17:11.945Z"
   },
   {
    "duration": 36,
    "start_time": "2022-09-17T17:17:11.950Z"
   },
   {
    "duration": 12,
    "start_time": "2022-09-17T17:17:11.987Z"
   },
   {
    "duration": 8,
    "start_time": "2022-09-17T17:17:12.000Z"
   },
   {
    "duration": 4,
    "start_time": "2022-09-17T17:17:12.011Z"
   },
   {
    "duration": 34,
    "start_time": "2022-09-17T17:17:12.016Z"
   },
   {
    "duration": 28,
    "start_time": "2022-09-17T17:17:12.052Z"
   },
   {
    "duration": 4,
    "start_time": "2022-09-17T17:17:12.082Z"
   },
   {
    "duration": 14,
    "start_time": "2022-09-17T17:17:12.087Z"
   },
   {
    "duration": 19,
    "start_time": "2022-09-17T17:17:12.102Z"
   },
   {
    "duration": 16,
    "start_time": "2022-09-17T17:17:12.123Z"
   },
   {
    "duration": 13,
    "start_time": "2022-09-17T17:17:12.140Z"
   },
   {
    "duration": 28,
    "start_time": "2022-09-17T17:17:12.155Z"
   },
   {
    "duration": 6,
    "start_time": "2022-09-17T17:17:12.184Z"
   },
   {
    "duration": 9,
    "start_time": "2022-09-17T17:17:12.191Z"
   },
   {
    "duration": 24,
    "start_time": "2022-09-17T17:17:12.202Z"
   },
   {
    "duration": 1078,
    "start_time": "2022-09-17T17:17:13.944Z"
   },
   {
    "duration": 118,
    "start_time": "2022-09-17T17:17:23.233Z"
   },
   {
    "duration": 81,
    "start_time": "2022-09-17T18:00:15.869Z"
   },
   {
    "duration": 16,
    "start_time": "2022-09-17T18:00:15.952Z"
   },
   {
    "duration": 16,
    "start_time": "2022-09-17T18:00:15.969Z"
   },
   {
    "duration": 8,
    "start_time": "2022-09-17T18:00:15.987Z"
   },
   {
    "duration": 43,
    "start_time": "2022-09-17T18:00:15.997Z"
   },
   {
    "duration": 3,
    "start_time": "2022-09-17T18:00:16.041Z"
   },
   {
    "duration": 11,
    "start_time": "2022-09-17T18:00:16.046Z"
   },
   {
    "duration": 5,
    "start_time": "2022-09-17T18:00:16.058Z"
   },
   {
    "duration": 16,
    "start_time": "2022-09-17T18:00:16.064Z"
   },
   {
    "duration": 4,
    "start_time": "2022-09-17T18:00:16.082Z"
   },
   {
    "duration": 34,
    "start_time": "2022-09-17T18:00:16.087Z"
   },
   {
    "duration": 8,
    "start_time": "2022-09-17T18:00:16.123Z"
   },
   {
    "duration": 4,
    "start_time": "2022-09-17T18:00:16.133Z"
   },
   {
    "duration": 39,
    "start_time": "2022-09-17T18:00:16.138Z"
   },
   {
    "duration": 20,
    "start_time": "2022-09-17T18:00:16.178Z"
   },
   {
    "duration": 18,
    "start_time": "2022-09-17T18:00:16.199Z"
   },
   {
    "duration": 3,
    "start_time": "2022-09-17T18:00:16.218Z"
   },
   {
    "duration": 13,
    "start_time": "2022-09-17T18:00:16.223Z"
   },
   {
    "duration": 6,
    "start_time": "2022-09-17T18:00:16.238Z"
   },
   {
    "duration": 31,
    "start_time": "2022-09-17T18:00:16.246Z"
   },
   {
    "duration": 10,
    "start_time": "2022-09-17T18:00:16.279Z"
   },
   {
    "duration": 135,
    "start_time": "2022-09-17T18:00:16.290Z"
   },
   {
    "duration": 153,
    "start_time": "2022-09-17T18:00:16.427Z"
   },
   {
    "duration": 133,
    "start_time": "2022-09-17T18:00:16.581Z"
   },
   {
    "duration": 138,
    "start_time": "2022-09-17T18:00:16.716Z"
   },
   {
    "duration": 51,
    "start_time": "2022-09-18T09:40:08.502Z"
   },
   {
    "duration": 707,
    "start_time": "2022-09-18T09:40:18.658Z"
   },
   {
    "duration": 24,
    "start_time": "2022-09-18T09:40:19.367Z"
   },
   {
    "duration": 15,
    "start_time": "2022-09-18T09:40:19.393Z"
   },
   {
    "duration": 10,
    "start_time": "2022-09-18T09:40:19.411Z"
   },
   {
    "duration": 47,
    "start_time": "2022-09-18T09:40:19.423Z"
   },
   {
    "duration": 4,
    "start_time": "2022-09-18T09:40:19.472Z"
   },
   {
    "duration": 13,
    "start_time": "2022-09-18T09:40:19.477Z"
   },
   {
    "duration": 4,
    "start_time": "2022-09-18T09:40:19.491Z"
   },
   {
    "duration": 8,
    "start_time": "2022-09-18T09:40:19.497Z"
   },
   {
    "duration": 6,
    "start_time": "2022-09-18T09:40:19.511Z"
   },
   {
    "duration": 78,
    "start_time": "2022-09-18T09:40:19.519Z"
   },
   {
    "duration": 16,
    "start_time": "2022-09-18T09:40:19.600Z"
   },
   {
    "duration": 5,
    "start_time": "2022-09-18T09:40:19.618Z"
   },
   {
    "duration": 34,
    "start_time": "2022-09-18T09:40:19.625Z"
   },
   {
    "duration": 23,
    "start_time": "2022-09-18T09:40:19.661Z"
   },
   {
    "duration": 17,
    "start_time": "2022-09-18T09:40:19.685Z"
   },
   {
    "duration": 3,
    "start_time": "2022-09-18T09:40:19.704Z"
   },
   {
    "duration": 20,
    "start_time": "2022-09-18T09:40:19.709Z"
   },
   {
    "duration": 27,
    "start_time": "2022-09-18T09:40:19.730Z"
   },
   {
    "duration": 11,
    "start_time": "2022-09-18T09:40:19.758Z"
   },
   {
    "duration": 16,
    "start_time": "2022-09-18T09:40:19.771Z"
   },
   {
    "duration": 1133,
    "start_time": "2022-09-18T09:40:19.788Z"
   },
   {
    "duration": 157,
    "start_time": "2022-09-18T09:40:20.923Z"
   },
   {
    "duration": 135,
    "start_time": "2022-09-18T09:40:21.083Z"
   },
   {
    "duration": 150,
    "start_time": "2022-09-18T09:40:21.220Z"
   },
   {
    "duration": 5,
    "start_time": "2022-09-18T09:43:23.555Z"
   },
   {
    "duration": 4,
    "start_time": "2022-09-18T09:44:17.669Z"
   },
   {
    "duration": 5,
    "start_time": "2022-09-18T09:44:20.555Z"
   },
   {
    "duration": 196,
    "start_time": "2022-09-18T09:44:28.227Z"
   },
   {
    "duration": 6,
    "start_time": "2022-09-18T09:44:32.847Z"
   },
   {
    "duration": 5,
    "start_time": "2022-09-18T09:44:37.420Z"
   },
   {
    "duration": 939,
    "start_time": "2022-09-18T09:44:45.223Z"
   },
   {
    "duration": 5,
    "start_time": "2022-09-18T09:44:57.401Z"
   },
   {
    "duration": 151,
    "start_time": "2022-09-18T09:45:10.556Z"
   },
   {
    "duration": 124,
    "start_time": "2022-09-18T09:45:23.689Z"
   },
   {
    "duration": 151,
    "start_time": "2022-09-18T09:45:41.678Z"
   },
   {
    "duration": 108,
    "start_time": "2022-09-18T09:46:56.149Z"
   },
   {
    "duration": 5,
    "start_time": "2022-09-18T09:47:03.310Z"
   },
   {
    "duration": 213,
    "start_time": "2022-09-18T09:47:20.721Z"
   },
   {
    "duration": 6,
    "start_time": "2022-09-18T09:47:52.400Z"
   },
   {
    "duration": 8,
    "start_time": "2022-09-18T09:48:18.143Z"
   },
   {
    "duration": 5,
    "start_time": "2022-09-18T09:49:13.715Z"
   },
   {
    "duration": 6,
    "start_time": "2022-09-18T09:49:56.745Z"
   },
   {
    "duration": 8,
    "start_time": "2022-09-18T09:50:47.445Z"
   },
   {
    "duration": 9,
    "start_time": "2022-09-18T09:50:59.616Z"
   },
   {
    "duration": 9,
    "start_time": "2022-09-18T09:51:16.082Z"
   },
   {
    "duration": 9,
    "start_time": "2022-09-18T09:51:24.147Z"
   },
   {
    "duration": 10,
    "start_time": "2022-09-18T09:51:33.394Z"
   },
   {
    "duration": 8,
    "start_time": "2022-09-18T09:51:38.471Z"
   },
   {
    "duration": 117,
    "start_time": "2022-09-18T09:51:59.161Z"
   },
   {
    "duration": 116,
    "start_time": "2022-09-18T09:52:04.717Z"
   },
   {
    "duration": 145,
    "start_time": "2022-09-18T09:53:00.618Z"
   },
   {
    "duration": 132,
    "start_time": "2022-09-18T10:06:27.740Z"
   },
   {
    "duration": 105,
    "start_time": "2022-09-18T10:07:02.426Z"
   },
   {
    "duration": 124,
    "start_time": "2022-09-18T10:07:13.559Z"
   },
   {
    "duration": 148,
    "start_time": "2022-09-18T10:07:35.121Z"
   },
   {
    "duration": 141,
    "start_time": "2022-09-18T10:08:18.821Z"
   },
   {
    "duration": 121,
    "start_time": "2022-09-18T10:09:07.934Z"
   },
   {
    "duration": 127,
    "start_time": "2022-09-18T10:10:38.779Z"
   },
   {
    "duration": 120,
    "start_time": "2022-09-18T10:22:56.634Z"
   },
   {
    "duration": 125,
    "start_time": "2022-09-18T10:28:00.757Z"
   },
   {
    "duration": 517,
    "start_time": "2022-09-18T10:31:38.553Z"
   },
   {
    "duration": 116,
    "start_time": "2022-09-18T10:40:07.096Z"
   },
   {
    "duration": 129,
    "start_time": "2022-09-18T10:49:16.355Z"
   },
   {
    "duration": 142,
    "start_time": "2022-09-18T10:49:37.847Z"
   },
   {
    "duration": 136,
    "start_time": "2022-09-18T10:49:52.808Z"
   },
   {
    "duration": 134,
    "start_time": "2022-09-18T10:50:06.821Z"
   },
   {
    "duration": 141,
    "start_time": "2022-09-18T10:52:30.250Z"
   },
   {
    "duration": 145,
    "start_time": "2022-09-18T10:54:08.694Z"
   },
   {
    "duration": 154,
    "start_time": "2022-09-18T10:56:34.755Z"
   },
   {
    "duration": 147,
    "start_time": "2022-09-18T10:56:51.046Z"
   },
   {
    "duration": 2,
    "start_time": "2022-09-18T10:57:23.085Z"
   },
   {
    "duration": 138,
    "start_time": "2022-09-18T10:57:29.679Z"
   },
   {
    "duration": 181,
    "start_time": "2022-09-18T10:58:30.807Z"
   },
   {
    "duration": 157,
    "start_time": "2022-09-18T10:58:37.249Z"
   },
   {
    "duration": 10,
    "start_time": "2022-09-18T11:03:43.608Z"
   },
   {
    "duration": 8,
    "start_time": "2022-09-18T11:04:09.972Z"
   },
   {
    "duration": 6,
    "start_time": "2022-09-18T11:06:34.216Z"
   },
   {
    "duration": 6,
    "start_time": "2022-09-18T11:06:45.270Z"
   },
   {
    "duration": 11,
    "start_time": "2022-09-18T11:06:51.502Z"
   },
   {
    "duration": 7,
    "start_time": "2022-09-18T11:07:42.378Z"
   },
   {
    "duration": 7,
    "start_time": "2022-09-18T11:07:48.792Z"
   },
   {
    "duration": 15,
    "start_time": "2022-09-18T11:08:11.575Z"
   },
   {
    "duration": 16,
    "start_time": "2022-09-18T11:08:32.369Z"
   },
   {
    "duration": 252,
    "start_time": "2022-09-18T11:10:17.404Z"
   },
   {
    "duration": 120,
    "start_time": "2022-09-18T11:10:56.764Z"
   },
   {
    "duration": 140,
    "start_time": "2022-09-18T11:11:49.562Z"
   },
   {
    "duration": 181,
    "start_time": "2022-09-18T11:14:38.874Z"
   },
   {
    "duration": 157,
    "start_time": "2022-09-18T11:14:45.862Z"
   },
   {
    "duration": 160,
    "start_time": "2022-09-18T11:14:53.562Z"
   },
   {
    "duration": 152,
    "start_time": "2022-09-18T11:15:02.317Z"
   },
   {
    "duration": 158,
    "start_time": "2022-09-18T11:15:26.509Z"
   },
   {
    "duration": 148,
    "start_time": "2022-09-18T11:17:28.901Z"
   },
   {
    "duration": 48,
    "start_time": "2022-09-18T11:22:22.310Z"
   },
   {
    "duration": 6,
    "start_time": "2022-09-18T12:09:06.013Z"
   },
   {
    "duration": 8,
    "start_time": "2022-09-18T12:09:49.906Z"
   },
   {
    "duration": 7,
    "start_time": "2022-09-18T12:10:56.698Z"
   },
   {
    "duration": 8,
    "start_time": "2022-09-18T12:11:19.226Z"
   },
   {
    "duration": 7,
    "start_time": "2022-09-18T12:12:11.320Z"
   },
   {
    "duration": 10,
    "start_time": "2022-09-18T12:12:12.354Z"
   },
   {
    "duration": 8,
    "start_time": "2022-09-18T12:12:18.147Z"
   },
   {
    "duration": 10,
    "start_time": "2022-09-18T12:12:29.400Z"
   },
   {
    "duration": 11,
    "start_time": "2022-09-18T12:13:55.800Z"
   },
   {
    "duration": 107,
    "start_time": "2022-09-18T12:14:35.874Z"
   },
   {
    "duration": 359,
    "start_time": "2022-09-18T12:15:11.108Z"
   },
   {
    "duration": 107,
    "start_time": "2022-09-18T12:15:25.193Z"
   },
   {
    "duration": 341,
    "start_time": "2022-09-18T12:16:46.221Z"
   },
   {
    "duration": 24,
    "start_time": "2022-09-18T12:17:12.204Z"
   },
   {
    "duration": 324,
    "start_time": "2022-09-18T12:17:52.962Z"
   },
   {
    "duration": 15,
    "start_time": "2022-09-18T12:18:17.451Z"
   },
   {
    "duration": 452,
    "start_time": "2022-09-18T12:18:33.567Z"
   },
   {
    "duration": 348,
    "start_time": "2022-09-18T12:20:55.048Z"
   },
   {
    "duration": 108,
    "start_time": "2022-09-18T12:21:26.920Z"
   },
   {
    "duration": 125,
    "start_time": "2022-09-18T12:21:55.954Z"
   },
   {
    "duration": 130,
    "start_time": "2022-09-18T12:26:55.403Z"
   },
   {
    "duration": 134,
    "start_time": "2022-09-18T12:28:12.412Z"
   },
   {
    "duration": 7,
    "start_time": "2022-09-18T12:30:27.204Z"
   },
   {
    "duration": 8,
    "start_time": "2022-09-18T12:31:26.388Z"
   },
   {
    "duration": 8,
    "start_time": "2022-09-18T12:32:02.705Z"
   },
   {
    "duration": 12,
    "start_time": "2022-09-18T12:32:21.603Z"
   },
   {
    "duration": 124,
    "start_time": "2022-09-18T12:33:17.387Z"
   },
   {
    "duration": 114,
    "start_time": "2022-09-18T12:33:33.421Z"
   },
   {
    "duration": 140,
    "start_time": "2022-09-18T12:34:59.106Z"
   },
   {
    "duration": 138,
    "start_time": "2022-09-18T12:35:08.075Z"
   },
   {
    "duration": 141,
    "start_time": "2022-09-18T12:35:20.458Z"
   },
   {
    "duration": 450,
    "start_time": "2022-09-18T12:41:34.315Z"
   },
   {
    "duration": 23,
    "start_time": "2022-09-18T12:41:34.767Z"
   },
   {
    "duration": 22,
    "start_time": "2022-09-18T12:41:34.792Z"
   },
   {
    "duration": 9,
    "start_time": "2022-09-18T12:41:34.817Z"
   },
   {
    "duration": 48,
    "start_time": "2022-09-18T12:41:34.828Z"
   },
   {
    "duration": 3,
    "start_time": "2022-09-18T12:41:34.877Z"
   },
   {
    "duration": 12,
    "start_time": "2022-09-18T12:41:34.882Z"
   },
   {
    "duration": 6,
    "start_time": "2022-09-18T12:41:34.896Z"
   },
   {
    "duration": 9,
    "start_time": "2022-09-18T12:41:34.904Z"
   },
   {
    "duration": 4,
    "start_time": "2022-09-18T12:41:34.917Z"
   },
   {
    "duration": 54,
    "start_time": "2022-09-18T12:41:34.923Z"
   },
   {
    "duration": 8,
    "start_time": "2022-09-18T12:41:34.979Z"
   },
   {
    "duration": 4,
    "start_time": "2022-09-18T12:41:34.989Z"
   },
   {
    "duration": 19,
    "start_time": "2022-09-18T12:41:34.994Z"
   },
   {
    "duration": 21,
    "start_time": "2022-09-18T12:41:35.014Z"
   },
   {
    "duration": 31,
    "start_time": "2022-09-18T12:41:35.037Z"
   },
   {
    "duration": 3,
    "start_time": "2022-09-18T12:41:35.070Z"
   },
   {
    "duration": 15,
    "start_time": "2022-09-18T12:41:35.075Z"
   },
   {
    "duration": 6,
    "start_time": "2022-09-18T12:41:35.091Z"
   },
   {
    "duration": 6,
    "start_time": "2022-09-18T12:41:35.098Z"
   },
   {
    "duration": 13,
    "start_time": "2022-09-18T12:41:35.106Z"
   },
   {
    "duration": 35,
    "start_time": "2022-09-18T12:41:35.121Z"
   },
   {
    "duration": 9,
    "start_time": "2022-09-18T12:41:35.158Z"
   },
   {
    "duration": 8,
    "start_time": "2022-09-18T12:41:35.169Z"
   },
   {
    "duration": 7,
    "start_time": "2022-09-18T12:41:35.179Z"
   },
   {
    "duration": 818,
    "start_time": "2022-09-18T12:41:35.188Z"
   },
   {
    "duration": 156,
    "start_time": "2022-09-18T12:41:36.008Z"
   },
   {
    "duration": 9,
    "start_time": "2022-09-18T12:41:36.167Z"
   },
   {
    "duration": 5,
    "start_time": "2022-09-18T12:41:36.177Z"
   },
   {
    "duration": 11,
    "start_time": "2022-09-18T12:41:36.183Z"
   },
   {
    "duration": 8,
    "start_time": "2022-09-18T12:41:36.195Z"
   },
   {
    "duration": 14,
    "start_time": "2022-09-18T12:41:36.204Z"
   },
   {
    "duration": 166,
    "start_time": "2022-09-18T12:41:36.220Z"
   },
   {
    "duration": 7,
    "start_time": "2022-09-18T12:41:36.387Z"
   },
   {
    "duration": 12,
    "start_time": "2022-09-18T12:41:36.395Z"
   },
   {
    "duration": 7,
    "start_time": "2022-09-18T12:41:36.409Z"
   },
   {
    "duration": 10,
    "start_time": "2022-09-18T12:41:36.417Z"
   },
   {
    "duration": 165,
    "start_time": "2022-09-18T12:41:36.428Z"
   },
   {
    "duration": 7,
    "start_time": "2022-09-18T12:41:36.595Z"
   },
   {
    "duration": 8,
    "start_time": "2022-09-18T12:41:36.605Z"
   },
   {
    "duration": 7,
    "start_time": "2022-09-18T12:41:36.615Z"
   },
   {
    "duration": 34,
    "start_time": "2022-09-18T12:41:36.623Z"
   },
   {
    "duration": 149,
    "start_time": "2022-09-18T12:41:36.659Z"
   },
   {
    "duration": 21,
    "start_time": "2022-09-18T13:23:49.798Z"
   },
   {
    "duration": 18,
    "start_time": "2022-09-18T13:23:56.759Z"
   },
   {
    "duration": 448,
    "start_time": "2022-09-18T13:24:19.402Z"
   },
   {
    "duration": 24,
    "start_time": "2022-09-18T13:24:19.852Z"
   },
   {
    "duration": 16,
    "start_time": "2022-09-18T13:24:19.878Z"
   },
   {
    "duration": 11,
    "start_time": "2022-09-18T13:24:19.896Z"
   },
   {
    "duration": 79,
    "start_time": "2022-09-18T13:24:19.910Z"
   },
   {
    "duration": 4,
    "start_time": "2022-09-18T13:24:19.991Z"
   },
   {
    "duration": 20,
    "start_time": "2022-09-18T13:24:19.997Z"
   },
   {
    "duration": 10,
    "start_time": "2022-09-18T13:24:20.019Z"
   },
   {
    "duration": 26,
    "start_time": "2022-09-18T13:24:20.032Z"
   },
   {
    "duration": 5,
    "start_time": "2022-09-18T13:24:20.060Z"
   },
   {
    "duration": 41,
    "start_time": "2022-09-18T13:24:20.066Z"
   },
   {
    "duration": 10,
    "start_time": "2022-09-18T13:24:20.109Z"
   },
   {
    "duration": 11,
    "start_time": "2022-09-18T13:24:20.121Z"
   },
   {
    "duration": 25,
    "start_time": "2022-09-18T13:24:20.136Z"
   },
   {
    "duration": 34,
    "start_time": "2022-09-18T13:24:20.162Z"
   },
   {
    "duration": 19,
    "start_time": "2022-09-18T13:24:20.197Z"
   },
   {
    "duration": 4,
    "start_time": "2022-09-18T13:24:20.218Z"
   },
   {
    "duration": 35,
    "start_time": "2022-09-18T13:24:20.223Z"
   },
   {
    "duration": 6,
    "start_time": "2022-09-18T13:24:20.260Z"
   },
   {
    "duration": 6,
    "start_time": "2022-09-18T13:24:20.268Z"
   },
   {
    "duration": 15,
    "start_time": "2022-09-18T13:24:20.276Z"
   },
   {
    "duration": 7,
    "start_time": "2022-09-18T13:24:20.293Z"
   },
   {
    "duration": 7,
    "start_time": "2022-09-18T13:24:20.302Z"
   },
   {
    "duration": 10,
    "start_time": "2022-09-18T13:24:20.311Z"
   },
   {
    "duration": 36,
    "start_time": "2022-09-18T13:24:20.324Z"
   },
   {
    "duration": 762,
    "start_time": "2022-09-18T13:24:20.361Z"
   },
   {
    "duration": 158,
    "start_time": "2022-09-18T13:24:21.125Z"
   },
   {
    "duration": 11,
    "start_time": "2022-09-18T13:24:21.285Z"
   },
   {
    "duration": 6,
    "start_time": "2022-09-18T13:24:21.298Z"
   },
   {
    "duration": 19,
    "start_time": "2022-09-18T13:24:21.306Z"
   },
   {
    "duration": 14,
    "start_time": "2022-09-18T13:24:21.327Z"
   },
   {
    "duration": 24,
    "start_time": "2022-09-18T13:24:21.343Z"
   },
   {
    "duration": 208,
    "start_time": "2022-09-18T13:24:21.369Z"
   },
   {
    "duration": 9,
    "start_time": "2022-09-18T13:24:21.579Z"
   },
   {
    "duration": 31,
    "start_time": "2022-09-18T13:24:21.590Z"
   },
   {
    "duration": 18,
    "start_time": "2022-09-18T13:24:21.622Z"
   },
   {
    "duration": 21,
    "start_time": "2022-09-18T13:24:21.642Z"
   },
   {
    "duration": 169,
    "start_time": "2022-09-18T13:24:21.665Z"
   },
   {
    "duration": 7,
    "start_time": "2022-09-18T13:24:21.836Z"
   },
   {
    "duration": 12,
    "start_time": "2022-09-18T13:24:21.853Z"
   },
   {
    "duration": 8,
    "start_time": "2022-09-18T13:24:21.868Z"
   },
   {
    "duration": 14,
    "start_time": "2022-09-18T13:24:21.877Z"
   },
   {
    "duration": 178,
    "start_time": "2022-09-18T13:24:21.893Z"
   },
   {
    "duration": 154,
    "start_time": "2022-09-18T13:31:58.550Z"
   },
   {
    "duration": 445,
    "start_time": "2022-09-18T13:34:29.601Z"
   },
   {
    "duration": 23,
    "start_time": "2022-09-18T13:34:30.049Z"
   },
   {
    "duration": 21,
    "start_time": "2022-09-18T13:34:30.074Z"
   },
   {
    "duration": 16,
    "start_time": "2022-09-18T13:34:30.097Z"
   },
   {
    "duration": 71,
    "start_time": "2022-09-18T13:34:30.116Z"
   },
   {
    "duration": 4,
    "start_time": "2022-09-18T13:34:30.189Z"
   },
   {
    "duration": 29,
    "start_time": "2022-09-18T13:34:30.196Z"
   },
   {
    "duration": 25,
    "start_time": "2022-09-18T13:34:30.227Z"
   },
   {
    "duration": 25,
    "start_time": "2022-09-18T13:34:30.254Z"
   },
   {
    "duration": 21,
    "start_time": "2022-09-18T13:34:30.281Z"
   },
   {
    "duration": 69,
    "start_time": "2022-09-18T13:34:30.304Z"
   },
   {
    "duration": 9,
    "start_time": "2022-09-18T13:34:30.375Z"
   },
   {
    "duration": 20,
    "start_time": "2022-09-18T13:34:30.386Z"
   },
   {
    "duration": 26,
    "start_time": "2022-09-18T13:34:30.409Z"
   },
   {
    "duration": 54,
    "start_time": "2022-09-18T13:34:30.437Z"
   },
   {
    "duration": 20,
    "start_time": "2022-09-18T13:34:30.493Z"
   },
   {
    "duration": 17,
    "start_time": "2022-09-18T13:34:30.515Z"
   },
   {
    "duration": 19,
    "start_time": "2022-09-18T13:34:30.534Z"
   },
   {
    "duration": 35,
    "start_time": "2022-09-18T13:34:30.554Z"
   },
   {
    "duration": 20,
    "start_time": "2022-09-18T13:34:30.591Z"
   },
   {
    "duration": 29,
    "start_time": "2022-09-18T13:34:30.613Z"
   },
   {
    "duration": 41,
    "start_time": "2022-09-18T13:34:30.644Z"
   },
   {
    "duration": 37,
    "start_time": "2022-09-18T13:34:30.686Z"
   },
   {
    "duration": 29,
    "start_time": "2022-09-18T13:34:30.724Z"
   },
   {
    "duration": 20,
    "start_time": "2022-09-18T13:34:30.754Z"
   },
   {
    "duration": 868,
    "start_time": "2022-09-18T13:34:30.776Z"
   },
   {
    "duration": 191,
    "start_time": "2022-09-18T13:34:31.647Z"
   },
   {
    "duration": 14,
    "start_time": "2022-09-18T13:34:31.840Z"
   },
   {
    "duration": 6,
    "start_time": "2022-09-18T13:34:31.855Z"
   },
   {
    "duration": 16,
    "start_time": "2022-09-18T13:34:31.863Z"
   },
   {
    "duration": 10,
    "start_time": "2022-09-18T13:34:31.881Z"
   },
   {
    "duration": 16,
    "start_time": "2022-09-18T13:34:31.892Z"
   },
   {
    "duration": 170,
    "start_time": "2022-09-18T13:34:31.909Z"
   },
   {
    "duration": 6,
    "start_time": "2022-09-18T13:34:32.081Z"
   },
   {
    "duration": 12,
    "start_time": "2022-09-18T13:34:32.089Z"
   },
   {
    "duration": 8,
    "start_time": "2022-09-18T13:34:32.103Z"
   },
   {
    "duration": 16,
    "start_time": "2022-09-18T13:34:32.113Z"
   },
   {
    "duration": 189,
    "start_time": "2022-09-18T13:34:32.155Z"
   },
   {
    "duration": 12,
    "start_time": "2022-09-18T13:34:32.347Z"
   },
   {
    "duration": 14,
    "start_time": "2022-09-18T13:34:32.361Z"
   },
   {
    "duration": 10,
    "start_time": "2022-09-18T13:34:32.380Z"
   },
   {
    "duration": 31,
    "start_time": "2022-09-18T13:34:32.392Z"
   },
   {
    "duration": 181,
    "start_time": "2022-09-18T13:34:32.426Z"
   }
  ],
  "celltoolbar": "Отсутствует",
  "colab": {
   "provenance": []
  },
  "kernelspec": {
   "display_name": "Python 3 (ipykernel)",
   "language": "python",
   "name": "python3"
  },
  "language_info": {
   "codemirror_mode": {
    "name": "ipython",
    "version": 3
   },
   "file_extension": ".py",
   "mimetype": "text/x-python",
   "name": "python",
   "nbconvert_exporter": "python",
   "pygments_lexer": "ipython3",
   "version": "3.9.13"
  },
  "toc": {
   "base_numbering": 1,
   "nav_menu": {},
   "number_sections": true,
   "sideBar": true,
   "skip_h1_title": true,
   "title_cell": "Table of Contents",
   "title_sidebar": "Contents",
   "toc_cell": false,
   "toc_position": {},
   "toc_section_display": true,
   "toc_window_display": false
  }
 },
 "nbformat": 4,
 "nbformat_minor": 5
}
